{
 "cells": [
  {
   "cell_type": "markdown",
   "metadata": {},
   "source": [
    "# ML for Econ Analysis Project 1 - Peru\n",
    "name here\n",
    "## 1 Problem Description\n",
    "blablablabla\n"
   ]
  },
  {
   "cell_type": "code",
   "execution_count": null,
   "metadata": {},
   "outputs": [],
   "source": [
    "# install packages\n",
    "#!pip install scikit-neuralnetwork\n",
    "#!pip install lightgbm\n",
    "#! pip install mlxtend"
   ]
  },
  {
   "cell_type": "code",
   "execution_count": 1,
   "metadata": {},
   "outputs": [],
   "source": [
    "# Import everything\n",
    "import pandas as pd\n",
    "import numpy as np\n",
    "from numpy.linalg import inv\n",
    "from numpy.random import normal as rnorm\n",
    "import itertools\n",
    "import time\n",
    "import statsmodels.api as sm\n",
    "\n",
    "# for plot\n",
    "import seaborn as sns\n",
    "#stata-like output\n",
    "import statsmodels.api as sm\n",
    "import statsmodels.formula.api as smf\n",
    "\n",
    "#for missing values\n",
    "import missingno as msno\n",
    "from sklearn.impute import SimpleImputer"
   ]
  },
  {
   "cell_type": "code",
   "execution_count": 2,
   "metadata": {},
   "outputs": [],
   "source": [
    "#classifiaction.\n",
    "from sklearn.linear_model import LogisticRegression\n",
    "from sklearn.svm import LinearSVC,SVC\n",
    "from sklearn.neighbors import KNeighborsClassifier\n",
    "from sklearn.ensemble import RandomForestClassifier,GradientBoostingClassifier,AdaBoostClassifier\n",
    "from sklearn.tree import DecisionTreeClassifier\n",
    "from sklearn.naive_bayes import GaussianNB\n",
    "from sklearn import neural_network\n",
    " \n",
    "#regression\n",
    "from sklearn.linear_model import LinearRegression,Ridge,Lasso,RidgeCV\n",
    "from sklearn.ensemble import RandomForestRegressor,BaggingRegressor,GradientBoostingRegressor,AdaBoostRegressor\n",
    "from sklearn.svm import SVR\n",
    "from sklearn.neighbors import KNeighborsRegressor\n",
    "from sklearn.linear_model import LassoCV\n",
    "from sklearn.linear_model import RidgeCV\n",
    "from sklearn.neural_network import MLPRegressor\n",
    "from lightgbm import LGBMRegressor\n",
    "\n",
    "\n",
    "#model selection\n",
    "from sklearn.model_selection import train_test_split,cross_validate\n",
    "from sklearn.model_selection import KFold\n",
    "from sklearn.model_selection import GridSearchCV\n",
    "from sklearn.model_selection import cross_val_score\n",
    "from mlxtend.feature_selection import SequentialFeatureSelector as SFS\n",
    "\n",
    "#preprocessing\n",
    "from sklearn.preprocessing import MinMaxScaler,StandardScaler,LabelEncoder\n",
    "from sklearn.impute import SimpleImputer\n",
    "\n",
    "#evaluation metrics\n",
    "from sklearn.metrics import mean_squared_log_error,mean_squared_error, r2_score,mean_absolute_error # for regression\n",
    "from sklearn.metrics import accuracy_score,precision_score,recall_score,f1_score  # for classification\n",
    "import sklearn.metrics as metrics\n",
    "from sklearn.metrics import mean_squared_error"
   ]
  },
  {
   "cell_type": "code",
   "execution_count": 3,
   "metadata": {},
   "outputs": [],
   "source": [
    "# Import matplotlib for graphs\n",
    "import matplotlib.pyplot as plt\n",
    "from mlxtend.plotting import plot_sequential_feature_selection as plot_sfs\n",
    "\n",
    "# Set global parameters\n",
    "%matplotlib inline\n",
    "plt.style.use('seaborn-white')\n",
    "plt.rcParams['lines.linewidth'] = 3\n",
    "plt.rcParams['figure.figsize'] = (10,6)\n",
    "plt.rcParams['figure.titlesize'] = 20\n",
    "plt.rcParams['axes.titlesize'] = 18\n",
    "plt.rcParams['axes.labelsize'] = 14\n",
    "plt.rcParams['legend.fontsize'] = 14"
   ]
  },
  {
   "cell_type": "markdown",
   "metadata": {},
   "source": [
    "# 2 Data Preprocessing\n",
    "to check the missing value of data, visulize the data to get a \"feel\", and normalize the data"
   ]
  },
  {
   "cell_type": "markdown",
   "metadata": {},
   "source": [
    "## 2.1 Dataset acquisition\n",
    "we use pd.read_csv to read the csv file as dataframe data type."
   ]
  },
  {
   "cell_type": "code",
   "execution_count": 4,
   "metadata": {},
   "outputs": [
    {
     "name": "stdout",
     "output_type": "stream",
     "text": [
      "<class 'pandas.core.frame.DataFrame'>\n",
      "RangeIndex: 46305 entries, 0 to 46304\n",
      "Data columns (total 86 columns):\n",
      " #   Column                   Non-Null Count  Dtype  \n",
      "---  ------                   --------------  -----  \n",
      " 0   lnpercapitaconsumption   46305 non-null  float64\n",
      " 1   d_fuel_other             46305 non-null  int64  \n",
      " 2   d_fuel_wood              46305 non-null  int64  \n",
      " 3   d_fuel_coal              46305 non-null  int64  \n",
      " 4   d_fuel_kerosene          46305 non-null  int64  \n",
      " 5   d_fuel_gas               46305 non-null  int64  \n",
      " 6   d_fuel_electric          46305 non-null  int64  \n",
      " 7   d_fuel_none              46305 non-null  int64  \n",
      " 8   d_water_other            46305 non-null  int64  \n",
      " 9   d_water_river            46305 non-null  int64  \n",
      " 10  d_water_well             46305 non-null  int64  \n",
      " 11  d_water_truck            46305 non-null  int64  \n",
      " 12  d_water_pylon            46305 non-null  int64  \n",
      " 13  d_water_outside          46305 non-null  int64  \n",
      " 14  d_water_inside           46305 non-null  int64  \n",
      " 15  d_drain_none             46305 non-null  int64  \n",
      " 16  d_drain_river            46305 non-null  int64  \n",
      " 17  d_drain_cesspool         46305 non-null  int64  \n",
      " 18  d_drain_septic           46305 non-null  int64  \n",
      " 19  d_drain_outside          46305 non-null  int64  \n",
      " 20  d_drain_inside           46305 non-null  int64  \n",
      " 21  d_wall_other             45382 non-null  float64\n",
      " 22  d_wall_woodmat           45382 non-null  float64\n",
      " 23  d_wall_stonemud          45382 non-null  float64\n",
      " 24  d_wall_quincha           45382 non-null  float64\n",
      " 25  d_wall_tapia             45382 non-null  float64\n",
      " 26  d_wall_adobe             45382 non-null  float64\n",
      " 27  d_wall_stonecement       45382 non-null  float64\n",
      " 28  d_wall_brickcement       45382 non-null  float64\n",
      " 29  d_roof_other             45382 non-null  float64\n",
      " 30  d_roof_straw             45382 non-null  float64\n",
      " 31  d_roof_mat               45382 non-null  float64\n",
      " 32  d_roof_platecane         45382 non-null  float64\n",
      " 33  d_roof_tile              45382 non-null  float64\n",
      " 34  d_roof_wood              45382 non-null  float64\n",
      " 35  d_roof_concrete          45382 non-null  float64\n",
      " 36  d_floor_other            45382 non-null  float64\n",
      " 37  d_floor_earth            45382 non-null  float64\n",
      " 38  d_floor_cement           45382 non-null  float64\n",
      " 39  d_floor_wood             45382 non-null  float64\n",
      " 40  d_floor_tile             45382 non-null  float64\n",
      " 41  d_floor_sheets           45382 non-null  float64\n",
      " 42  d_floor_parquet          45382 non-null  float64\n",
      " 43  d_electricity            46305 non-null  int64  \n",
      " 44  d_telephone              46305 non-null  int64  \n",
      " 45  d_h_educ_none            46301 non-null  float64\n",
      " 46  d_h_educ_pre             46301 non-null  float64\n",
      " 47  d_h_educ_prim            46301 non-null  float64\n",
      " 48  d_h_educ_sec             46301 non-null  float64\n",
      " 49  d_h_educ_higher_nouni    46301 non-null  float64\n",
      " 50  d_h_educ_higher_uni      46301 non-null  float64\n",
      " 51  d_h_educ_post            46301 non-null  float64\n",
      " 52  d_max_educ_none          46305 non-null  int64  \n",
      " 53  d_max_educ_prim          46305 non-null  int64  \n",
      " 54  d_max_educ_sec           46305 non-null  int64  \n",
      " 55  d_max_educ_higher_nouni  46305 non-null  int64  \n",
      " 56  d_max_educ_higher_uni    46305 non-null  int64  \n",
      " 57  d_insurance_0            46305 non-null  int64  \n",
      " 58  d_insurance_1            46305 non-null  int64  \n",
      " 59  d_insurance_2            46305 non-null  int64  \n",
      " 60  d_insurance_3            46305 non-null  int64  \n",
      " 61  d_insurance_4plus        46305 non-null  int64  \n",
      " 62  d_crowd_lessthan1        45382 non-null  float64\n",
      " 63  d_crowd_1to2             45382 non-null  float64\n",
      " 64  d_crowd_2to4             45382 non-null  float64\n",
      " 65  d_crowd_4to6             45382 non-null  float64\n",
      " 66  d_crowd_6plus            45382 non-null  float64\n",
      " 67  d_lux_0                  46305 non-null  int64  \n",
      " 68  d_lux_1                  46305 non-null  int64  \n",
      " 69  d_lux_2                  46305 non-null  int64  \n",
      " 70  d_lux_3                  46305 non-null  int64  \n",
      " 71  d_lux_4                  46305 non-null  int64  \n",
      " 72  d_lux_5                  46305 non-null  int64  \n",
      " 73  internet                 46305 non-null  int64  \n",
      " 74  cable                    46305 non-null  int64  \n",
      " 75  computer                 45307 non-null  float64\n",
      " 76  refrigerator             45306 non-null  float64\n",
      " 77  washer                   45306 non-null  float64\n",
      " 78  training                 46305 non-null  int64  \n",
      " 79  percapitaconsumption     46305 non-null  float64\n",
      " 80  poor                     46305 non-null  int64  \n",
      " 81  h_hhsize                 46305 non-null  int64  \n",
      " 82  id_for_matlab            46305 non-null  int64  \n",
      " 83  hhid                     46305 non-null  int64  \n",
      " 84  lncaphat_OLS             45378 non-null  float64\n",
      " 85  percapitahat_OLS         45378 non-null  float64\n",
      "dtypes: float64(41), int64(45)\n",
      "memory usage: 30.4 MB\n"
     ]
    }
   ],
   "source": [
    "# Peru data\n",
    "peru = pd.read_csv('datasets/Project1_CompletaData.csv')\n",
    "peru.head()\n",
    "# Overview of all variables\n",
    "peru.info()"
   ]
  },
  {
   "cell_type": "markdown",
   "metadata": {},
   "source": [
    "## 2.2 Cleaning the Data\n",
    "We check our dataset by detecting whether it contains null, Nan values or missing values."
   ]
  },
  {
   "cell_type": "code",
   "execution_count": 5,
   "metadata": {},
   "outputs": [
    {
     "data": {
      "text/plain": [
       "lnpercapitaconsumption      0\n",
       "d_fuel_other                0\n",
       "d_fuel_wood                 0\n",
       "d_fuel_coal                 0\n",
       "d_fuel_kerosene             0\n",
       "                         ... \n",
       "h_hhsize                    0\n",
       "id_for_matlab               0\n",
       "hhid                        0\n",
       "lncaphat_OLS              927\n",
       "percapitahat_OLS          927\n",
       "Length: 86, dtype: int64"
      ]
     },
     "execution_count": 5,
     "metadata": {},
     "output_type": "execute_result"
    }
   ],
   "source": [
    "peru.isnull().sum()"
   ]
  },
  {
   "cell_type": "code",
   "execution_count": 6,
   "metadata": {},
   "outputs": [
    {
     "data": {
      "text/plain": [
       "'d_fuel_wood'"
      ]
     },
     "execution_count": 6,
     "metadata": {},
     "output_type": "execute_result"
    }
   ],
   "source": [
    "columnNames = peru.columns.values.tolist()\n",
    "columnNames[2]"
   ]
  },
  {
   "cell_type": "code",
   "execution_count": 7,
   "metadata": {},
   "outputs": [
    {
     "data": {
      "text/html": [
       "<div>\n",
       "<style scoped>\n",
       "    .dataframe tbody tr th:only-of-type {\n",
       "        vertical-align: middle;\n",
       "    }\n",
       "\n",
       "    .dataframe tbody tr th {\n",
       "        vertical-align: top;\n",
       "    }\n",
       "\n",
       "    .dataframe thead th {\n",
       "        text-align: right;\n",
       "    }\n",
       "</style>\n",
       "<table border=\"1\" class=\"dataframe\">\n",
       "  <thead>\n",
       "    <tr style=\"text-align: right;\">\n",
       "      <th></th>\n",
       "      <th>d_wall_woodmat</th>\n",
       "      <th>d_wall_stonemud</th>\n",
       "      <th>d_wall_quincha</th>\n",
       "      <th>d_wall_tapia</th>\n",
       "      <th>d_wall_adobe</th>\n",
       "      <th>d_wall_stonecement</th>\n",
       "      <th>d_wall_brickcement</th>\n",
       "      <th>d_roof_other</th>\n",
       "    </tr>\n",
       "  </thead>\n",
       "  <tbody>\n",
       "    <tr>\n",
       "      <th>25</th>\n",
       "      <td>NaN</td>\n",
       "      <td>NaN</td>\n",
       "      <td>NaN</td>\n",
       "      <td>NaN</td>\n",
       "      <td>NaN</td>\n",
       "      <td>NaN</td>\n",
       "      <td>NaN</td>\n",
       "      <td>NaN</td>\n",
       "    </tr>\n",
       "    <tr>\n",
       "      <th>26</th>\n",
       "      <td>0.0</td>\n",
       "      <td>0.0</td>\n",
       "      <td>0.0</td>\n",
       "      <td>1.0</td>\n",
       "      <td>0.0</td>\n",
       "      <td>0.0</td>\n",
       "      <td>0.0</td>\n",
       "      <td>0.0</td>\n",
       "    </tr>\n",
       "  </tbody>\n",
       "</table>\n",
       "</div>"
      ],
      "text/plain": [
       "    d_wall_woodmat  d_wall_stonemud  d_wall_quincha  d_wall_tapia  \\\n",
       "25             NaN              NaN             NaN           NaN   \n",
       "26             0.0              0.0             0.0           1.0   \n",
       "\n",
       "    d_wall_adobe  d_wall_stonecement  d_wall_brickcement  d_roof_other  \n",
       "25           NaN                 NaN                 NaN           NaN  \n",
       "26           0.0                 0.0                 0.0           0.0  "
      ]
     },
     "execution_count": 7,
     "metadata": {},
     "output_type": "execute_result"
    }
   ],
   "source": [
    "peru.loc[25:26,columnNames[22:30]]"
   ]
  },
  {
   "cell_type": "code",
   "execution_count": 8,
   "metadata": {},
   "outputs": [
    {
     "data": {
      "text/plain": [
       "<AxesSubplot:>"
      ]
     },
     "execution_count": 8,
     "metadata": {},
     "output_type": "execute_result"
    },
    {
     "data": {
      "image/png": "[encoded data removed]",
      "text/plain": [
       "<Figure size 1800x720 with 2 Axes>"
      ]
     },
     "metadata": {},
     "output_type": "display_data"
    }
   ],
   "source": [
    "# Visualize no missing values\n",
    "msno.matrix(peru)"
   ]
  },
  {
   "cell_type": "code",
   "execution_count": 9,
   "metadata": {},
   "outputs": [
    {
     "data": {
      "text/html": [
       "<div>\n",
       "<style scoped>\n",
       "    .dataframe tbody tr th:only-of-type {\n",
       "        vertical-align: middle;\n",
       "    }\n",
       "\n",
       "    .dataframe tbody tr th {\n",
       "        vertical-align: top;\n",
       "    }\n",
       "\n",
       "    .dataframe thead th {\n",
       "        text-align: right;\n",
       "    }\n",
       "</style>\n",
       "<table border=\"1\" class=\"dataframe\">\n",
       "  <thead>\n",
       "    <tr style=\"text-align: right;\">\n",
       "      <th></th>\n",
       "      <th>lnpercapitaconsumption</th>\n",
       "      <th>d_fuel_other</th>\n",
       "      <th>d_fuel_wood</th>\n",
       "      <th>d_fuel_coal</th>\n",
       "      <th>d_fuel_kerosene</th>\n",
       "      <th>d_fuel_gas</th>\n",
       "      <th>d_fuel_electric</th>\n",
       "      <th>d_fuel_none</th>\n",
       "      <th>d_water_other</th>\n",
       "      <th>d_water_river</th>\n",
       "      <th>...</th>\n",
       "      <th>refrigerator</th>\n",
       "      <th>washer</th>\n",
       "      <th>training</th>\n",
       "      <th>percapitaconsumption</th>\n",
       "      <th>poor</th>\n",
       "      <th>h_hhsize</th>\n",
       "      <th>id_for_matlab</th>\n",
       "      <th>hhid</th>\n",
       "      <th>lncaphat_OLS</th>\n",
       "      <th>percapitahat_OLS</th>\n",
       "    </tr>\n",
       "  </thead>\n",
       "  <tbody>\n",
       "    <tr>\n",
       "      <th>count</th>\n",
       "      <td>46305.000000</td>\n",
       "      <td>46305.000000</td>\n",
       "      <td>46305.000000</td>\n",
       "      <td>46305.000000</td>\n",
       "      <td>46305.000000</td>\n",
       "      <td>46305.000000</td>\n",
       "      <td>46305.000000</td>\n",
       "      <td>46305.000000</td>\n",
       "      <td>46305.000000</td>\n",
       "      <td>46305.000000</td>\n",
       "      <td>...</td>\n",
       "      <td>45306.000000</td>\n",
       "      <td>45306.000000</td>\n",
       "      <td>46305.000000</td>\n",
       "      <td>46305.000000</td>\n",
       "      <td>46305.000000</td>\n",
       "      <td>46305.000000</td>\n",
       "      <td>46305.000000</td>\n",
       "      <td>4.630500e+04</td>\n",
       "      <td>45378.000000</td>\n",
       "      <td>45378.000000</td>\n",
       "    </tr>\n",
       "    <tr>\n",
       "      <th>mean</th>\n",
       "      <td>5.856564</td>\n",
       "      <td>0.104244</td>\n",
       "      <td>0.307202</td>\n",
       "      <td>0.025656</td>\n",
       "      <td>0.004557</td>\n",
       "      <td>0.518734</td>\n",
       "      <td>0.007796</td>\n",
       "      <td>0.031811</td>\n",
       "      <td>0.041421</td>\n",
       "      <td>0.207947</td>\n",
       "      <td>...</td>\n",
       "      <td>0.360504</td>\n",
       "      <td>0.132565</td>\n",
       "      <td>0.500011</td>\n",
       "      <td>461.243627</td>\n",
       "      <td>0.280207</td>\n",
       "      <td>4.012094</td>\n",
       "      <td>23153.000000</td>\n",
       "      <td>1.869936e+08</td>\n",
       "      <td>5.850041</td>\n",
       "      <td>459.121087</td>\n",
       "    </tr>\n",
       "    <tr>\n",
       "      <th>std</th>\n",
       "      <td>0.744232</td>\n",
       "      <td>0.305580</td>\n",
       "      <td>0.461339</td>\n",
       "      <td>0.158108</td>\n",
       "      <td>0.067350</td>\n",
       "      <td>0.499654</td>\n",
       "      <td>0.087952</td>\n",
       "      <td>0.175498</td>\n",
       "      <td>0.199264</td>\n",
       "      <td>0.405843</td>\n",
       "      <td>...</td>\n",
       "      <td>0.480152</td>\n",
       "      <td>0.339108</td>\n",
       "      <td>0.500005</td>\n",
       "      <td>411.392663</td>\n",
       "      <td>0.449105</td>\n",
       "      <td>2.093215</td>\n",
       "      <td>13367.246444</td>\n",
       "      <td>1.111905e+08</td>\n",
       "      <td>0.605646</td>\n",
       "      <td>293.660060</td>\n",
       "    </tr>\n",
       "    <tr>\n",
       "      <th>min</th>\n",
       "      <td>2.110213</td>\n",
       "      <td>0.000000</td>\n",
       "      <td>0.000000</td>\n",
       "      <td>0.000000</td>\n",
       "      <td>0.000000</td>\n",
       "      <td>0.000000</td>\n",
       "      <td>0.000000</td>\n",
       "      <td>0.000000</td>\n",
       "      <td>0.000000</td>\n",
       "      <td>0.000000</td>\n",
       "      <td>...</td>\n",
       "      <td>0.000000</td>\n",
       "      <td>0.000000</td>\n",
       "      <td>0.000000</td>\n",
       "      <td>8.250000</td>\n",
       "      <td>0.000000</td>\n",
       "      <td>1.000000</td>\n",
       "      <td>1.000000</td>\n",
       "      <td>1.010110e+05</td>\n",
       "      <td>4.434425</td>\n",
       "      <td>-57.498259</td>\n",
       "    </tr>\n",
       "    <tr>\n",
       "      <th>25%</th>\n",
       "      <td>5.344724</td>\n",
       "      <td>0.000000</td>\n",
       "      <td>0.000000</td>\n",
       "      <td>0.000000</td>\n",
       "      <td>0.000000</td>\n",
       "      <td>0.000000</td>\n",
       "      <td>0.000000</td>\n",
       "      <td>0.000000</td>\n",
       "      <td>0.000000</td>\n",
       "      <td>0.000000</td>\n",
       "      <td>...</td>\n",
       "      <td>0.000000</td>\n",
       "      <td>0.000000</td>\n",
       "      <td>0.000000</td>\n",
       "      <td>209.500000</td>\n",
       "      <td>0.000000</td>\n",
       "      <td>2.000000</td>\n",
       "      <td>11577.000000</td>\n",
       "      <td>9.080021e+07</td>\n",
       "      <td>5.332906</td>\n",
       "      <td>235.941390</td>\n",
       "    </tr>\n",
       "    <tr>\n",
       "      <th>50%</th>\n",
       "      <td>5.876649</td>\n",
       "      <td>0.000000</td>\n",
       "      <td>0.000000</td>\n",
       "      <td>0.000000</td>\n",
       "      <td>0.000000</td>\n",
       "      <td>1.000000</td>\n",
       "      <td>0.000000</td>\n",
       "      <td>0.000000</td>\n",
       "      <td>0.000000</td>\n",
       "      <td>0.000000</td>\n",
       "      <td>...</td>\n",
       "      <td>0.000000</td>\n",
       "      <td>0.000000</td>\n",
       "      <td>1.000000</td>\n",
       "      <td>356.612100</td>\n",
       "      <td>0.000000</td>\n",
       "      <td>4.000000</td>\n",
       "      <td>23153.000000</td>\n",
       "      <td>1.828055e+08</td>\n",
       "      <td>5.871003</td>\n",
       "      <td>404.708715</td>\n",
       "    </tr>\n",
       "    <tr>\n",
       "      <th>75%</th>\n",
       "      <td>6.360625</td>\n",
       "      <td>0.000000</td>\n",
       "      <td>1.000000</td>\n",
       "      <td>0.000000</td>\n",
       "      <td>0.000000</td>\n",
       "      <td>1.000000</td>\n",
       "      <td>0.000000</td>\n",
       "      <td>0.000000</td>\n",
       "      <td>0.000000</td>\n",
       "      <td>0.000000</td>\n",
       "      <td>...</td>\n",
       "      <td>1.000000</td>\n",
       "      <td>0.000000</td>\n",
       "      <td>1.000000</td>\n",
       "      <td>578.607700</td>\n",
       "      <td>1.000000</td>\n",
       "      <td>5.000000</td>\n",
       "      <td>34729.000000</td>\n",
       "      <td>2.814050e+08</td>\n",
       "      <td>6.306364</td>\n",
       "      <td>611.242935</td>\n",
       "    </tr>\n",
       "    <tr>\n",
       "      <th>max</th>\n",
       "      <td>9.663810</td>\n",
       "      <td>1.000000</td>\n",
       "      <td>1.000000</td>\n",
       "      <td>1.000000</td>\n",
       "      <td>1.000000</td>\n",
       "      <td>1.000000</td>\n",
       "      <td>1.000000</td>\n",
       "      <td>1.000000</td>\n",
       "      <td>1.000000</td>\n",
       "      <td>1.000000</td>\n",
       "      <td>...</td>\n",
       "      <td>1.000000</td>\n",
       "      <td>1.000000</td>\n",
       "      <td>1.000000</td>\n",
       "      <td>15737.630000</td>\n",
       "      <td>1.000000</td>\n",
       "      <td>20.000000</td>\n",
       "      <td>46305.000000</td>\n",
       "      <td>4.035098e+08</td>\n",
       "      <td>7.738163</td>\n",
       "      <td>2132.653600</td>\n",
       "    </tr>\n",
       "  </tbody>\n",
       "</table>\n",
       "<p>8 rows × 86 columns</p>\n",
       "</div>"
      ],
      "text/plain": [
       "       lnpercapitaconsumption  d_fuel_other   d_fuel_wood   d_fuel_coal  \\\n",
       "count            46305.000000  46305.000000  46305.000000  46305.000000   \n",
       "mean                 5.856564      0.104244      0.307202      0.025656   \n",
       "std                  0.744232      0.305580      0.461339      0.158108   \n",
       "min                  2.110213      0.000000      0.000000      0.000000   \n",
       "25%                  5.344724      0.000000      0.000000      0.000000   \n",
       "50%                  5.876649      0.000000      0.000000      0.000000   \n",
       "75%                  6.360625      0.000000      1.000000      0.000000   \n",
       "max                  9.663810      1.000000      1.000000      1.000000   \n",
       "\n",
       "       d_fuel_kerosene    d_fuel_gas  d_fuel_electric   d_fuel_none  \\\n",
       "count     46305.000000  46305.000000     46305.000000  46305.000000   \n",
       "mean          0.004557      0.518734         0.007796      0.031811   \n",
       "std           0.067350      0.499654         0.087952      0.175498   \n",
       "min           0.000000      0.000000         0.000000      0.000000   \n",
       "25%           0.000000      0.000000         0.000000      0.000000   \n",
       "50%           0.000000      1.000000         0.000000      0.000000   \n",
       "75%           0.000000      1.000000         0.000000      0.000000   \n",
       "max           1.000000      1.000000         1.000000      1.000000   \n",
       "\n",
       "       d_water_other  d_water_river  ...  refrigerator        washer  \\\n",
       "count   46305.000000   46305.000000  ...  45306.000000  45306.000000   \n",
       "mean        0.041421       0.207947  ...      0.360504      0.132565   \n",
       "std         0.199264       0.405843  ...      0.480152      0.339108   \n",
       "min         0.000000       0.000000  ...      0.000000      0.000000   \n",
       "25%         0.000000       0.000000  ...      0.000000      0.000000   \n",
       "50%         0.000000       0.000000  ...      0.000000      0.000000   \n",
       "75%         0.000000       0.000000  ...      1.000000      0.000000   \n",
       "max         1.000000       1.000000  ...      1.000000      1.000000   \n",
       "\n",
       "           training  percapitaconsumption          poor      h_hhsize  \\\n",
       "count  46305.000000          46305.000000  46305.000000  46305.000000   \n",
       "mean       0.500011            461.243627      0.280207      4.012094   \n",
       "std        0.500005            411.392663      0.449105      2.093215   \n",
       "min        0.000000              8.250000      0.000000      1.000000   \n",
       "25%        0.000000            209.500000      0.000000      2.000000   \n",
       "50%        1.000000            356.612100      0.000000      4.000000   \n",
       "75%        1.000000            578.607700      1.000000      5.000000   \n",
       "max        1.000000          15737.630000      1.000000     20.000000   \n",
       "\n",
       "       id_for_matlab          hhid  lncaphat_OLS  percapitahat_OLS  \n",
       "count   46305.000000  4.630500e+04  45378.000000      45378.000000  \n",
       "mean    23153.000000  1.869936e+08      5.850041        459.121087  \n",
       "std     13367.246444  1.111905e+08      0.605646        293.660060  \n",
       "min         1.000000  1.010110e+05      4.434425        -57.498259  \n",
       "25%     11577.000000  9.080021e+07      5.332906        235.941390  \n",
       "50%     23153.000000  1.828055e+08      5.871003        404.708715  \n",
       "75%     34729.000000  2.814050e+08      6.306364        611.242935  \n",
       "max     46305.000000  4.035098e+08      7.738163       2132.653600  \n",
       "\n",
       "[8 rows x 86 columns]"
      ]
     },
     "execution_count": 9,
     "metadata": {},
     "output_type": "execute_result"
    }
   ],
   "source": [
    "# Visualize the distribution of each feature to get an overview of the dataset.\n",
    "peru.describe(include='all')"
   ]
  },
  {
   "cell_type": "markdown",
   "metadata": {},
   "source": [
    "## 2.3 Split Train-test dataset"
   ]
  },
  {
   "cell_type": "code",
   "execution_count": 10,
   "metadata": {},
   "outputs": [],
   "source": [
    "trainNaN = peru[peru['training']==1]\n",
    "# train = trainNaN.dropna()\n",
    "train=trainNaN.dropna(axis=0, how='any', inplace=False)\n",
    "# train.isnull().sum().sum()\n",
    "\n",
    "# train.to_csv(r'Path where you want to store the exported CSV file\\File Name.csv', index = False)\n",
    "\n",
    "#train.to_csv(r'E:\\ML for EconAna\\Peru\\train_py.csv',index=True ,header=True)\n"
   ]
  },
  {
   "cell_type": "code",
   "execution_count": 11,
   "metadata": {},
   "outputs": [
    {
     "data": {
      "text/html": [
       "<div>\n",
       "<style scoped>\n",
       "    .dataframe tbody tr th:only-of-type {\n",
       "        vertical-align: middle;\n",
       "    }\n",
       "\n",
       "    .dataframe tbody tr th {\n",
       "        vertical-align: top;\n",
       "    }\n",
       "\n",
       "    .dataframe thead th {\n",
       "        text-align: right;\n",
       "    }\n",
       "</style>\n",
       "<table border=\"1\" class=\"dataframe\">\n",
       "  <thead>\n",
       "    <tr style=\"text-align: right;\">\n",
       "      <th></th>\n",
       "      <th>lnpercapitaconsumption</th>\n",
       "      <th>d_fuel_other</th>\n",
       "      <th>d_fuel_wood</th>\n",
       "      <th>d_fuel_coal</th>\n",
       "      <th>d_fuel_kerosene</th>\n",
       "      <th>d_fuel_gas</th>\n",
       "      <th>d_fuel_electric</th>\n",
       "      <th>d_fuel_none</th>\n",
       "      <th>d_water_other</th>\n",
       "      <th>d_water_river</th>\n",
       "      <th>...</th>\n",
       "      <th>refrigerator</th>\n",
       "      <th>washer</th>\n",
       "      <th>training</th>\n",
       "      <th>percapitaconsumption</th>\n",
       "      <th>poor</th>\n",
       "      <th>h_hhsize</th>\n",
       "      <th>id_for_matlab</th>\n",
       "      <th>hhid</th>\n",
       "      <th>lncaphat_OLS</th>\n",
       "      <th>percapitahat_OLS</th>\n",
       "    </tr>\n",
       "  </thead>\n",
       "  <tbody>\n",
       "    <tr>\n",
       "      <th>0</th>\n",
       "      <td>5.351858</td>\n",
       "      <td>0</td>\n",
       "      <td>1</td>\n",
       "      <td>0</td>\n",
       "      <td>0</td>\n",
       "      <td>0</td>\n",
       "      <td>0</td>\n",
       "      <td>0</td>\n",
       "      <td>0</td>\n",
       "      <td>1</td>\n",
       "      <td>...</td>\n",
       "      <td>0.0</td>\n",
       "      <td>0.0</td>\n",
       "      <td>0</td>\n",
       "      <td>211.0000</td>\n",
       "      <td>0</td>\n",
       "      <td>1</td>\n",
       "      <td>1</td>\n",
       "      <td>233710511</td>\n",
       "      <td>5.246471</td>\n",
       "      <td>284.42427</td>\n",
       "    </tr>\n",
       "    <tr>\n",
       "      <th>1</th>\n",
       "      <td>5.768755</td>\n",
       "      <td>0</td>\n",
       "      <td>0</td>\n",
       "      <td>0</td>\n",
       "      <td>0</td>\n",
       "      <td>1</td>\n",
       "      <td>0</td>\n",
       "      <td>0</td>\n",
       "      <td>0</td>\n",
       "      <td>0</td>\n",
       "      <td>...</td>\n",
       "      <td>1.0</td>\n",
       "      <td>0.0</td>\n",
       "      <td>0</td>\n",
       "      <td>320.1389</td>\n",
       "      <td>0</td>\n",
       "      <td>3</td>\n",
       "      <td>2</td>\n",
       "      <td>295508011</td>\n",
       "      <td>6.129468</td>\n",
       "      <td>522.88406</td>\n",
       "    </tr>\n",
       "    <tr>\n",
       "      <th>2</th>\n",
       "      <td>5.968277</td>\n",
       "      <td>0</td>\n",
       "      <td>0</td>\n",
       "      <td>0</td>\n",
       "      <td>0</td>\n",
       "      <td>1</td>\n",
       "      <td>0</td>\n",
       "      <td>0</td>\n",
       "      <td>0</td>\n",
       "      <td>0</td>\n",
       "      <td>...</td>\n",
       "      <td>0.0</td>\n",
       "      <td>0.0</td>\n",
       "      <td>0</td>\n",
       "      <td>390.8318</td>\n",
       "      <td>0</td>\n",
       "      <td>4</td>\n",
       "      <td>3</td>\n",
       "      <td>257600211</td>\n",
       "      <td>6.665577</td>\n",
       "      <td>878.49612</td>\n",
       "    </tr>\n",
       "    <tr>\n",
       "      <th>3</th>\n",
       "      <td>5.654599</td>\n",
       "      <td>0</td>\n",
       "      <td>0</td>\n",
       "      <td>0</td>\n",
       "      <td>0</td>\n",
       "      <td>1</td>\n",
       "      <td>0</td>\n",
       "      <td>0</td>\n",
       "      <td>0</td>\n",
       "      <td>0</td>\n",
       "      <td>...</td>\n",
       "      <td>NaN</td>\n",
       "      <td>NaN</td>\n",
       "      <td>0</td>\n",
       "      <td>285.6018</td>\n",
       "      <td>1</td>\n",
       "      <td>9</td>\n",
       "      <td>4</td>\n",
       "      <td>198104311</td>\n",
       "      <td>6.088294</td>\n",
       "      <td>567.47054</td>\n",
       "    </tr>\n",
       "    <tr>\n",
       "      <th>4</th>\n",
       "      <td>4.771289</td>\n",
       "      <td>0</td>\n",
       "      <td>1</td>\n",
       "      <td>0</td>\n",
       "      <td>0</td>\n",
       "      <td>0</td>\n",
       "      <td>0</td>\n",
       "      <td>0</td>\n",
       "      <td>0</td>\n",
       "      <td>1</td>\n",
       "      <td>...</td>\n",
       "      <td>0.0</td>\n",
       "      <td>0.0</td>\n",
       "      <td>0</td>\n",
       "      <td>118.0713</td>\n",
       "      <td>1</td>\n",
       "      <td>8</td>\n",
       "      <td>5</td>\n",
       "      <td>24805311</td>\n",
       "      <td>5.008170</td>\n",
       "      <td>115.49293</td>\n",
       "    </tr>\n",
       "  </tbody>\n",
       "</table>\n",
       "<p>5 rows × 86 columns</p>\n",
       "</div>"
      ],
      "text/plain": [
       "   lnpercapitaconsumption  d_fuel_other  d_fuel_wood  d_fuel_coal  \\\n",
       "0                5.351858             0            1            0   \n",
       "1                5.768755             0            0            0   \n",
       "2                5.968277             0            0            0   \n",
       "3                5.654599             0            0            0   \n",
       "4                4.771289             0            1            0   \n",
       "\n",
       "   d_fuel_kerosene  d_fuel_gas  d_fuel_electric  d_fuel_none  d_water_other  \\\n",
       "0                0           0                0            0              0   \n",
       "1                0           1                0            0              0   \n",
       "2                0           1                0            0              0   \n",
       "3                0           1                0            0              0   \n",
       "4                0           0                0            0              0   \n",
       "\n",
       "   d_water_river  ...  refrigerator  washer  training  percapitaconsumption  \\\n",
       "0              1  ...           0.0     0.0         0              211.0000   \n",
       "1              0  ...           1.0     0.0         0              320.1389   \n",
       "2              0  ...           0.0     0.0         0              390.8318   \n",
       "3              0  ...           NaN     NaN         0              285.6018   \n",
       "4              1  ...           0.0     0.0         0              118.0713   \n",
       "\n",
       "   poor  h_hhsize  id_for_matlab       hhid  lncaphat_OLS  percapitahat_OLS  \n",
       "0     0         1              1  233710511      5.246471         284.42427  \n",
       "1     0         3              2  295508011      6.129468         522.88406  \n",
       "2     0         4              3  257600211      6.665577         878.49612  \n",
       "3     1         9              4  198104311      6.088294         567.47054  \n",
       "4     1         8              5   24805311      5.008170         115.49293  \n",
       "\n",
       "[5 rows x 86 columns]"
      ]
     },
     "execution_count": 11,
     "metadata": {},
     "output_type": "execute_result"
    }
   ],
   "source": [
    "test = peru[peru['training']==0]\n",
    "test.head()"
   ]
  },
  {
   "cell_type": "code",
   "execution_count": 20,
   "metadata": {},
   "outputs": [
    {
     "data": {
      "text/html": [
       "<div>\n",
       "<style scoped>\n",
       "    .dataframe tbody tr th:only-of-type {\n",
       "        vertical-align: middle;\n",
       "    }\n",
       "\n",
       "    .dataframe tbody tr th {\n",
       "        vertical-align: top;\n",
       "    }\n",
       "\n",
       "    .dataframe thead th {\n",
       "        text-align: right;\n",
       "    }\n",
       "</style>\n",
       "<table border=\"1\" class=\"dataframe\">\n",
       "  <thead>\n",
       "    <tr style=\"text-align: right;\">\n",
       "      <th></th>\n",
       "      <th>d_fuel_other</th>\n",
       "      <th>d_fuel_wood</th>\n",
       "      <th>d_fuel_coal</th>\n",
       "      <th>d_fuel_kerosene</th>\n",
       "      <th>d_fuel_gas</th>\n",
       "      <th>d_fuel_electric</th>\n",
       "      <th>d_fuel_none</th>\n",
       "      <th>d_water_other</th>\n",
       "      <th>d_water_river</th>\n",
       "      <th>d_water_well</th>\n",
       "      <th>...</th>\n",
       "      <th>d_lux_1</th>\n",
       "      <th>d_lux_2</th>\n",
       "      <th>d_lux_3</th>\n",
       "      <th>d_lux_4</th>\n",
       "      <th>d_lux_5</th>\n",
       "      <th>internet</th>\n",
       "      <th>cable</th>\n",
       "      <th>computer</th>\n",
       "      <th>refrigerator</th>\n",
       "      <th>washer</th>\n",
       "    </tr>\n",
       "  </thead>\n",
       "  <tbody>\n",
       "    <tr>\n",
       "      <th>23152</th>\n",
       "      <td>0</td>\n",
       "      <td>1</td>\n",
       "      <td>0</td>\n",
       "      <td>0</td>\n",
       "      <td>0</td>\n",
       "      <td>0</td>\n",
       "      <td>0</td>\n",
       "      <td>0</td>\n",
       "      <td>0</td>\n",
       "      <td>0</td>\n",
       "      <td>...</td>\n",
       "      <td>0</td>\n",
       "      <td>0</td>\n",
       "      <td>0</td>\n",
       "      <td>0</td>\n",
       "      <td>0</td>\n",
       "      <td>0</td>\n",
       "      <td>0</td>\n",
       "      <td>0.0</td>\n",
       "      <td>0.0</td>\n",
       "      <td>0.0</td>\n",
       "    </tr>\n",
       "    <tr>\n",
       "      <th>23153</th>\n",
       "      <td>0</td>\n",
       "      <td>0</td>\n",
       "      <td>0</td>\n",
       "      <td>0</td>\n",
       "      <td>1</td>\n",
       "      <td>0</td>\n",
       "      <td>0</td>\n",
       "      <td>0</td>\n",
       "      <td>0</td>\n",
       "      <td>0</td>\n",
       "      <td>...</td>\n",
       "      <td>0</td>\n",
       "      <td>0</td>\n",
       "      <td>0</td>\n",
       "      <td>1</td>\n",
       "      <td>0</td>\n",
       "      <td>1</td>\n",
       "      <td>0</td>\n",
       "      <td>1.0</td>\n",
       "      <td>1.0</td>\n",
       "      <td>1.0</td>\n",
       "    </tr>\n",
       "    <tr>\n",
       "      <th>23154</th>\n",
       "      <td>0</td>\n",
       "      <td>1</td>\n",
       "      <td>0</td>\n",
       "      <td>0</td>\n",
       "      <td>0</td>\n",
       "      <td>0</td>\n",
       "      <td>0</td>\n",
       "      <td>0</td>\n",
       "      <td>0</td>\n",
       "      <td>0</td>\n",
       "      <td>...</td>\n",
       "      <td>0</td>\n",
       "      <td>0</td>\n",
       "      <td>0</td>\n",
       "      <td>0</td>\n",
       "      <td>0</td>\n",
       "      <td>0</td>\n",
       "      <td>0</td>\n",
       "      <td>0.0</td>\n",
       "      <td>0.0</td>\n",
       "      <td>0.0</td>\n",
       "    </tr>\n",
       "    <tr>\n",
       "      <th>23155</th>\n",
       "      <td>0</td>\n",
       "      <td>1</td>\n",
       "      <td>0</td>\n",
       "      <td>0</td>\n",
       "      <td>0</td>\n",
       "      <td>0</td>\n",
       "      <td>0</td>\n",
       "      <td>0</td>\n",
       "      <td>1</td>\n",
       "      <td>0</td>\n",
       "      <td>...</td>\n",
       "      <td>0</td>\n",
       "      <td>0</td>\n",
       "      <td>0</td>\n",
       "      <td>0</td>\n",
       "      <td>0</td>\n",
       "      <td>0</td>\n",
       "      <td>0</td>\n",
       "      <td>0.0</td>\n",
       "      <td>0.0</td>\n",
       "      <td>0.0</td>\n",
       "    </tr>\n",
       "    <tr>\n",
       "      <th>23156</th>\n",
       "      <td>1</td>\n",
       "      <td>0</td>\n",
       "      <td>0</td>\n",
       "      <td>0</td>\n",
       "      <td>0</td>\n",
       "      <td>0</td>\n",
       "      <td>0</td>\n",
       "      <td>0</td>\n",
       "      <td>0</td>\n",
       "      <td>0</td>\n",
       "      <td>...</td>\n",
       "      <td>0</td>\n",
       "      <td>0</td>\n",
       "      <td>0</td>\n",
       "      <td>0</td>\n",
       "      <td>0</td>\n",
       "      <td>0</td>\n",
       "      <td>0</td>\n",
       "      <td>0.0</td>\n",
       "      <td>0.0</td>\n",
       "      <td>0.0</td>\n",
       "    </tr>\n",
       "  </tbody>\n",
       "</table>\n",
       "<p>5 rows × 77 columns</p>\n",
       "</div>"
      ],
      "text/plain": [
       "       d_fuel_other  d_fuel_wood  d_fuel_coal  d_fuel_kerosene  d_fuel_gas  \\\n",
       "23152             0            1            0                0           0   \n",
       "23153             0            0            0                0           1   \n",
       "23154             0            1            0                0           0   \n",
       "23155             0            1            0                0           0   \n",
       "23156             1            0            0                0           0   \n",
       "\n",
       "       d_fuel_electric  d_fuel_none  d_water_other  d_water_river  \\\n",
       "23152                0            0              0              0   \n",
       "23153                0            0              0              0   \n",
       "23154                0            0              0              0   \n",
       "23155                0            0              0              1   \n",
       "23156                0            0              0              0   \n",
       "\n",
       "       d_water_well  ...  d_lux_1  d_lux_2  d_lux_3  d_lux_4  d_lux_5  \\\n",
       "23152             0  ...        0        0        0        0        0   \n",
       "23153             0  ...        0        0        0        1        0   \n",
       "23154             0  ...        0        0        0        0        0   \n",
       "23155             0  ...        0        0        0        0        0   \n",
       "23156             0  ...        0        0        0        0        0   \n",
       "\n",
       "       internet  cable  computer  refrigerator  washer  \n",
       "23152         0      0       0.0           0.0     0.0  \n",
       "23153         1      0       1.0           1.0     1.0  \n",
       "23154         0      0       0.0           0.0     0.0  \n",
       "23155         0      0       0.0           0.0     0.0  \n",
       "23156         0      0       0.0           0.0     0.0  \n",
       "\n",
       "[5 rows x 77 columns]"
      ]
     },
     "execution_count": 20,
     "metadata": {},
     "output_type": "execute_result"
    }
   ],
   "source": [
    "x_train = train.iloc[:,1: 78]\n",
    "x_test = test.iloc[:,1: 78]\n",
    "x_train.head()"
   ]
  },
  {
   "cell_type": "code",
   "execution_count": 21,
   "metadata": {},
   "outputs": [],
   "source": [
    "y_train = train.loc[:,'percapitaconsumption']\n",
    "lny_train = train.loc[:,'lnpercapitaconsumption']\n",
    "y_test = test.loc[:,'percapitaconsumption']\n",
    "lny_test = test.loc[:,'lnpercapitaconsumption']"
   ]
  },
  {
   "cell_type": "code",
   "execution_count": null,
   "metadata": {},
   "outputs": [],
   "source": [
    "## impute the missing values and export it to the current directory\n",
    "#imr = SimpleImputer(missing_values=np.nan, strategy='median')\n",
    "#imr = imr.fit(x_test)\n",
    "#x_test = pd.DataFrame(imr.transform(x_test))\n",
    "#x_test.to_csv(r'Datasets\\x_test.csv',index=True ,header=True)"
   ]
  },
  {
   "cell_type": "code",
   "execution_count": 22,
   "metadata": {},
   "outputs": [
    {
     "data": {
      "text/html": [
       "<div>\n",
       "<style scoped>\n",
       "    .dataframe tbody tr th:only-of-type {\n",
       "        vertical-align: middle;\n",
       "    }\n",
       "\n",
       "    .dataframe tbody tr th {\n",
       "        vertical-align: top;\n",
       "    }\n",
       "\n",
       "    .dataframe thead th {\n",
       "        text-align: right;\n",
       "    }\n",
       "</style>\n",
       "<table border=\"1\" class=\"dataframe\">\n",
       "  <thead>\n",
       "    <tr style=\"text-align: right;\">\n",
       "      <th></th>\n",
       "      <th>d_fuel_other</th>\n",
       "      <th>d_fuel_wood</th>\n",
       "      <th>d_fuel_coal</th>\n",
       "      <th>d_fuel_kerosene</th>\n",
       "      <th>d_fuel_gas</th>\n",
       "      <th>d_fuel_electric</th>\n",
       "      <th>d_fuel_none</th>\n",
       "      <th>d_water_other</th>\n",
       "      <th>d_water_river</th>\n",
       "      <th>d_water_well</th>\n",
       "      <th>...</th>\n",
       "      <th>d_lux_1</th>\n",
       "      <th>d_lux_2</th>\n",
       "      <th>d_lux_3</th>\n",
       "      <th>d_lux_4</th>\n",
       "      <th>d_lux_5</th>\n",
       "      <th>internet</th>\n",
       "      <th>cable</th>\n",
       "      <th>computer</th>\n",
       "      <th>refrigerator</th>\n",
       "      <th>washer</th>\n",
       "    </tr>\n",
       "  </thead>\n",
       "  <tbody>\n",
       "    <tr>\n",
       "      <th>0</th>\n",
       "      <td>0</td>\n",
       "      <td>1</td>\n",
       "      <td>0</td>\n",
       "      <td>0</td>\n",
       "      <td>0</td>\n",
       "      <td>0</td>\n",
       "      <td>0</td>\n",
       "      <td>0</td>\n",
       "      <td>1</td>\n",
       "      <td>0</td>\n",
       "      <td>...</td>\n",
       "      <td>0</td>\n",
       "      <td>0</td>\n",
       "      <td>0</td>\n",
       "      <td>0</td>\n",
       "      <td>0</td>\n",
       "      <td>0</td>\n",
       "      <td>0</td>\n",
       "      <td>0</td>\n",
       "      <td>0</td>\n",
       "      <td>0</td>\n",
       "    </tr>\n",
       "    <tr>\n",
       "      <th>1</th>\n",
       "      <td>0</td>\n",
       "      <td>0</td>\n",
       "      <td>0</td>\n",
       "      <td>0</td>\n",
       "      <td>1</td>\n",
       "      <td>0</td>\n",
       "      <td>0</td>\n",
       "      <td>0</td>\n",
       "      <td>0</td>\n",
       "      <td>0</td>\n",
       "      <td>...</td>\n",
       "      <td>0</td>\n",
       "      <td>0</td>\n",
       "      <td>1</td>\n",
       "      <td>0</td>\n",
       "      <td>0</td>\n",
       "      <td>0</td>\n",
       "      <td>1</td>\n",
       "      <td>1</td>\n",
       "      <td>1</td>\n",
       "      <td>0</td>\n",
       "    </tr>\n",
       "    <tr>\n",
       "      <th>2</th>\n",
       "      <td>0</td>\n",
       "      <td>0</td>\n",
       "      <td>0</td>\n",
       "      <td>0</td>\n",
       "      <td>1</td>\n",
       "      <td>0</td>\n",
       "      <td>0</td>\n",
       "      <td>0</td>\n",
       "      <td>0</td>\n",
       "      <td>0</td>\n",
       "      <td>...</td>\n",
       "      <td>0</td>\n",
       "      <td>0</td>\n",
       "      <td>1</td>\n",
       "      <td>0</td>\n",
       "      <td>0</td>\n",
       "      <td>1</td>\n",
       "      <td>1</td>\n",
       "      <td>1</td>\n",
       "      <td>0</td>\n",
       "      <td>0</td>\n",
       "    </tr>\n",
       "    <tr>\n",
       "      <th>3</th>\n",
       "      <td>0</td>\n",
       "      <td>0</td>\n",
       "      <td>0</td>\n",
       "      <td>0</td>\n",
       "      <td>1</td>\n",
       "      <td>0</td>\n",
       "      <td>0</td>\n",
       "      <td>0</td>\n",
       "      <td>0</td>\n",
       "      <td>0</td>\n",
       "      <td>...</td>\n",
       "      <td>0</td>\n",
       "      <td>0</td>\n",
       "      <td>0</td>\n",
       "      <td>0</td>\n",
       "      <td>0</td>\n",
       "      <td>0</td>\n",
       "      <td>0</td>\n",
       "      <td>0</td>\n",
       "      <td>0</td>\n",
       "      <td>0</td>\n",
       "    </tr>\n",
       "    <tr>\n",
       "      <th>4</th>\n",
       "      <td>0</td>\n",
       "      <td>1</td>\n",
       "      <td>0</td>\n",
       "      <td>0</td>\n",
       "      <td>0</td>\n",
       "      <td>0</td>\n",
       "      <td>0</td>\n",
       "      <td>0</td>\n",
       "      <td>1</td>\n",
       "      <td>0</td>\n",
       "      <td>...</td>\n",
       "      <td>0</td>\n",
       "      <td>0</td>\n",
       "      <td>0</td>\n",
       "      <td>0</td>\n",
       "      <td>0</td>\n",
       "      <td>0</td>\n",
       "      <td>0</td>\n",
       "      <td>0</td>\n",
       "      <td>0</td>\n",
       "      <td>0</td>\n",
       "    </tr>\n",
       "  </tbody>\n",
       "</table>\n",
       "<p>5 rows × 77 columns</p>\n",
       "</div>"
      ],
      "text/plain": [
       "   d_fuel_other  d_fuel_wood  d_fuel_coal  d_fuel_kerosene  d_fuel_gas  \\\n",
       "0             0            1            0                0           0   \n",
       "1             0            0            0                0           1   \n",
       "2             0            0            0                0           1   \n",
       "3             0            0            0                0           1   \n",
       "4             0            1            0                0           0   \n",
       "\n",
       "   d_fuel_electric  d_fuel_none  d_water_other  d_water_river  d_water_well  \\\n",
       "0                0            0              0              1             0   \n",
       "1                0            0              0              0             0   \n",
       "2                0            0              0              0             0   \n",
       "3                0            0              0              0             0   \n",
       "4                0            0              0              1             0   \n",
       "\n",
       "   ...  d_lux_1  d_lux_2  d_lux_3  d_lux_4  d_lux_5  internet  cable  \\\n",
       "0  ...        0        0        0        0        0         0      0   \n",
       "1  ...        0        0        1        0        0         0      1   \n",
       "2  ...        0        0        1        0        0         1      1   \n",
       "3  ...        0        0        0        0        0         0      0   \n",
       "4  ...        0        0        0        0        0         0      0   \n",
       "\n",
       "   computer  refrigerator  washer  \n",
       "0         0             0       0  \n",
       "1         1             1       0  \n",
       "2         1             0       0  \n",
       "3         0             0       0  \n",
       "4         0             0       0  \n",
       "\n",
       "[5 rows x 77 columns]"
      ]
     },
     "execution_count": 22,
     "metadata": {},
     "output_type": "execute_result"
    }
   ],
   "source": [
    "# import x_test data\n",
    "x_test = pd.read_csv('datasets/x_test.csv')\n",
    "x_test.head()"
   ]
  },
  {
   "cell_type": "code",
   "execution_count": 18,
   "metadata": {},
   "outputs": [
    {
     "data": {
      "text/plain": [
       "False"
      ]
     },
     "execution_count": 18,
     "metadata": {},
     "output_type": "execute_result"
    }
   ],
   "source": [
    "np.any(np.isnan(x_test))"
   ]
  },
  {
   "cell_type": "code",
   "execution_count": 19,
   "metadata": {},
   "outputs": [
    {
     "data": {
      "text/plain": [
       "True"
      ]
     },
     "execution_count": 19,
     "metadata": {},
     "output_type": "execute_result"
    }
   ],
   "source": [
    "np.all(np.isfinite(x_test))"
   ]
  },
  {
   "cell_type": "code",
   "execution_count": 20,
   "metadata": {},
   "outputs": [
    {
     "data": {
      "text/plain": [
       "False"
      ]
     },
     "execution_count": 20,
     "metadata": {},
     "output_type": "execute_result"
    }
   ],
   "source": [
    "np.any(np.isinf(x_test))"
   ]
  },
  {
   "cell_type": "code",
   "execution_count": 21,
   "metadata": {},
   "outputs": [
    {
     "data": {
      "text/plain": [
       "d_fuel_other       0\n",
       "d_fuel_wood        0\n",
       "d_fuel_coal        0\n",
       "d_fuel_kerosene    0\n",
       "d_fuel_gas         0\n",
       "                  ..\n",
       "internet           0\n",
       "cable              0\n",
       "computer           0\n",
       "refrigerator       0\n",
       "washer             0\n",
       "Length: 77, dtype: int64"
      ]
     },
     "execution_count": 21,
     "metadata": {},
     "output_type": "execute_result"
    }
   ],
   "source": [
    "x_test.isnull().sum()"
   ]
  },
  {
   "cell_type": "code",
   "execution_count": 15,
   "metadata": {},
   "outputs": [
    {
     "data": {
      "text/plain": [
       "(23152, 77)"
      ]
     },
     "execution_count": 15,
     "metadata": {},
     "output_type": "execute_result"
    }
   ],
   "source": [
    "x_test.shape"
   ]
  },
  {
   "cell_type": "code",
   "execution_count": 16,
   "metadata": {},
   "outputs": [
    {
     "data": {
      "text/plain": [
       "(22191, 77)"
      ]
     },
     "execution_count": 16,
     "metadata": {},
     "output_type": "execute_result"
    }
   ],
   "source": [
    "x_train.shape"
   ]
  },
  {
   "cell_type": "markdown",
   "metadata": {},
   "source": [
    "## 2.5  Create new variables"
   ]
  },
  {
   "cell_type": "code",
   "execution_count": 23,
   "metadata": {},
   "outputs": [],
   "source": [
    "#交互 x_train and x_test里所有的column,两两相乘\n",
    "for i in range(0,77):\n",
    "    a=i\n",
    "    for j in range(a+1,77):\n",
    "            x_train['interaction'+str(i)+str('t')+str(j)]=x_train.iloc[:,i]* x_train.iloc[:,j]\n"
   ]
  },
  {
   "cell_type": "code",
   "execution_count": 24,
   "metadata": {},
   "outputs": [],
   "source": [
    "# x_test 交互\n",
    "for i in range(0,77):\n",
    "    a=i\n",
    "    for j in range(a+1,77):\n",
    "            x_test['interaction'+str(i)+str('t')+str(j)]=x_test.iloc[:,i]* x_test.iloc[:,j]"
   ]
  },
  {
   "cell_type": "code",
   "execution_count": 25,
   "metadata": {},
   "outputs": [
    {
     "data": {
      "text/html": [
       "<div>\n",
       "<style scoped>\n",
       "    .dataframe tbody tr th:only-of-type {\n",
       "        vertical-align: middle;\n",
       "    }\n",
       "\n",
       "    .dataframe tbody tr th {\n",
       "        vertical-align: top;\n",
       "    }\n",
       "\n",
       "    .dataframe thead th {\n",
       "        text-align: right;\n",
       "    }\n",
       "</style>\n",
       "<table border=\"1\" class=\"dataframe\">\n",
       "  <thead>\n",
       "    <tr style=\"text-align: right;\">\n",
       "      <th></th>\n",
       "      <th>d_fuel_other</th>\n",
       "      <th>d_fuel_wood</th>\n",
       "      <th>d_fuel_coal</th>\n",
       "      <th>d_fuel_kerosene</th>\n",
       "      <th>d_fuel_gas</th>\n",
       "      <th>d_fuel_electric</th>\n",
       "      <th>d_fuel_none</th>\n",
       "      <th>d_water_other</th>\n",
       "      <th>d_water_river</th>\n",
       "      <th>d_water_well</th>\n",
       "      <th>...</th>\n",
       "      <th>interaction72t73</th>\n",
       "      <th>interaction72t74</th>\n",
       "      <th>interaction72t75</th>\n",
       "      <th>interaction72t76</th>\n",
       "      <th>interaction73t74</th>\n",
       "      <th>interaction73t75</th>\n",
       "      <th>interaction73t76</th>\n",
       "      <th>interaction74t75</th>\n",
       "      <th>interaction74t76</th>\n",
       "      <th>interaction75t76</th>\n",
       "    </tr>\n",
       "  </thead>\n",
       "  <tbody>\n",
       "    <tr>\n",
       "      <th>23152</th>\n",
       "      <td>0</td>\n",
       "      <td>1</td>\n",
       "      <td>0</td>\n",
       "      <td>0</td>\n",
       "      <td>0</td>\n",
       "      <td>0</td>\n",
       "      <td>0</td>\n",
       "      <td>0</td>\n",
       "      <td>0</td>\n",
       "      <td>0</td>\n",
       "      <td>...</td>\n",
       "      <td>0</td>\n",
       "      <td>0.0</td>\n",
       "      <td>0.0</td>\n",
       "      <td>0.0</td>\n",
       "      <td>0.0</td>\n",
       "      <td>0.0</td>\n",
       "      <td>0.0</td>\n",
       "      <td>0.0</td>\n",
       "      <td>0.0</td>\n",
       "      <td>0.0</td>\n",
       "    </tr>\n",
       "    <tr>\n",
       "      <th>23153</th>\n",
       "      <td>0</td>\n",
       "      <td>0</td>\n",
       "      <td>0</td>\n",
       "      <td>0</td>\n",
       "      <td>1</td>\n",
       "      <td>0</td>\n",
       "      <td>0</td>\n",
       "      <td>0</td>\n",
       "      <td>0</td>\n",
       "      <td>0</td>\n",
       "      <td>...</td>\n",
       "      <td>0</td>\n",
       "      <td>1.0</td>\n",
       "      <td>1.0</td>\n",
       "      <td>1.0</td>\n",
       "      <td>0.0</td>\n",
       "      <td>0.0</td>\n",
       "      <td>0.0</td>\n",
       "      <td>1.0</td>\n",
       "      <td>1.0</td>\n",
       "      <td>1.0</td>\n",
       "    </tr>\n",
       "    <tr>\n",
       "      <th>23154</th>\n",
       "      <td>0</td>\n",
       "      <td>1</td>\n",
       "      <td>0</td>\n",
       "      <td>0</td>\n",
       "      <td>0</td>\n",
       "      <td>0</td>\n",
       "      <td>0</td>\n",
       "      <td>0</td>\n",
       "      <td>0</td>\n",
       "      <td>0</td>\n",
       "      <td>...</td>\n",
       "      <td>0</td>\n",
       "      <td>0.0</td>\n",
       "      <td>0.0</td>\n",
       "      <td>0.0</td>\n",
       "      <td>0.0</td>\n",
       "      <td>0.0</td>\n",
       "      <td>0.0</td>\n",
       "      <td>0.0</td>\n",
       "      <td>0.0</td>\n",
       "      <td>0.0</td>\n",
       "    </tr>\n",
       "    <tr>\n",
       "      <th>23155</th>\n",
       "      <td>0</td>\n",
       "      <td>1</td>\n",
       "      <td>0</td>\n",
       "      <td>0</td>\n",
       "      <td>0</td>\n",
       "      <td>0</td>\n",
       "      <td>0</td>\n",
       "      <td>0</td>\n",
       "      <td>1</td>\n",
       "      <td>0</td>\n",
       "      <td>...</td>\n",
       "      <td>0</td>\n",
       "      <td>0.0</td>\n",
       "      <td>0.0</td>\n",
       "      <td>0.0</td>\n",
       "      <td>0.0</td>\n",
       "      <td>0.0</td>\n",
       "      <td>0.0</td>\n",
       "      <td>0.0</td>\n",
       "      <td>0.0</td>\n",
       "      <td>0.0</td>\n",
       "    </tr>\n",
       "    <tr>\n",
       "      <th>23156</th>\n",
       "      <td>1</td>\n",
       "      <td>0</td>\n",
       "      <td>0</td>\n",
       "      <td>0</td>\n",
       "      <td>0</td>\n",
       "      <td>0</td>\n",
       "      <td>0</td>\n",
       "      <td>0</td>\n",
       "      <td>0</td>\n",
       "      <td>0</td>\n",
       "      <td>...</td>\n",
       "      <td>0</td>\n",
       "      <td>0.0</td>\n",
       "      <td>0.0</td>\n",
       "      <td>0.0</td>\n",
       "      <td>0.0</td>\n",
       "      <td>0.0</td>\n",
       "      <td>0.0</td>\n",
       "      <td>0.0</td>\n",
       "      <td>0.0</td>\n",
       "      <td>0.0</td>\n",
       "    </tr>\n",
       "  </tbody>\n",
       "</table>\n",
       "<p>5 rows × 3003 columns</p>\n",
       "</div>"
      ],
      "text/plain": [
       "       d_fuel_other  d_fuel_wood  d_fuel_coal  d_fuel_kerosene  d_fuel_gas  \\\n",
       "23152             0            1            0                0           0   \n",
       "23153             0            0            0                0           1   \n",
       "23154             0            1            0                0           0   \n",
       "23155             0            1            0                0           0   \n",
       "23156             1            0            0                0           0   \n",
       "\n",
       "       d_fuel_electric  d_fuel_none  d_water_other  d_water_river  \\\n",
       "23152                0            0              0              0   \n",
       "23153                0            0              0              0   \n",
       "23154                0            0              0              0   \n",
       "23155                0            0              0              1   \n",
       "23156                0            0              0              0   \n",
       "\n",
       "       d_water_well  ...  interaction72t73  interaction72t74  \\\n",
       "23152             0  ...                 0               0.0   \n",
       "23153             0  ...                 0               1.0   \n",
       "23154             0  ...                 0               0.0   \n",
       "23155             0  ...                 0               0.0   \n",
       "23156             0  ...                 0               0.0   \n",
       "\n",
       "       interaction72t75  interaction72t76  interaction73t74  interaction73t75  \\\n",
       "23152               0.0               0.0               0.0               0.0   \n",
       "23153               1.0               1.0               0.0               0.0   \n",
       "23154               0.0               0.0               0.0               0.0   \n",
       "23155               0.0               0.0               0.0               0.0   \n",
       "23156               0.0               0.0               0.0               0.0   \n",
       "\n",
       "       interaction73t76  interaction74t75  interaction74t76  interaction75t76  \n",
       "23152               0.0               0.0               0.0               0.0  \n",
       "23153               0.0               1.0               1.0               1.0  \n",
       "23154               0.0               0.0               0.0               0.0  \n",
       "23155               0.0               0.0               0.0               0.0  \n",
       "23156               0.0               0.0               0.0               0.0  \n",
       "\n",
       "[5 rows x 3003 columns]"
      ]
     },
     "execution_count": 25,
     "metadata": {},
     "output_type": "execute_result"
    }
   ],
   "source": [
    "x_train.head()"
   ]
  },
  {
   "cell_type": "markdown",
   "metadata": {},
   "source": [
    " ## 2.5 Feature Selection\n",
    " Use forward selection. "
   ]
  },
  {
   "cell_type": "code",
   "execution_count": null,
   "metadata": {},
   "outputs": [],
   "source": [
    "sfs = SFS(LinearRegression(),\n",
    "         k_features= (50, 150),\n",
    "         forward=True,\n",
    "         floating=False,\n",
    "         scoring='neg_mean_squared_error',\n",
    "         cv=5)\n",
    "sfs.fit(x_train, y_train)\n",
    "sfs.k_feature_names_"
   ]
  },
  {
   "cell_type": "code",
   "execution_count": null,
   "metadata": {},
   "outputs": [],
   "source": [
    "fig1 = plot_sfs(sfs.get_metric_dict(), kind='std_dev')\n",
    "plt.title('Sequential Forward Selection (w. StdErr)')\n",
    "ticks = np.arange(1, 150, 15)\n",
    "plt.xticks(ticks)\n",
    "plt.show()"
   ]
  },
  {
   "cell_type": "code",
   "execution_count": null,
   "metadata": {},
   "outputs": [],
   "source": [
    "x_train_sfs = sfs.transform(x_train)\n",
    "x_test_sfs = sfs.transform(x_test)"
   ]
  },
  {
   "cell_type": "code",
   "execution_count": null,
   "metadata": {},
   "outputs": [],
   "source": [
    "x_train = pd.DataFrame(x_train_sfs)\n",
    "x_test = pd.DataFrame(x_test_sfs)"
   ]
  },
  {
   "cell_type": "markdown",
   "metadata": {},
   "source": [
    "# 3 Model implementation\n",
    "## 3.1 Replicate the original paper(Peru): OLS"
   ]
  },
  {
   "cell_type": "code",
   "execution_count": null,
   "metadata": {},
   "outputs": [],
   "source": [
    "# add constant for train_x\n",
    "one = np.ones(np.shape(x_train))\n",
    "x_train_withcons = np.concatenate([one,x_train],axis=1)"
   ]
  },
  {
   "cell_type": "code",
   "execution_count": null,
   "metadata": {},
   "outputs": [],
   "source": [
    "# add constant for test_x\n",
    "one = np.ones(np.shape(x_test))\n",
    "x_test_withcons = np.concatenate([one,x_test],axis=1)"
   ]
  },
  {
   "cell_type": "code",
   "execution_count": null,
   "metadata": {},
   "outputs": [],
   "source": [
    "# linear regression with constant\n",
    "linreg = LinearRegression()\n",
    "model1 = linreg.fit(x_train_withcons,y_train)"
   ]
  },
  {
   "cell_type": "code",
   "execution_count": null,
   "metadata": {},
   "outputs": [],
   "source": [
    "model1.coef_"
   ]
  },
  {
   "cell_type": "code",
   "execution_count": null,
   "metadata": {},
   "outputs": [],
   "source": [
    "ols_estimate_y = model1.predict(x_train_withcons)\n",
    "ols_estimate_y"
   ]
  },
  {
   "cell_type": "code",
   "execution_count": null,
   "metadata": {},
   "outputs": [],
   "source": [
    "ols_pred_y = model1.predict(x_test_withcons)"
   ]
  },
  {
   "cell_type": "code",
   "execution_count": null,
   "metadata": {},
   "outputs": [],
   "source": [
    "# Linear regression by using Stata Model\n",
    "x = sm.add_constant(x_train)\n",
    "model2=sm.OLS(y_train,x)\n",
    "results=model2.fit()\n",
    "results.summary().tables[1]"
   ]
  },
  {
   "cell_type": "markdown",
   "metadata": {},
   "source": [
    "## Calculate MSE-OLS"
   ]
  },
  {
   "cell_type": "code",
   "execution_count": null,
   "metadata": {
    "scrolled": true
   },
   "outputs": [],
   "source": [
    "#calculate MSE for the training dataset (from the estimation of original paper)\n",
    "from sklearn import metrics\n",
    "\n",
    "metrics.mean_squared_error(train.lncaphat_OLS,train.lnpercapitaconsumption)"
   ]
  },
  {
   "cell_type": "code",
   "execution_count": null,
   "metadata": {},
   "outputs": [],
   "source": [
    "#calculate MSE for the training dataset (Original Paper)\n",
    "metrics.mean_squared_error(train.percapitahat_OLS,train.percapitaconsumption)"
   ]
  },
  {
   "cell_type": "code",
   "execution_count": null,
   "metadata": {},
   "outputs": [],
   "source": [
    "#calculate MSE for the testing dataset (Original Paper)\n",
    "original_pred_y = pd.DataFrame(test.percapitahat_OLS)\n",
    "NaN = original_pred_y.join(y_test)\n",
    "NaN=NaN.dropna(axis=0, how='any', inplace=False)\n",
    "NaN.head()\n",
    "print(NaN.shape)\n",
    "metrics.mean_squared_error(NaN.percapitahat_OLS,NaN.percapitaconsumption)"
   ]
  },
  {
   "cell_type": "code",
   "execution_count": null,
   "metadata": {},
   "outputs": [],
   "source": [
    "#calculate MSE for the training dataset (my calculation)\n",
    "metrics.mean_squared_error(ols_estimate_y,y_train)"
   ]
  },
  {
   "cell_type": "code",
   "execution_count": null,
   "metadata": {},
   "outputs": [],
   "source": [
    "#calclulate MSE for the testing dataset (my calculation)\n",
    "metrics.mean_squared_error(ols_pred_y, y_test)"
   ]
  },
  {
   "cell_type": "markdown",
   "metadata": {},
   "source": [
    "## Model - Ridge"
   ]
  },
  {
   "cell_type": "code",
   "execution_count": null,
   "metadata": {},
   "outputs": [],
   "source": [
    "ridge = RidgeCV(alphas=[0.1,0.3,0.5,0.7,0.9,1])\n",
    "ridge.fit(x_train,y_train)\n",
    "ridge_estimate_y = ridge.predict(x_train)"
   ]
  },
  {
   "cell_type": "code",
   "execution_count": null,
   "metadata": {},
   "outputs": [],
   "source": [
    "ridge.alpha_"
   ]
  },
  {
   "cell_type": "code",
   "execution_count": null,
   "metadata": {},
   "outputs": [],
   "source": [
    "metrics.mean_squared_error(ridge_estimate_y,y_train)"
   ]
  },
  {
   "cell_type": "code",
   "execution_count": null,
   "metadata": {},
   "outputs": [],
   "source": [
    "ridge_pred_y = ridge.predict(x_test)"
   ]
  },
  {
   "cell_type": "code",
   "execution_count": null,
   "metadata": {},
   "outputs": [],
   "source": [
    "metrics.mean_squared_error(ridge_pred_y,y_test)"
   ]
  },
  {
   "cell_type": "markdown",
   "metadata": {},
   "source": [
    "## Model - Lasso"
   ]
  },
  {
   "cell_type": "code",
   "execution_count": null,
   "metadata": {},
   "outputs": [],
   "source": [
    "lassocv = LassoCV(alphas = [0.1,0.3,0.5,0.7,0.9,1])\n",
    "lassocv.fit(x_train, y_train)"
   ]
  },
  {
   "cell_type": "code",
   "execution_count": null,
   "metadata": {},
   "outputs": [],
   "source": [
    "lassocv.alpha_"
   ]
  },
  {
   "cell_type": "code",
   "execution_count": null,
   "metadata": {},
   "outputs": [],
   "source": [
    "lasso_estimate_y = lassocv.predict(x_train)"
   ]
  },
  {
   "cell_type": "code",
   "execution_count": null,
   "metadata": {},
   "outputs": [],
   "source": [
    "metrics.mean_squared_error(lasso_estimate_y,y_train)"
   ]
  },
  {
   "cell_type": "code",
   "execution_count": null,
   "metadata": {},
   "outputs": [],
   "source": [
    "lasso_pred_y = lassocv.predict(x_test)"
   ]
  },
  {
   "cell_type": "code",
   "execution_count": null,
   "metadata": {},
   "outputs": [],
   "source": [
    "metrics.mean_squared_error(lasso_pred_y,y_test)"
   ]
  },
  {
   "cell_type": "code",
   "execution_count": null,
   "metadata": {},
   "outputs": [],
   "source": [
    "ln_lassocv = LassoCV(alphas = [0.1,0.3,0.5,0.7,0.9,1])\n",
    "ln_lassocv.fit(x_train, lny_train)"
   ]
  },
  {
   "cell_type": "code",
   "execution_count": null,
   "metadata": {},
   "outputs": [],
   "source": [
    "ln_lassocv.alpha_"
   ]
  },
  {
   "cell_type": "code",
   "execution_count": null,
   "metadata": {},
   "outputs": [],
   "source": [
    "lasso_pred_lny = ln_lassocv.predict(x_test)"
   ]
  },
  {
   "cell_type": "code",
   "execution_count": null,
   "metadata": {},
   "outputs": [],
   "source": [
    "metrics.mean_squared_error(lasso_pred_lny,lny_test)"
   ]
  },
  {
   "cell_type": "markdown",
   "metadata": {},
   "source": [
    "## 导出预测文件"
   ]
  },
  {
   "cell_type": "code",
   "execution_count": null,
   "metadata": {},
   "outputs": [],
   "source": [
    "# combine the original test dataset and the precise predicted y\n",
    "pred_y = pd.DataFrame(lasso_pred_y)\n",
    "total_out = pred_y.join(test)\n",
    "total_out.to_csv(r'Datasets\\total_out.csv',index=True ,header=True)"
   ]
  },
  {
   "cell_type": "markdown",
   "metadata": {},
   "source": [
    "## 3.2 Model-KNN Regression\n",
    "Not sure if it is a suitable algorithm for our dataset since all the features are dummies, and it is hard to define/calculate the \"distance\".\n",
    "But we will see..."
   ]
  },
  {
   "cell_type": "code",
   "execution_count": null,
   "metadata": {},
   "outputs": [],
   "source": [
    "# 调参时再用这块代码 跑很久\n",
    "# create a knn regression model\n",
    "knr = KNeighborsRegressor(weights = 'distance')\n",
    "# create a dictionary of all values we want to test for n_neighbors\n",
    "param_grid = {'n_neighbors':np.arange(31, 33)}\n",
    "# use gridsearch to test all values for n_neighbors\n",
    "knr_gscv = GridSearchCV(knr, param_grid,scoring='neg_mean_squared_error', cv=5)\n",
    "# fit model to data\n",
    "knr_gscv.fit(x_train, y_train)\n",
    "#check top performing n_neighbors value: 33\n",
    "knr_gscv.best_params_\n",
    "# Prediction for x_train\n",
    "knr_estimate_y= knr_gscv.predict(x_train)\n",
    "# Calculate MSE from the prediction for x_train and original paper\n",
    "metrics.mean_squared_error(knr_estimate_y, train.percapitaconsumption)"
   ]
  },
  {
   "cell_type": "code",
   "execution_count": null,
   "metadata": {},
   "outputs": [],
   "source": [
    "knr = KNeighborsRegressor(n_neighbors = 33, weights = 'distance')\n",
    "knr.fit(x_train, y_train)\n",
    "train_knr_pred = knr.predict(x_train)\n",
    "metrics.mean_squared_error(train_knr_pred, y_train)"
   ]
  },
  {
   "cell_type": "code",
   "execution_count": null,
   "metadata": {},
   "outputs": [],
   "source": [
    "knr_pred_y = knr.predict(x_test)"
   ]
  },
  {
   "cell_type": "code",
   "execution_count": null,
   "metadata": {},
   "outputs": [],
   "source": [
    "metrics.mean_squared_error(knr_pred_y, y_test)"
   ]
  },
  {
   "cell_type": "markdown",
   "metadata": {},
   "source": [
    "## 3.3 SVM Regression (SVR)"
   ]
  },
  {
   "cell_type": "markdown",
   "metadata": {},
   "source": [
    "params_dict={'C':[0.001,0.01,0.1,1,10,100],'gamma':[0.001,0.01,0.1,1,10,100],'kernel':['linear','poly','rbf','sigmoid']}\n",
    "svr_gscv=GridSearchCV(estimator=SVR(),param_grid=params_dict,scoring='neg_mean_squared_error',cv=10)\n",
    "svr_gscv.fit(x_train,y1_train)"
   ]
  },
  {
   "cell_type": "code",
   "execution_count": null,
   "metadata": {},
   "outputs": [],
   "source": [
    "params_dict={'C':[0.001,0.1,1,100],'gamma':[0.001,0.1,1,100],'kernel':['rbf']}\n",
    "svr_gscv=GridSearchCV(estimator=SVR(),param_grid=params_dict,scoring='neg_mean_squared_error',cv=5)\n",
    "svr_gscv.fit(x_train,y_train)\n",
    "svr_gscv.best_params_"
   ]
  },
  {
   "cell_type": "code",
   "execution_count": null,
   "metadata": {},
   "outputs": [],
   "source": [
    "params_dict={'C':[100],'gamma':[0.1],'kernel':['rbf']}\n",
    "svr_gscv=GridSearchCV(estimator=SVR(),param_grid=params_dict,scoring='neg_mean_squared_error',cv=5)\n",
    "svr_gscv.fit(x_train,y_train)\n",
    "svr_gscv.best_params_"
   ]
  },
  {
   "cell_type": "code",
   "execution_count": null,
   "metadata": {},
   "outputs": [],
   "source": [
    "svr_estimate_y = svr_gscv.predict(x_train)"
   ]
  },
  {
   "cell_type": "code",
   "execution_count": null,
   "metadata": {},
   "outputs": [],
   "source": [
    "metrics.mean_squared_error(svr_estimate_y,y_train)"
   ]
  },
  {
   "cell_type": "code",
   "execution_count": null,
   "metadata": {},
   "outputs": [],
   "source": [
    "# predict for x_test\n",
    "svr_pred_y = svr_gscv.predict(x_test)"
   ]
  },
  {
   "cell_type": "code",
   "execution_count": null,
   "metadata": {},
   "outputs": [],
   "source": [
    "# calculate MSE from the prediction for x_test and y_test\n",
    "metrics.mean_squared_error(svr_pred_y, y_test)"
   ]
  },
  {
   "cell_type": "code",
   "execution_count": null,
   "metadata": {},
   "outputs": [],
   "source": [
    "# tune the svr model\n",
    "params_dict={'C':[300,400, 500],'gamma':[0.11, 0.12, 0.13],'kernel':['rbf']}\n",
    "svr_gscv=GridSearchCV(estimator=SVR(),param_grid=params_dict,scoring='neg_mean_squared_error',cv=5)\n",
    "svr_gscv.fit(x_train,y_train)\n",
    "svr_gscv.best_params_\n"
   ]
  },
  {
   "cell_type": "code",
   "execution_count": null,
   "metadata": {},
   "outputs": [],
   "source": [
    "params_dict={'C':[400],'gamma':[0.11],'kernel':['rbf']}\n",
    "svr_gscv=GridSearchCV(estimator=SVR(),param_grid=params_dict,scoring='neg_mean_squared_error',cv=5)\n",
    "svr_gscv.fit(x_train,y_train)\n",
    "svr_gscv.best_params_"
   ]
  },
  {
   "cell_type": "code",
   "execution_count": null,
   "metadata": {},
   "outputs": [],
   "source": [
    "svr_pred_y = svr_gscv.predict(x_test)\n",
    "metrics.mean_squared_error(svr_pred_y, y_test)"
   ]
  },
  {
   "cell_type": "markdown",
   "metadata": {},
   "source": [
    "## LightGBM"
   ]
  },
  {
   "cell_type": "code",
   "execution_count": null,
   "metadata": {},
   "outputs": [],
   "source": [
    "x_try = x_train.iloc[0:22673,]\n",
    "y_try = y_train.iloc[0:22673,]"
   ]
  },
  {
   "cell_type": "code",
   "execution_count": null,
   "metadata": {},
   "outputs": [],
   "source": [
    "params_dict={'num_leaves':[5, 10, 15, 20, 25, 31],'n_estimators':[20, 40, 60, 80, 100],'learning_rate':[0.1, 0.3, 0.5, 0.7]}\n",
    "lgbm_gscv=GridSearchCV(estimator=LGBMRegressor(),param_grid=params_dict,scoring='neg_mean_squared_error',cv=10)\n",
    "lgbm_gscv.fit(x_try, y_try)\n",
    "lgbm_gscv.best_params_"
   ]
  },
  {
   "cell_type": "code",
   "execution_count": null,
   "metadata": {},
   "outputs": [],
   "source": [
    "lgbm_pred_y = lgbm_gscv.predict(x_test)"
   ]
  },
  {
   "cell_type": "code",
   "execution_count": null,
   "metadata": {},
   "outputs": [],
   "source": [
    "metrics.mean_squared_error(lgbm_pred_y, y_test)"
   ]
  },
  {
   "cell_type": "code",
   "execution_count": null,
   "metadata": {},
   "outputs": [],
   "source": [
    "# 调参结果\n",
    "lgbm_try = LGBMRegressor(num_leaves = 31, n_estimators = 30, learning_rate = 0.2)\n",
    "# num_leaves = 31, n_estimators = 30, learning_rate = 0.2 MSE 82267.22790939707\n",
    "# num_leaves = 31, n_estimators = 50, learning_rate = 0.2 MSE 82041.03707086027"
   ]
  },
  {
   "cell_type": "code",
   "execution_count": null,
   "metadata": {},
   "outputs": [],
   "source": [
    "## Neural Network"
   ]
  },
  {
   "cell_type": "markdown",
   "metadata": {},
   "source": [
    "## 3.2 replicate the original figure 5 : OLS estimate"
   ]
  }
 ],
 "metadata": {
  "kernelspec": {
   "display_name": "Python 3",
   "language": "python",
   "name": "python3"
  },
  "language_info": {
   "codemirror_mode": {
    "name": "ipython",
    "version": 3
   },
   "file_extension": ".py",
   "mimetype": "text/x-python",
   "name": "python",
   "nbconvert_exporter": "python",
   "pygments_lexer": "ipython3",
   "version": "3.8.5"
  }
 },
 "nbformat": 4,
 "nbformat_minor": 4
}
