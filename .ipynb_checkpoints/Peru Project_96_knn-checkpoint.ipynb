{
 "cells": [
  {
   "cell_type": "markdown",
   "metadata": {},
   "source": [
    "# ML for Econ Analysis Project 1 - Peru\n",
    "name here\n",
    "## 1 Problem Description\n",
    "blablablabla\n"
   ]
  },
  {
   "cell_type": "code",
   "execution_count": 1,
   "metadata": {},
   "outputs": [],
   "source": [
    "# install packages\n",
    "# !pip install scikit-neuralnetwork\n",
    "# !pip install lightgbm\n",
    "# ! pip install mlxtend\n",
    "# ! pip install yellowbrick"
   ]
  },
  {
   "cell_type": "code",
   "execution_count": 2,
   "metadata": {},
   "outputs": [],
   "source": [
    "# Ignore  the warnings\n",
    "import warnings\n",
    "warnings.filterwarnings('always')\n",
    "warnings.filterwarnings('ignore')\n",
    "#Import everything\n",
    "import pandas as pd\n",
    "import numpy as np\n",
    "from numpy.linalg import inv\n",
    "from numpy.random import normal as rnorm\n",
    "import itertools\n",
    "import time\n",
    "import statsmodels.api as sm\n",
    "import random\n",
    "\n",
    "# for plot\n",
    "import seaborn as sns\n",
    "#stata-like output\n",
    "import statsmodels.api as sm\n",
    "import statsmodels.formula.api as smf\n",
    "\n",
    "#for missing values\n",
    "import missingno as msno\n",
    "from sklearn.impute import SimpleImputer"
   ]
  },
  {
   "cell_type": "code",
   "execution_count": 3,
   "metadata": {},
   "outputs": [],
   "source": [
    " #regression\n",
    "from sklearn.linear_model import LinearRegression,Ridge,Lasso,RidgeCV\n",
    "from sklearn.ensemble import RandomForestRegressor,BaggingRegressor,GradientBoostingRegressor,AdaBoostRegressor\n",
    "from sklearn.svm import SVR\n",
    "from sklearn.neighbors import KNeighborsRegressor\n",
    "from sklearn.linear_model import LassoCV\n",
    "from sklearn.linear_model import RidgeCV\n",
    "from sklearn import neural_network\n",
    "from sklearn.neural_network import MLPRegressor\n",
    "from lightgbm import LGBMRegressor\n",
    "\n",
    "#model selection\n",
    "from sklearn.model_selection import train_test_split,cross_validate\n",
    "from sklearn.model_selection import KFold\n",
    "from sklearn.model_selection import GridSearchCV\n",
    "from sklearn.model_selection import cross_val_score\n",
    "from mlxtend.feature_selection import SequentialFeatureSelector as SFS\n",
    "\n",
    "#preprocessing\n",
    "from sklearn.preprocessing import MinMaxScaler,StandardScaler,LabelEncoder\n",
    "from sklearn.impute import SimpleImputer\n",
    "\n",
    "#evaluation metrics\n",
    "from sklearn.metrics import mean_squared_log_error,mean_squared_error, r2_score,mean_absolute_error # for regression\n",
    "from sklearn.metrics import accuracy_score,precision_score,recall_score,f1_score  # for classification\n",
    "import sklearn.metrics as metrics\n",
    "from sklearn.metrics import mean_squared_error"
   ]
  },
  {
   "cell_type": "code",
   "execution_count": 4,
   "metadata": {},
   "outputs": [],
   "source": [
    "# Import matplotlib for graphs\n",
    "import matplotlib.pyplot as plt\n",
    "from mlxtend.plotting import plot_sequential_feature_selection as plot_sfs\n",
    "# import yellowbrck for graphs\n",
    "from yellowbrick.datasets import load_credit\n",
    "from yellowbrick.features import Rank2D\n",
    "from yellowbrick.regressor import AlphaSelection\n",
    "from yellowbrick.regressor.alphas import alphas\n",
    "\n",
    "# Set global parameters\n",
    "%matplotlib inline\n",
    "plt.style.use('seaborn-white')\n",
    "plt.rcParams['lines.linewidth'] = 3\n",
    "plt.rcParams['figure.figsize'] = (10,6)\n",
    "plt.rcParams['figure.titlesize'] = 20\n",
    "plt.rcParams['axes.titlesize'] = 18\n",
    "plt.rcParams['axes.labelsize'] = 14\n",
    "plt.rcParams['legend.fontsize'] = 14"
   ]
  },
  {
   "cell_type": "markdown",
   "metadata": {},
   "source": [
    "# 2 Data Preprocessing\n",
    "to check the missing value of data, visulize the data to get a \"feel\", and normalize the data"
   ]
  },
  {
   "cell_type": "markdown",
   "metadata": {},
   "source": [
    "## 2.1 Dataset acquisition\n",
    "we use pd.read_csv to read the csv file as dataframe data type."
   ]
  },
  {
   "cell_type": "code",
   "execution_count": 5,
   "metadata": {},
   "outputs": [
    {
     "name": "stdout",
     "output_type": "stream",
     "text": [
      "<class 'pandas.core.frame.DataFrame'>\n",
      "RangeIndex: 46305 entries, 0 to 46304\n",
      "Columns: 105 entries, lnpercapitaconsumption to percapitahat_OLS\n",
      "dtypes: float64(41), int64(64)\n",
      "memory usage: 37.1 MB\n"
     ]
    }
   ],
   "source": [
    "# Peru data\n",
    "peru = pd.read_csv('datasets/Project1_CompletaData_96.csv')\n",
    "peru.head()\n",
    "# Overview of all variables\n",
    "peru.info()"
   ]
  },
  {
   "cell_type": "markdown",
   "metadata": {},
   "source": [
    "## 2.2 Cleaning the Data\n",
    "We check our dataset by detecting whether it contains null, Nan values or missing values."
   ]
  },
  {
   "cell_type": "code",
   "execution_count": 6,
   "metadata": {},
   "outputs": [
    {
     "data": {
      "text/plain": [
       "lnpercapitaconsumption      0\n",
       "d_fuel_other                0\n",
       "d_fuel_wood                 0\n",
       "d_fuel_coal                 0\n",
       "d_fuel_kerosene             0\n",
       "                         ... \n",
       "h_hhsize                    0\n",
       "id_for_matlab               0\n",
       "hhid                        0\n",
       "lncaphat_OLS              927\n",
       "percapitahat_OLS          927\n",
       "Length: 105, dtype: int64"
      ]
     },
     "execution_count": 6,
     "metadata": {},
     "output_type": "execute_result"
    }
   ],
   "source": [
    "peru.isnull().sum()"
   ]
  },
  {
   "cell_type": "code",
   "execution_count": 7,
   "metadata": {},
   "outputs": [
    {
     "data": {
      "text/plain": [
       "'d_fuel_wood'"
      ]
     },
     "execution_count": 7,
     "metadata": {},
     "output_type": "execute_result"
    }
   ],
   "source": [
    "columnNames = peru.columns.values.tolist()\n",
    "columnNames[2]"
   ]
  },
  {
   "cell_type": "code",
   "execution_count": 8,
   "metadata": {},
   "outputs": [
    {
     "data": {
      "text/html": [
       "<div>\n",
       "<style scoped>\n",
       "    .dataframe tbody tr th:only-of-type {\n",
       "        vertical-align: middle;\n",
       "    }\n",
       "\n",
       "    .dataframe tbody tr th {\n",
       "        vertical-align: top;\n",
       "    }\n",
       "\n",
       "    .dataframe thead th {\n",
       "        text-align: right;\n",
       "    }\n",
       "</style>\n",
       "<table border=\"1\" class=\"dataframe\">\n",
       "  <thead>\n",
       "    <tr style=\"text-align: right;\">\n",
       "      <th></th>\n",
       "      <th>d_wall_woodmat</th>\n",
       "      <th>d_wall_stonemud</th>\n",
       "      <th>d_wall_quincha</th>\n",
       "      <th>d_wall_tapia</th>\n",
       "      <th>d_wall_adobe</th>\n",
       "      <th>d_wall_stonecement</th>\n",
       "      <th>d_wall_brickcement</th>\n",
       "      <th>d_roof_other</th>\n",
       "    </tr>\n",
       "  </thead>\n",
       "  <tbody>\n",
       "    <tr>\n",
       "      <th>25</th>\n",
       "      <td>NaN</td>\n",
       "      <td>NaN</td>\n",
       "      <td>NaN</td>\n",
       "      <td>NaN</td>\n",
       "      <td>NaN</td>\n",
       "      <td>NaN</td>\n",
       "      <td>NaN</td>\n",
       "      <td>NaN</td>\n",
       "    </tr>\n",
       "    <tr>\n",
       "      <th>26</th>\n",
       "      <td>0.0</td>\n",
       "      <td>0.0</td>\n",
       "      <td>0.0</td>\n",
       "      <td>1.0</td>\n",
       "      <td>0.0</td>\n",
       "      <td>0.0</td>\n",
       "      <td>0.0</td>\n",
       "      <td>0.0</td>\n",
       "    </tr>\n",
       "  </tbody>\n",
       "</table>\n",
       "</div>"
      ],
      "text/plain": [
       "    d_wall_woodmat  d_wall_stonemud  d_wall_quincha  d_wall_tapia  \\\n",
       "25             NaN              NaN             NaN           NaN   \n",
       "26             0.0              0.0             0.0           1.0   \n",
       "\n",
       "    d_wall_adobe  d_wall_stonecement  d_wall_brickcement  d_roof_other  \n",
       "25           NaN                 NaN                 NaN           NaN  \n",
       "26           0.0                 0.0                 0.0           0.0  "
      ]
     },
     "execution_count": 8,
     "metadata": {},
     "output_type": "execute_result"
    }
   ],
   "source": [
    "peru.loc[25:26,columnNames[22:30]]"
   ]
  },
  {
   "cell_type": "code",
   "execution_count": 9,
   "metadata": {},
   "outputs": [
    {
     "data": {
      "text/plain": [
       "<matplotlib.axes._subplots.AxesSubplot at 0x184e0ab03c8>"
      ]
     },
     "execution_count": 9,
     "metadata": {},
     "output_type": "execute_result"
    },
    {
     "data": {
      "image/png": "[encoded data removed]",
      "text/plain": [
       "<Figure size 1800x720 with 2 Axes>"
      ]
     },
     "metadata": {},
     "output_type": "display_data"
    }
   ],
   "source": [
    "# Visualize no missing values\n",
    "msno.matrix(peru)"
   ]
  },
  {
   "cell_type": "code",
   "execution_count": 10,
   "metadata": {},
   "outputs": [
    {
     "data": {
      "text/html": [
       "<div>\n",
       "<style scoped>\n",
       "    .dataframe tbody tr th:only-of-type {\n",
       "        vertical-align: middle;\n",
       "    }\n",
       "\n",
       "    .dataframe tbody tr th {\n",
       "        vertical-align: top;\n",
       "    }\n",
       "\n",
       "    .dataframe thead th {\n",
       "        text-align: right;\n",
       "    }\n",
       "</style>\n",
       "<table border=\"1\" class=\"dataframe\">\n",
       "  <thead>\n",
       "    <tr style=\"text-align: right;\">\n",
       "      <th></th>\n",
       "      <th>lnpercapitaconsumption</th>\n",
       "      <th>d_fuel_other</th>\n",
       "      <th>d_fuel_wood</th>\n",
       "      <th>d_fuel_coal</th>\n",
       "      <th>d_fuel_kerosene</th>\n",
       "      <th>d_fuel_gas</th>\n",
       "      <th>d_fuel_electric</th>\n",
       "      <th>d_fuel_none</th>\n",
       "      <th>d_water_other</th>\n",
       "      <th>d_water_river</th>\n",
       "      <th>...</th>\n",
       "      <th>refrigerator</th>\n",
       "      <th>washer</th>\n",
       "      <th>training</th>\n",
       "      <th>percapitaconsumption</th>\n",
       "      <th>poor</th>\n",
       "      <th>h_hhsize</th>\n",
       "      <th>id_for_matlab</th>\n",
       "      <th>hhid</th>\n",
       "      <th>lncaphat_OLS</th>\n",
       "      <th>percapitahat_OLS</th>\n",
       "    </tr>\n",
       "  </thead>\n",
       "  <tbody>\n",
       "    <tr>\n",
       "      <th>count</th>\n",
       "      <td>46305.000000</td>\n",
       "      <td>46305.000000</td>\n",
       "      <td>46305.000000</td>\n",
       "      <td>46305.000000</td>\n",
       "      <td>46305.000000</td>\n",
       "      <td>46305.000000</td>\n",
       "      <td>46305.000000</td>\n",
       "      <td>46305.000000</td>\n",
       "      <td>46305.000000</td>\n",
       "      <td>46305.000000</td>\n",
       "      <td>...</td>\n",
       "      <td>45306.000000</td>\n",
       "      <td>45306.000000</td>\n",
       "      <td>46305.000000</td>\n",
       "      <td>46305.000000</td>\n",
       "      <td>46305.000000</td>\n",
       "      <td>46305.000000</td>\n",
       "      <td>46305.000000</td>\n",
       "      <td>4.630500e+04</td>\n",
       "      <td>45378.000000</td>\n",
       "      <td>45378.000000</td>\n",
       "    </tr>\n",
       "    <tr>\n",
       "      <th>mean</th>\n",
       "      <td>5.856564</td>\n",
       "      <td>0.104244</td>\n",
       "      <td>0.307202</td>\n",
       "      <td>0.025656</td>\n",
       "      <td>0.004557</td>\n",
       "      <td>0.518734</td>\n",
       "      <td>0.007796</td>\n",
       "      <td>0.031811</td>\n",
       "      <td>0.041421</td>\n",
       "      <td>0.207947</td>\n",
       "      <td>...</td>\n",
       "      <td>0.360504</td>\n",
       "      <td>0.132565</td>\n",
       "      <td>0.500011</td>\n",
       "      <td>461.243627</td>\n",
       "      <td>0.280207</td>\n",
       "      <td>4.012094</td>\n",
       "      <td>23153.000000</td>\n",
       "      <td>1.869936e+08</td>\n",
       "      <td>5.850041</td>\n",
       "      <td>459.121087</td>\n",
       "    </tr>\n",
       "    <tr>\n",
       "      <th>std</th>\n",
       "      <td>0.744232</td>\n",
       "      <td>0.305580</td>\n",
       "      <td>0.461339</td>\n",
       "      <td>0.158108</td>\n",
       "      <td>0.067350</td>\n",
       "      <td>0.499654</td>\n",
       "      <td>0.087952</td>\n",
       "      <td>0.175498</td>\n",
       "      <td>0.199264</td>\n",
       "      <td>0.405843</td>\n",
       "      <td>...</td>\n",
       "      <td>0.480152</td>\n",
       "      <td>0.339108</td>\n",
       "      <td>0.500005</td>\n",
       "      <td>411.392663</td>\n",
       "      <td>0.449105</td>\n",
       "      <td>2.093215</td>\n",
       "      <td>13367.246444</td>\n",
       "      <td>1.111905e+08</td>\n",
       "      <td>0.605646</td>\n",
       "      <td>293.660060</td>\n",
       "    </tr>\n",
       "    <tr>\n",
       "      <th>min</th>\n",
       "      <td>2.110213</td>\n",
       "      <td>0.000000</td>\n",
       "      <td>0.000000</td>\n",
       "      <td>0.000000</td>\n",
       "      <td>0.000000</td>\n",
       "      <td>0.000000</td>\n",
       "      <td>0.000000</td>\n",
       "      <td>0.000000</td>\n",
       "      <td>0.000000</td>\n",
       "      <td>0.000000</td>\n",
       "      <td>...</td>\n",
       "      <td>0.000000</td>\n",
       "      <td>0.000000</td>\n",
       "      <td>0.000000</td>\n",
       "      <td>8.250000</td>\n",
       "      <td>0.000000</td>\n",
       "      <td>1.000000</td>\n",
       "      <td>1.000000</td>\n",
       "      <td>1.010110e+05</td>\n",
       "      <td>4.434425</td>\n",
       "      <td>-57.498259</td>\n",
       "    </tr>\n",
       "    <tr>\n",
       "      <th>25%</th>\n",
       "      <td>5.344724</td>\n",
       "      <td>0.000000</td>\n",
       "      <td>0.000000</td>\n",
       "      <td>0.000000</td>\n",
       "      <td>0.000000</td>\n",
       "      <td>0.000000</td>\n",
       "      <td>0.000000</td>\n",
       "      <td>0.000000</td>\n",
       "      <td>0.000000</td>\n",
       "      <td>0.000000</td>\n",
       "      <td>...</td>\n",
       "      <td>0.000000</td>\n",
       "      <td>0.000000</td>\n",
       "      <td>0.000000</td>\n",
       "      <td>209.500000</td>\n",
       "      <td>0.000000</td>\n",
       "      <td>2.000000</td>\n",
       "      <td>11577.000000</td>\n",
       "      <td>9.080021e+07</td>\n",
       "      <td>5.332906</td>\n",
       "      <td>235.941390</td>\n",
       "    </tr>\n",
       "    <tr>\n",
       "      <th>50%</th>\n",
       "      <td>5.876649</td>\n",
       "      <td>0.000000</td>\n",
       "      <td>0.000000</td>\n",
       "      <td>0.000000</td>\n",
       "      <td>0.000000</td>\n",
       "      <td>1.000000</td>\n",
       "      <td>0.000000</td>\n",
       "      <td>0.000000</td>\n",
       "      <td>0.000000</td>\n",
       "      <td>0.000000</td>\n",
       "      <td>...</td>\n",
       "      <td>0.000000</td>\n",
       "      <td>0.000000</td>\n",
       "      <td>1.000000</td>\n",
       "      <td>356.612100</td>\n",
       "      <td>0.000000</td>\n",
       "      <td>4.000000</td>\n",
       "      <td>23153.000000</td>\n",
       "      <td>1.828055e+08</td>\n",
       "      <td>5.871003</td>\n",
       "      <td>404.708715</td>\n",
       "    </tr>\n",
       "    <tr>\n",
       "      <th>75%</th>\n",
       "      <td>6.360625</td>\n",
       "      <td>0.000000</td>\n",
       "      <td>1.000000</td>\n",
       "      <td>0.000000</td>\n",
       "      <td>0.000000</td>\n",
       "      <td>1.000000</td>\n",
       "      <td>0.000000</td>\n",
       "      <td>0.000000</td>\n",
       "      <td>0.000000</td>\n",
       "      <td>0.000000</td>\n",
       "      <td>...</td>\n",
       "      <td>1.000000</td>\n",
       "      <td>0.000000</td>\n",
       "      <td>1.000000</td>\n",
       "      <td>578.607700</td>\n",
       "      <td>1.000000</td>\n",
       "      <td>5.000000</td>\n",
       "      <td>34729.000000</td>\n",
       "      <td>2.814050e+08</td>\n",
       "      <td>6.306364</td>\n",
       "      <td>611.242935</td>\n",
       "    </tr>\n",
       "    <tr>\n",
       "      <th>max</th>\n",
       "      <td>9.663810</td>\n",
       "      <td>1.000000</td>\n",
       "      <td>1.000000</td>\n",
       "      <td>1.000000</td>\n",
       "      <td>1.000000</td>\n",
       "      <td>1.000000</td>\n",
       "      <td>1.000000</td>\n",
       "      <td>1.000000</td>\n",
       "      <td>1.000000</td>\n",
       "      <td>1.000000</td>\n",
       "      <td>...</td>\n",
       "      <td>1.000000</td>\n",
       "      <td>1.000000</td>\n",
       "      <td>1.000000</td>\n",
       "      <td>15737.630000</td>\n",
       "      <td>1.000000</td>\n",
       "      <td>20.000000</td>\n",
       "      <td>46305.000000</td>\n",
       "      <td>4.035098e+08</td>\n",
       "      <td>7.738163</td>\n",
       "      <td>2132.653600</td>\n",
       "    </tr>\n",
       "  </tbody>\n",
       "</table>\n",
       "<p>8 rows × 105 columns</p>\n",
       "</div>"
      ],
      "text/plain": [
       "       lnpercapitaconsumption  d_fuel_other   d_fuel_wood   d_fuel_coal  \\\n",
       "count            46305.000000  46305.000000  46305.000000  46305.000000   \n",
       "mean                 5.856564      0.104244      0.307202      0.025656   \n",
       "std                  0.744232      0.305580      0.461339      0.158108   \n",
       "min                  2.110213      0.000000      0.000000      0.000000   \n",
       "25%                  5.344724      0.000000      0.000000      0.000000   \n",
       "50%                  5.876649      0.000000      0.000000      0.000000   \n",
       "75%                  6.360625      0.000000      1.000000      0.000000   \n",
       "max                  9.663810      1.000000      1.000000      1.000000   \n",
       "\n",
       "       d_fuel_kerosene    d_fuel_gas  d_fuel_electric   d_fuel_none  \\\n",
       "count     46305.000000  46305.000000     46305.000000  46305.000000   \n",
       "mean          0.004557      0.518734         0.007796      0.031811   \n",
       "std           0.067350      0.499654         0.087952      0.175498   \n",
       "min           0.000000      0.000000         0.000000      0.000000   \n",
       "25%           0.000000      0.000000         0.000000      0.000000   \n",
       "50%           0.000000      1.000000         0.000000      0.000000   \n",
       "75%           0.000000      1.000000         0.000000      0.000000   \n",
       "max           1.000000      1.000000         1.000000      1.000000   \n",
       "\n",
       "       d_water_other  d_water_river  ...  refrigerator        washer  \\\n",
       "count   46305.000000   46305.000000  ...  45306.000000  45306.000000   \n",
       "mean        0.041421       0.207947  ...      0.360504      0.132565   \n",
       "std         0.199264       0.405843  ...      0.480152      0.339108   \n",
       "min         0.000000       0.000000  ...      0.000000      0.000000   \n",
       "25%         0.000000       0.000000  ...      0.000000      0.000000   \n",
       "50%         0.000000       0.000000  ...      0.000000      0.000000   \n",
       "75%         0.000000       0.000000  ...      1.000000      0.000000   \n",
       "max         1.000000       1.000000  ...      1.000000      1.000000   \n",
       "\n",
       "           training  percapitaconsumption          poor      h_hhsize  \\\n",
       "count  46305.000000          46305.000000  46305.000000  46305.000000   \n",
       "mean       0.500011            461.243627      0.280207      4.012094   \n",
       "std        0.500005            411.392663      0.449105      2.093215   \n",
       "min        0.000000              8.250000      0.000000      1.000000   \n",
       "25%        0.000000            209.500000      0.000000      2.000000   \n",
       "50%        1.000000            356.612100      0.000000      4.000000   \n",
       "75%        1.000000            578.607700      1.000000      5.000000   \n",
       "max        1.000000          15737.630000      1.000000     20.000000   \n",
       "\n",
       "       id_for_matlab          hhid  lncaphat_OLS  percapitahat_OLS  \n",
       "count   46305.000000  4.630500e+04  45378.000000      45378.000000  \n",
       "mean    23153.000000  1.869936e+08      5.850041        459.121087  \n",
       "std     13367.246444  1.111905e+08      0.605646        293.660060  \n",
       "min         1.000000  1.010110e+05      4.434425        -57.498259  \n",
       "25%     11577.000000  9.080021e+07      5.332906        235.941390  \n",
       "50%     23153.000000  1.828055e+08      5.871003        404.708715  \n",
       "75%     34729.000000  2.814050e+08      6.306364        611.242935  \n",
       "max     46305.000000  4.035098e+08      7.738163       2132.653600  \n",
       "\n",
       "[8 rows x 105 columns]"
      ]
     },
     "execution_count": 10,
     "metadata": {},
     "output_type": "execute_result"
    }
   ],
   "source": [
    "# Visualize the distribution of each feature to get an overview of the dataset.\n",
    "peru.describe(include='all')"
   ]
  },
  {
   "cell_type": "code",
   "execution_count": null,
   "metadata": {},
   "outputs": [],
   "source": []
  },
  {
   "cell_type": "markdown",
   "metadata": {},
   "source": [
    "## 2.3 Split Train-test dataset"
   ]
  },
  {
   "cell_type": "code",
   "execution_count": 11,
   "metadata": {},
   "outputs": [],
   "source": [
    "trainNaN = peru[peru['training']==1]\n",
    "# train = trainNaN.dropna()\n",
    "train=trainNaN.dropna(axis=0, how='any', inplace=False)\n",
    "# train.isnull().sum().sum()\n",
    "\n",
    "# train.to_csv(r'Path where you want to store the exported CSV file\\File Name.csv', index = False)\n",
    "\n",
    "#train.to_csv(r'E:\\ML for EconAna\\Peru\\train_py.csv',index=True ,header=True)\n"
   ]
  },
  {
   "cell_type": "code",
   "execution_count": 12,
   "metadata": {},
   "outputs": [
    {
     "data": {
      "text/html": [
       "<div>\n",
       "<style scoped>\n",
       "    .dataframe tbody tr th:only-of-type {\n",
       "        vertical-align: middle;\n",
       "    }\n",
       "\n",
       "    .dataframe tbody tr th {\n",
       "        vertical-align: top;\n",
       "    }\n",
       "\n",
       "    .dataframe thead th {\n",
       "        text-align: right;\n",
       "    }\n",
       "</style>\n",
       "<table border=\"1\" class=\"dataframe\">\n",
       "  <thead>\n",
       "    <tr style=\"text-align: right;\">\n",
       "      <th></th>\n",
       "      <th>lnpercapitaconsumption</th>\n",
       "      <th>d_fuel_other</th>\n",
       "      <th>d_fuel_wood</th>\n",
       "      <th>d_fuel_coal</th>\n",
       "      <th>d_fuel_kerosene</th>\n",
       "      <th>d_fuel_gas</th>\n",
       "      <th>d_fuel_electric</th>\n",
       "      <th>d_fuel_none</th>\n",
       "      <th>d_water_other</th>\n",
       "      <th>d_water_river</th>\n",
       "      <th>...</th>\n",
       "      <th>refrigerator</th>\n",
       "      <th>washer</th>\n",
       "      <th>training</th>\n",
       "      <th>percapitaconsumption</th>\n",
       "      <th>poor</th>\n",
       "      <th>h_hhsize</th>\n",
       "      <th>id_for_matlab</th>\n",
       "      <th>hhid</th>\n",
       "      <th>lncaphat_OLS</th>\n",
       "      <th>percapitahat_OLS</th>\n",
       "    </tr>\n",
       "  </thead>\n",
       "  <tbody>\n",
       "    <tr>\n",
       "      <th>0</th>\n",
       "      <td>5.351858</td>\n",
       "      <td>0</td>\n",
       "      <td>1</td>\n",
       "      <td>0</td>\n",
       "      <td>0</td>\n",
       "      <td>0</td>\n",
       "      <td>0</td>\n",
       "      <td>0</td>\n",
       "      <td>0</td>\n",
       "      <td>1</td>\n",
       "      <td>...</td>\n",
       "      <td>0.0</td>\n",
       "      <td>0.0</td>\n",
       "      <td>0</td>\n",
       "      <td>211.0000</td>\n",
       "      <td>0</td>\n",
       "      <td>1</td>\n",
       "      <td>1</td>\n",
       "      <td>233710511</td>\n",
       "      <td>5.246471</td>\n",
       "      <td>284.42427</td>\n",
       "    </tr>\n",
       "    <tr>\n",
       "      <th>1</th>\n",
       "      <td>5.768755</td>\n",
       "      <td>0</td>\n",
       "      <td>0</td>\n",
       "      <td>0</td>\n",
       "      <td>0</td>\n",
       "      <td>1</td>\n",
       "      <td>0</td>\n",
       "      <td>0</td>\n",
       "      <td>0</td>\n",
       "      <td>0</td>\n",
       "      <td>...</td>\n",
       "      <td>1.0</td>\n",
       "      <td>0.0</td>\n",
       "      <td>0</td>\n",
       "      <td>320.1389</td>\n",
       "      <td>0</td>\n",
       "      <td>3</td>\n",
       "      <td>2</td>\n",
       "      <td>295508011</td>\n",
       "      <td>6.129468</td>\n",
       "      <td>522.88406</td>\n",
       "    </tr>\n",
       "    <tr>\n",
       "      <th>2</th>\n",
       "      <td>5.968277</td>\n",
       "      <td>0</td>\n",
       "      <td>0</td>\n",
       "      <td>0</td>\n",
       "      <td>0</td>\n",
       "      <td>1</td>\n",
       "      <td>0</td>\n",
       "      <td>0</td>\n",
       "      <td>0</td>\n",
       "      <td>0</td>\n",
       "      <td>...</td>\n",
       "      <td>0.0</td>\n",
       "      <td>0.0</td>\n",
       "      <td>0</td>\n",
       "      <td>390.8318</td>\n",
       "      <td>0</td>\n",
       "      <td>4</td>\n",
       "      <td>3</td>\n",
       "      <td>257600211</td>\n",
       "      <td>6.665577</td>\n",
       "      <td>878.49612</td>\n",
       "    </tr>\n",
       "    <tr>\n",
       "      <th>3</th>\n",
       "      <td>5.654599</td>\n",
       "      <td>0</td>\n",
       "      <td>0</td>\n",
       "      <td>0</td>\n",
       "      <td>0</td>\n",
       "      <td>1</td>\n",
       "      <td>0</td>\n",
       "      <td>0</td>\n",
       "      <td>0</td>\n",
       "      <td>0</td>\n",
       "      <td>...</td>\n",
       "      <td>NaN</td>\n",
       "      <td>NaN</td>\n",
       "      <td>0</td>\n",
       "      <td>285.6018</td>\n",
       "      <td>1</td>\n",
       "      <td>9</td>\n",
       "      <td>4</td>\n",
       "      <td>198104311</td>\n",
       "      <td>6.088294</td>\n",
       "      <td>567.47054</td>\n",
       "    </tr>\n",
       "    <tr>\n",
       "      <th>4</th>\n",
       "      <td>4.771289</td>\n",
       "      <td>0</td>\n",
       "      <td>1</td>\n",
       "      <td>0</td>\n",
       "      <td>0</td>\n",
       "      <td>0</td>\n",
       "      <td>0</td>\n",
       "      <td>0</td>\n",
       "      <td>0</td>\n",
       "      <td>1</td>\n",
       "      <td>...</td>\n",
       "      <td>0.0</td>\n",
       "      <td>0.0</td>\n",
       "      <td>0</td>\n",
       "      <td>118.0713</td>\n",
       "      <td>1</td>\n",
       "      <td>8</td>\n",
       "      <td>5</td>\n",
       "      <td>24805311</td>\n",
       "      <td>5.008170</td>\n",
       "      <td>115.49293</td>\n",
       "    </tr>\n",
       "  </tbody>\n",
       "</table>\n",
       "<p>5 rows × 105 columns</p>\n",
       "</div>"
      ],
      "text/plain": [
       "   lnpercapitaconsumption  d_fuel_other  d_fuel_wood  d_fuel_coal  \\\n",
       "0                5.351858             0            1            0   \n",
       "1                5.768755             0            0            0   \n",
       "2                5.968277             0            0            0   \n",
       "3                5.654599             0            0            0   \n",
       "4                4.771289             0            1            0   \n",
       "\n",
       "   d_fuel_kerosene  d_fuel_gas  d_fuel_electric  d_fuel_none  d_water_other  \\\n",
       "0                0           0                0            0              0   \n",
       "1                0           1                0            0              0   \n",
       "2                0           1                0            0              0   \n",
       "3                0           1                0            0              0   \n",
       "4                0           0                0            0              0   \n",
       "\n",
       "   d_water_river  ...  refrigerator  washer  training  percapitaconsumption  \\\n",
       "0              1  ...           0.0     0.0         0              211.0000   \n",
       "1              0  ...           1.0     0.0         0              320.1389   \n",
       "2              0  ...           0.0     0.0         0              390.8318   \n",
       "3              0  ...           NaN     NaN         0              285.6018   \n",
       "4              1  ...           0.0     0.0         0              118.0713   \n",
       "\n",
       "   poor  h_hhsize  id_for_matlab       hhid  lncaphat_OLS  percapitahat_OLS  \n",
       "0     0         1              1  233710511      5.246471         284.42427  \n",
       "1     0         3              2  295508011      6.129468         522.88406  \n",
       "2     0         4              3  257600211      6.665577         878.49612  \n",
       "3     1         9              4  198104311      6.088294         567.47054  \n",
       "4     1         8              5   24805311      5.008170         115.49293  \n",
       "\n",
       "[5 rows x 105 columns]"
      ]
     },
     "execution_count": 12,
     "metadata": {},
     "output_type": "execute_result"
    }
   ],
   "source": [
    "test = peru[peru['training']==0]\n",
    "test.head()"
   ]
  },
  {
   "cell_type": "code",
   "execution_count": 13,
   "metadata": {},
   "outputs": [
    {
     "data": {
      "text/html": [
       "<div>\n",
       "<style scoped>\n",
       "    .dataframe tbody tr th:only-of-type {\n",
       "        vertical-align: middle;\n",
       "    }\n",
       "\n",
       "    .dataframe tbody tr th {\n",
       "        vertical-align: top;\n",
       "    }\n",
       "\n",
       "    .dataframe thead th {\n",
       "        text-align: right;\n",
       "    }\n",
       "</style>\n",
       "<table border=\"1\" class=\"dataframe\">\n",
       "  <thead>\n",
       "    <tr style=\"text-align: right;\">\n",
       "      <th></th>\n",
       "      <th>d_fuel_other</th>\n",
       "      <th>d_fuel_wood</th>\n",
       "      <th>d_fuel_coal</th>\n",
       "      <th>d_fuel_kerosene</th>\n",
       "      <th>d_fuel_gas</th>\n",
       "      <th>d_fuel_electric</th>\n",
       "      <th>d_fuel_none</th>\n",
       "      <th>d_water_other</th>\n",
       "      <th>d_water_river</th>\n",
       "      <th>d_water_well</th>\n",
       "      <th>...</th>\n",
       "      <th>d_dominio_3</th>\n",
       "      <th>d_dominio_4</th>\n",
       "      <th>d_dominio_5</th>\n",
       "      <th>d_dominio_6</th>\n",
       "      <th>d_dominio_7</th>\n",
       "      <th>internet</th>\n",
       "      <th>cable</th>\n",
       "      <th>computer</th>\n",
       "      <th>refrigerator</th>\n",
       "      <th>washer</th>\n",
       "    </tr>\n",
       "  </thead>\n",
       "  <tbody>\n",
       "    <tr>\n",
       "      <th>23152</th>\n",
       "      <td>0</td>\n",
       "      <td>1</td>\n",
       "      <td>0</td>\n",
       "      <td>0</td>\n",
       "      <td>0</td>\n",
       "      <td>0</td>\n",
       "      <td>0</td>\n",
       "      <td>0</td>\n",
       "      <td>0</td>\n",
       "      <td>0</td>\n",
       "      <td>...</td>\n",
       "      <td>0</td>\n",
       "      <td>0</td>\n",
       "      <td>0</td>\n",
       "      <td>0</td>\n",
       "      <td>0</td>\n",
       "      <td>0</td>\n",
       "      <td>0</td>\n",
       "      <td>0.0</td>\n",
       "      <td>0.0</td>\n",
       "      <td>0.0</td>\n",
       "    </tr>\n",
       "    <tr>\n",
       "      <th>23153</th>\n",
       "      <td>0</td>\n",
       "      <td>0</td>\n",
       "      <td>0</td>\n",
       "      <td>0</td>\n",
       "      <td>1</td>\n",
       "      <td>0</td>\n",
       "      <td>0</td>\n",
       "      <td>0</td>\n",
       "      <td>0</td>\n",
       "      <td>0</td>\n",
       "      <td>...</td>\n",
       "      <td>0</td>\n",
       "      <td>0</td>\n",
       "      <td>0</td>\n",
       "      <td>1</td>\n",
       "      <td>0</td>\n",
       "      <td>1</td>\n",
       "      <td>0</td>\n",
       "      <td>1.0</td>\n",
       "      <td>1.0</td>\n",
       "      <td>1.0</td>\n",
       "    </tr>\n",
       "    <tr>\n",
       "      <th>23154</th>\n",
       "      <td>0</td>\n",
       "      <td>1</td>\n",
       "      <td>0</td>\n",
       "      <td>0</td>\n",
       "      <td>0</td>\n",
       "      <td>0</td>\n",
       "      <td>0</td>\n",
       "      <td>0</td>\n",
       "      <td>0</td>\n",
       "      <td>0</td>\n",
       "      <td>...</td>\n",
       "      <td>0</td>\n",
       "      <td>0</td>\n",
       "      <td>1</td>\n",
       "      <td>0</td>\n",
       "      <td>0</td>\n",
       "      <td>0</td>\n",
       "      <td>0</td>\n",
       "      <td>0.0</td>\n",
       "      <td>0.0</td>\n",
       "      <td>0.0</td>\n",
       "    </tr>\n",
       "    <tr>\n",
       "      <th>23155</th>\n",
       "      <td>0</td>\n",
       "      <td>1</td>\n",
       "      <td>0</td>\n",
       "      <td>0</td>\n",
       "      <td>0</td>\n",
       "      <td>0</td>\n",
       "      <td>0</td>\n",
       "      <td>0</td>\n",
       "      <td>1</td>\n",
       "      <td>0</td>\n",
       "      <td>...</td>\n",
       "      <td>0</td>\n",
       "      <td>0</td>\n",
       "      <td>0</td>\n",
       "      <td>0</td>\n",
       "      <td>0</td>\n",
       "      <td>0</td>\n",
       "      <td>0</td>\n",
       "      <td>0.0</td>\n",
       "      <td>0.0</td>\n",
       "      <td>0.0</td>\n",
       "    </tr>\n",
       "    <tr>\n",
       "      <th>23156</th>\n",
       "      <td>1</td>\n",
       "      <td>0</td>\n",
       "      <td>0</td>\n",
       "      <td>0</td>\n",
       "      <td>0</td>\n",
       "      <td>0</td>\n",
       "      <td>0</td>\n",
       "      <td>0</td>\n",
       "      <td>0</td>\n",
       "      <td>0</td>\n",
       "      <td>...</td>\n",
       "      <td>0</td>\n",
       "      <td>0</td>\n",
       "      <td>0</td>\n",
       "      <td>1</td>\n",
       "      <td>0</td>\n",
       "      <td>0</td>\n",
       "      <td>0</td>\n",
       "      <td>0.0</td>\n",
       "      <td>0.0</td>\n",
       "      <td>0.0</td>\n",
       "    </tr>\n",
       "  </tbody>\n",
       "</table>\n",
       "<p>5 rows × 96 columns</p>\n",
       "</div>"
      ],
      "text/plain": [
       "       d_fuel_other  d_fuel_wood  d_fuel_coal  d_fuel_kerosene  d_fuel_gas  \\\n",
       "23152             0            1            0                0           0   \n",
       "23153             0            0            0                0           1   \n",
       "23154             0            1            0                0           0   \n",
       "23155             0            1            0                0           0   \n",
       "23156             1            0            0                0           0   \n",
       "\n",
       "       d_fuel_electric  d_fuel_none  d_water_other  d_water_river  \\\n",
       "23152                0            0              0              0   \n",
       "23153                0            0              0              0   \n",
       "23154                0            0              0              0   \n",
       "23155                0            0              0              1   \n",
       "23156                0            0              0              0   \n",
       "\n",
       "       d_water_well  ...  d_dominio_3  d_dominio_4  d_dominio_5  d_dominio_6  \\\n",
       "23152             0  ...            0            0            0            0   \n",
       "23153             0  ...            0            0            0            1   \n",
       "23154             0  ...            0            0            1            0   \n",
       "23155             0  ...            0            0            0            0   \n",
       "23156             0  ...            0            0            0            1   \n",
       "\n",
       "       d_dominio_7  internet  cable  computer  refrigerator  washer  \n",
       "23152            0         0      0       0.0           0.0     0.0  \n",
       "23153            0         1      0       1.0           1.0     1.0  \n",
       "23154            0         0      0       0.0           0.0     0.0  \n",
       "23155            0         0      0       0.0           0.0     0.0  \n",
       "23156            0         0      0       0.0           0.0     0.0  \n",
       "\n",
       "[5 rows x 96 columns]"
      ]
     },
     "execution_count": 13,
     "metadata": {},
     "output_type": "execute_result"
    }
   ],
   "source": [
    "x_train = train.iloc[:,1: 97]\n",
    "x_train1 = train.iloc[:,1: 97]\n",
    "x_test = test.iloc[:,1: 97]\n",
    "x_train.head()"
   ]
  },
  {
   "cell_type": "code",
   "execution_count": 14,
   "metadata": {},
   "outputs": [],
   "source": [
    "y_train = train.loc[:,'percapitaconsumption']\n",
    "lny_train = train.loc[:,'lnpercapitaconsumption']\n",
    "y_test = test.loc[:,'percapitaconsumption']\n",
    "lny_test = test.loc[:,'lnpercapitaconsumption']"
   ]
  },
  {
   "cell_type": "markdown",
   "metadata": {},
   "source": [
    "##impute the missing values and export it to the current directory\n",
    "imr = SimpleImputer(missing_values=np.nan, strategy='median')\n",
    "imr = imr.fit(x_test)\n",
    "x_test = pd.DataFrame(imr.transform(x_test))\n",
    "x_test.to_csv(r'Datasets\\x_test_96.csv',index=True ,header=True)"
   ]
  },
  {
   "cell_type": "code",
   "execution_count": 15,
   "metadata": {},
   "outputs": [
    {
     "data": {
      "text/html": [
       "<div>\n",
       "<style scoped>\n",
       "    .dataframe tbody tr th:only-of-type {\n",
       "        vertical-align: middle;\n",
       "    }\n",
       "\n",
       "    .dataframe tbody tr th {\n",
       "        vertical-align: top;\n",
       "    }\n",
       "\n",
       "    .dataframe thead th {\n",
       "        text-align: right;\n",
       "    }\n",
       "</style>\n",
       "<table border=\"1\" class=\"dataframe\">\n",
       "  <thead>\n",
       "    <tr style=\"text-align: right;\">\n",
       "      <th></th>\n",
       "      <th>d_fuel_other</th>\n",
       "      <th>d_fuel_wood</th>\n",
       "      <th>d_fuel_coal</th>\n",
       "      <th>d_fuel_kerosene</th>\n",
       "      <th>d_fuel_gas</th>\n",
       "      <th>d_fuel_electric</th>\n",
       "      <th>d_fuel_none</th>\n",
       "      <th>d_water_other</th>\n",
       "      <th>d_water_river</th>\n",
       "      <th>d_water_well</th>\n",
       "      <th>...</th>\n",
       "      <th>d_dominio_3</th>\n",
       "      <th>d_dominio_4</th>\n",
       "      <th>d_dominio_5</th>\n",
       "      <th>d_dominio_6</th>\n",
       "      <th>d_dominio_7</th>\n",
       "      <th>internet</th>\n",
       "      <th>cable</th>\n",
       "      <th>computer</th>\n",
       "      <th>refrigerator</th>\n",
       "      <th>washer</th>\n",
       "    </tr>\n",
       "  </thead>\n",
       "  <tbody>\n",
       "    <tr>\n",
       "      <th>0</th>\n",
       "      <td>0</td>\n",
       "      <td>1</td>\n",
       "      <td>0</td>\n",
       "      <td>0</td>\n",
       "      <td>0</td>\n",
       "      <td>0</td>\n",
       "      <td>0</td>\n",
       "      <td>0</td>\n",
       "      <td>1</td>\n",
       "      <td>0</td>\n",
       "      <td>...</td>\n",
       "      <td>0</td>\n",
       "      <td>0</td>\n",
       "      <td>0</td>\n",
       "      <td>0</td>\n",
       "      <td>1</td>\n",
       "      <td>0</td>\n",
       "      <td>0</td>\n",
       "      <td>0</td>\n",
       "      <td>0</td>\n",
       "      <td>0</td>\n",
       "    </tr>\n",
       "    <tr>\n",
       "      <th>1</th>\n",
       "      <td>0</td>\n",
       "      <td>0</td>\n",
       "      <td>0</td>\n",
       "      <td>0</td>\n",
       "      <td>1</td>\n",
       "      <td>0</td>\n",
       "      <td>0</td>\n",
       "      <td>0</td>\n",
       "      <td>0</td>\n",
       "      <td>0</td>\n",
       "      <td>...</td>\n",
       "      <td>0</td>\n",
       "      <td>0</td>\n",
       "      <td>0</td>\n",
       "      <td>0</td>\n",
       "      <td>1</td>\n",
       "      <td>0</td>\n",
       "      <td>1</td>\n",
       "      <td>1</td>\n",
       "      <td>1</td>\n",
       "      <td>0</td>\n",
       "    </tr>\n",
       "    <tr>\n",
       "      <th>2</th>\n",
       "      <td>0</td>\n",
       "      <td>0</td>\n",
       "      <td>0</td>\n",
       "      <td>0</td>\n",
       "      <td>1</td>\n",
       "      <td>0</td>\n",
       "      <td>0</td>\n",
       "      <td>0</td>\n",
       "      <td>0</td>\n",
       "      <td>0</td>\n",
       "      <td>...</td>\n",
       "      <td>0</td>\n",
       "      <td>0</td>\n",
       "      <td>1</td>\n",
       "      <td>0</td>\n",
       "      <td>0</td>\n",
       "      <td>1</td>\n",
       "      <td>1</td>\n",
       "      <td>1</td>\n",
       "      <td>0</td>\n",
       "      <td>0</td>\n",
       "    </tr>\n",
       "    <tr>\n",
       "      <th>3</th>\n",
       "      <td>0</td>\n",
       "      <td>0</td>\n",
       "      <td>0</td>\n",
       "      <td>0</td>\n",
       "      <td>1</td>\n",
       "      <td>0</td>\n",
       "      <td>0</td>\n",
       "      <td>0</td>\n",
       "      <td>0</td>\n",
       "      <td>0</td>\n",
       "      <td>...</td>\n",
       "      <td>0</td>\n",
       "      <td>0</td>\n",
       "      <td>0</td>\n",
       "      <td>0</td>\n",
       "      <td>0</td>\n",
       "      <td>0</td>\n",
       "      <td>0</td>\n",
       "      <td>0</td>\n",
       "      <td>0</td>\n",
       "      <td>0</td>\n",
       "    </tr>\n",
       "    <tr>\n",
       "      <th>4</th>\n",
       "      <td>0</td>\n",
       "      <td>1</td>\n",
       "      <td>0</td>\n",
       "      <td>0</td>\n",
       "      <td>0</td>\n",
       "      <td>0</td>\n",
       "      <td>0</td>\n",
       "      <td>0</td>\n",
       "      <td>1</td>\n",
       "      <td>0</td>\n",
       "      <td>...</td>\n",
       "      <td>0</td>\n",
       "      <td>0</td>\n",
       "      <td>1</td>\n",
       "      <td>0</td>\n",
       "      <td>0</td>\n",
       "      <td>0</td>\n",
       "      <td>0</td>\n",
       "      <td>0</td>\n",
       "      <td>0</td>\n",
       "      <td>0</td>\n",
       "    </tr>\n",
       "  </tbody>\n",
       "</table>\n",
       "<p>5 rows × 96 columns</p>\n",
       "</div>"
      ],
      "text/plain": [
       "   d_fuel_other  d_fuel_wood  d_fuel_coal  d_fuel_kerosene  d_fuel_gas  \\\n",
       "0             0            1            0                0           0   \n",
       "1             0            0            0                0           1   \n",
       "2             0            0            0                0           1   \n",
       "3             0            0            0                0           1   \n",
       "4             0            1            0                0           0   \n",
       "\n",
       "   d_fuel_electric  d_fuel_none  d_water_other  d_water_river  d_water_well  \\\n",
       "0                0            0              0              1             0   \n",
       "1                0            0              0              0             0   \n",
       "2                0            0              0              0             0   \n",
       "3                0            0              0              0             0   \n",
       "4                0            0              0              1             0   \n",
       "\n",
       "   ...  d_dominio_3  d_dominio_4  d_dominio_5  d_dominio_6  d_dominio_7  \\\n",
       "0  ...            0            0            0            0            1   \n",
       "1  ...            0            0            0            0            1   \n",
       "2  ...            0            0            1            0            0   \n",
       "3  ...            0            0            0            0            0   \n",
       "4  ...            0            0            1            0            0   \n",
       "\n",
       "   internet  cable  computer  refrigerator  washer  \n",
       "0         0      0         0             0       0  \n",
       "1         0      1         1             1       0  \n",
       "2         1      1         1             0       0  \n",
       "3         0      0         0             0       0  \n",
       "4         0      0         0             0       0  \n",
       "\n",
       "[5 rows x 96 columns]"
      ]
     },
     "execution_count": 15,
     "metadata": {},
     "output_type": "execute_result"
    }
   ],
   "source": [
    "# import x_test data\n",
    "x_test = pd.read_csv('datasets/x_test_96.csv')\n",
    "x_test1 = pd.read_csv('datasets/x_test_96.csv')\n",
    "x_test.head()"
   ]
  },
  {
   "cell_type": "code",
   "execution_count": 16,
   "metadata": {},
   "outputs": [
    {
     "name": "stdout",
     "output_type": "stream",
     "text": [
      "False\n",
      "True\n",
      "False\n"
     ]
    }
   ],
   "source": [
    "print(np.any(np.isnan(x_test)))\n",
    "print(np.all(np.isfinite(x_test)))\n",
    "print(np.any(np.isinf(x_test)))"
   ]
  },
  {
   "cell_type": "code",
   "execution_count": 17,
   "metadata": {},
   "outputs": [
    {
     "data": {
      "text/plain": [
       "d_fuel_other       0\n",
       "d_fuel_wood        0\n",
       "d_fuel_coal        0\n",
       "d_fuel_kerosene    0\n",
       "d_fuel_gas         0\n",
       "                  ..\n",
       "internet           0\n",
       "cable              0\n",
       "computer           0\n",
       "refrigerator       0\n",
       "washer             0\n",
       "Length: 96, dtype: int64"
      ]
     },
     "execution_count": 17,
     "metadata": {},
     "output_type": "execute_result"
    }
   ],
   "source": [
    "x_test.isnull().sum()"
   ]
  },
  {
   "cell_type": "code",
   "execution_count": 18,
   "metadata": {},
   "outputs": [
    {
     "data": {
      "image/png": "[encoded data removed]",
      "text/plain": [
       "<Figure size 2160x1080 with 2 Axes>"
      ]
     },
     "metadata": {},
     "output_type": "display_data"
    },
    {
     "data": {
      "text/plain": [
       "<matplotlib.axes._subplots.AxesSubplot at 0x184e0f66d88>"
      ]
     },
     "execution_count": 18,
     "metadata": {},
     "output_type": "execute_result"
    }
   ],
   "source": [
    "# Instantiate the visualizer with the Pearson ranking algorithm\n",
    "visualizer = Rank2D(algorithm='pearson')\n",
    "fig=plt.gcf()\n",
    "fig.set_size_inches(30,15)\n",
    "visualizer.fit(x_train, y_train)           # Fit the data to the visualizer\n",
    "visualizer.transform(x_train)        # Transform the data\n",
    "visualizer.show()"
   ]
  },
  {
   "cell_type": "code",
   "execution_count": 19,
   "metadata": {},
   "outputs": [
    {
     "data": {
      "text/plain": [
       "(23152, 96)"
      ]
     },
     "execution_count": 19,
     "metadata": {},
     "output_type": "execute_result"
    }
   ],
   "source": [
    "x_test.shape"
   ]
  },
  {
   "cell_type": "code",
   "execution_count": 20,
   "metadata": {},
   "outputs": [
    {
     "data": {
      "text/plain": [
       "(22191, 96)"
      ]
     },
     "execution_count": 20,
     "metadata": {},
     "output_type": "execute_result"
    }
   ],
   "source": [
    "x_train.shape"
   ]
  },
  {
   "cell_type": "markdown",
   "metadata": {},
   "source": [
    "# 3 Model implementation\n",
    "## 3.1 Replicate the original paper(Peru): OLS"
   ]
  },
  {
   "cell_type": "code",
   "execution_count": 21,
   "metadata": {},
   "outputs": [],
   "source": [
    "# add constant for train_x\n",
    "x_train_72 = train.iloc[:,1: 73]\n",
    "x_test_72 = x_test.iloc[:,0: 72]\n",
    "one = np.ones(np.shape(x_train_72))\n",
    "x_train_withcons = np.concatenate([one,x_train_72],axis=1)\n",
    "# add constant for test_x\n",
    "one = np.ones(np.shape(x_test_72))\n",
    "x_test_withcons = np.concatenate([one,x_test_72],axis=1)"
   ]
  },
  {
   "cell_type": "code",
   "execution_count": 22,
   "metadata": {},
   "outputs": [
    {
     "data": {
      "text/html": [
       "<div>\n",
       "<style scoped>\n",
       "    .dataframe tbody tr th:only-of-type {\n",
       "        vertical-align: middle;\n",
       "    }\n",
       "\n",
       "    .dataframe tbody tr th {\n",
       "        vertical-align: top;\n",
       "    }\n",
       "\n",
       "    .dataframe thead th {\n",
       "        text-align: right;\n",
       "    }\n",
       "</style>\n",
       "<table border=\"1\" class=\"dataframe\">\n",
       "  <thead>\n",
       "    <tr style=\"text-align: right;\">\n",
       "      <th></th>\n",
       "      <th>d_fuel_other</th>\n",
       "      <th>d_fuel_wood</th>\n",
       "      <th>d_fuel_coal</th>\n",
       "      <th>d_fuel_kerosene</th>\n",
       "      <th>d_fuel_gas</th>\n",
       "      <th>d_fuel_electric</th>\n",
       "      <th>d_fuel_none</th>\n",
       "      <th>d_water_other</th>\n",
       "      <th>d_water_river</th>\n",
       "      <th>d_water_well</th>\n",
       "      <th>...</th>\n",
       "      <th>d_crowd_1to2</th>\n",
       "      <th>d_crowd_2to4</th>\n",
       "      <th>d_crowd_4to6</th>\n",
       "      <th>d_crowd_6plus</th>\n",
       "      <th>d_lux_0</th>\n",
       "      <th>d_lux_1</th>\n",
       "      <th>d_lux_2</th>\n",
       "      <th>d_lux_3</th>\n",
       "      <th>d_lux_4</th>\n",
       "      <th>d_lux_5</th>\n",
       "    </tr>\n",
       "  </thead>\n",
       "  <tbody>\n",
       "    <tr>\n",
       "      <th>23152</th>\n",
       "      <td>0</td>\n",
       "      <td>1</td>\n",
       "      <td>0</td>\n",
       "      <td>0</td>\n",
       "      <td>0</td>\n",
       "      <td>0</td>\n",
       "      <td>0</td>\n",
       "      <td>0</td>\n",
       "      <td>0</td>\n",
       "      <td>0</td>\n",
       "      <td>...</td>\n",
       "      <td>0.0</td>\n",
       "      <td>0.0</td>\n",
       "      <td>0.0</td>\n",
       "      <td>0.0</td>\n",
       "      <td>1</td>\n",
       "      <td>0</td>\n",
       "      <td>0</td>\n",
       "      <td>0</td>\n",
       "      <td>0</td>\n",
       "      <td>0</td>\n",
       "    </tr>\n",
       "    <tr>\n",
       "      <th>23153</th>\n",
       "      <td>0</td>\n",
       "      <td>0</td>\n",
       "      <td>0</td>\n",
       "      <td>0</td>\n",
       "      <td>1</td>\n",
       "      <td>0</td>\n",
       "      <td>0</td>\n",
       "      <td>0</td>\n",
       "      <td>0</td>\n",
       "      <td>0</td>\n",
       "      <td>...</td>\n",
       "      <td>1.0</td>\n",
       "      <td>0.0</td>\n",
       "      <td>0.0</td>\n",
       "      <td>0.0</td>\n",
       "      <td>0</td>\n",
       "      <td>0</td>\n",
       "      <td>0</td>\n",
       "      <td>0</td>\n",
       "      <td>1</td>\n",
       "      <td>0</td>\n",
       "    </tr>\n",
       "    <tr>\n",
       "      <th>23154</th>\n",
       "      <td>0</td>\n",
       "      <td>1</td>\n",
       "      <td>0</td>\n",
       "      <td>0</td>\n",
       "      <td>0</td>\n",
       "      <td>0</td>\n",
       "      <td>0</td>\n",
       "      <td>0</td>\n",
       "      <td>0</td>\n",
       "      <td>0</td>\n",
       "      <td>...</td>\n",
       "      <td>0.0</td>\n",
       "      <td>1.0</td>\n",
       "      <td>0.0</td>\n",
       "      <td>0.0</td>\n",
       "      <td>1</td>\n",
       "      <td>0</td>\n",
       "      <td>0</td>\n",
       "      <td>0</td>\n",
       "      <td>0</td>\n",
       "      <td>0</td>\n",
       "    </tr>\n",
       "    <tr>\n",
       "      <th>23155</th>\n",
       "      <td>0</td>\n",
       "      <td>1</td>\n",
       "      <td>0</td>\n",
       "      <td>0</td>\n",
       "      <td>0</td>\n",
       "      <td>0</td>\n",
       "      <td>0</td>\n",
       "      <td>0</td>\n",
       "      <td>1</td>\n",
       "      <td>0</td>\n",
       "      <td>...</td>\n",
       "      <td>1.0</td>\n",
       "      <td>0.0</td>\n",
       "      <td>0.0</td>\n",
       "      <td>0.0</td>\n",
       "      <td>1</td>\n",
       "      <td>0</td>\n",
       "      <td>0</td>\n",
       "      <td>0</td>\n",
       "      <td>0</td>\n",
       "      <td>0</td>\n",
       "    </tr>\n",
       "    <tr>\n",
       "      <th>23156</th>\n",
       "      <td>1</td>\n",
       "      <td>0</td>\n",
       "      <td>0</td>\n",
       "      <td>0</td>\n",
       "      <td>0</td>\n",
       "      <td>0</td>\n",
       "      <td>0</td>\n",
       "      <td>0</td>\n",
       "      <td>0</td>\n",
       "      <td>0</td>\n",
       "      <td>...</td>\n",
       "      <td>1.0</td>\n",
       "      <td>0.0</td>\n",
       "      <td>0.0</td>\n",
       "      <td>0.0</td>\n",
       "      <td>1</td>\n",
       "      <td>0</td>\n",
       "      <td>0</td>\n",
       "      <td>0</td>\n",
       "      <td>0</td>\n",
       "      <td>0</td>\n",
       "    </tr>\n",
       "  </tbody>\n",
       "</table>\n",
       "<p>5 rows × 72 columns</p>\n",
       "</div>"
      ],
      "text/plain": [
       "       d_fuel_other  d_fuel_wood  d_fuel_coal  d_fuel_kerosene  d_fuel_gas  \\\n",
       "23152             0            1            0                0           0   \n",
       "23153             0            0            0                0           1   \n",
       "23154             0            1            0                0           0   \n",
       "23155             0            1            0                0           0   \n",
       "23156             1            0            0                0           0   \n",
       "\n",
       "       d_fuel_electric  d_fuel_none  d_water_other  d_water_river  \\\n",
       "23152                0            0              0              0   \n",
       "23153                0            0              0              0   \n",
       "23154                0            0              0              0   \n",
       "23155                0            0              0              1   \n",
       "23156                0            0              0              0   \n",
       "\n",
       "       d_water_well  ...  d_crowd_1to2  d_crowd_2to4  d_crowd_4to6  \\\n",
       "23152             0  ...           0.0           0.0           0.0   \n",
       "23153             0  ...           1.0           0.0           0.0   \n",
       "23154             0  ...           0.0           1.0           0.0   \n",
       "23155             0  ...           1.0           0.0           0.0   \n",
       "23156             0  ...           1.0           0.0           0.0   \n",
       "\n",
       "       d_crowd_6plus  d_lux_0  d_lux_1  d_lux_2  d_lux_3  d_lux_4  d_lux_5  \n",
       "23152            0.0        1        0        0        0        0        0  \n",
       "23153            0.0        0        0        0        0        1        0  \n",
       "23154            0.0        1        0        0        0        0        0  \n",
       "23155            0.0        1        0        0        0        0        0  \n",
       "23156            0.0        1        0        0        0        0        0  \n",
       "\n",
       "[5 rows x 72 columns]"
      ]
     },
     "execution_count": 22,
     "metadata": {},
     "output_type": "execute_result"
    }
   ],
   "source": [
    "x_train_72.head()"
   ]
  },
  {
   "cell_type": "code",
   "execution_count": 23,
   "metadata": {},
   "outputs": [
    {
     "data": {
      "text/html": [
       "<div>\n",
       "<style scoped>\n",
       "    .dataframe tbody tr th:only-of-type {\n",
       "        vertical-align: middle;\n",
       "    }\n",
       "\n",
       "    .dataframe tbody tr th {\n",
       "        vertical-align: top;\n",
       "    }\n",
       "\n",
       "    .dataframe thead th {\n",
       "        text-align: right;\n",
       "    }\n",
       "</style>\n",
       "<table border=\"1\" class=\"dataframe\">\n",
       "  <thead>\n",
       "    <tr style=\"text-align: right;\">\n",
       "      <th></th>\n",
       "      <th>d_fuel_other</th>\n",
       "      <th>d_fuel_wood</th>\n",
       "      <th>d_fuel_coal</th>\n",
       "      <th>d_fuel_kerosene</th>\n",
       "      <th>d_fuel_gas</th>\n",
       "      <th>d_fuel_electric</th>\n",
       "      <th>d_fuel_none</th>\n",
       "      <th>d_water_other</th>\n",
       "      <th>d_water_river</th>\n",
       "      <th>d_water_well</th>\n",
       "      <th>...</th>\n",
       "      <th>d_crowd_1to2</th>\n",
       "      <th>d_crowd_2to4</th>\n",
       "      <th>d_crowd_4to6</th>\n",
       "      <th>d_crowd_6plus</th>\n",
       "      <th>d_lux_0</th>\n",
       "      <th>d_lux_1</th>\n",
       "      <th>d_lux_2</th>\n",
       "      <th>d_lux_3</th>\n",
       "      <th>d_lux_4</th>\n",
       "      <th>d_lux_5</th>\n",
       "    </tr>\n",
       "  </thead>\n",
       "  <tbody>\n",
       "    <tr>\n",
       "      <th>0</th>\n",
       "      <td>0</td>\n",
       "      <td>1</td>\n",
       "      <td>0</td>\n",
       "      <td>0</td>\n",
       "      <td>0</td>\n",
       "      <td>0</td>\n",
       "      <td>0</td>\n",
       "      <td>0</td>\n",
       "      <td>1</td>\n",
       "      <td>0</td>\n",
       "      <td>...</td>\n",
       "      <td>0</td>\n",
       "      <td>0</td>\n",
       "      <td>0</td>\n",
       "      <td>0</td>\n",
       "      <td>1</td>\n",
       "      <td>0</td>\n",
       "      <td>0</td>\n",
       "      <td>0</td>\n",
       "      <td>0</td>\n",
       "      <td>0</td>\n",
       "    </tr>\n",
       "    <tr>\n",
       "      <th>1</th>\n",
       "      <td>0</td>\n",
       "      <td>0</td>\n",
       "      <td>0</td>\n",
       "      <td>0</td>\n",
       "      <td>1</td>\n",
       "      <td>0</td>\n",
       "      <td>0</td>\n",
       "      <td>0</td>\n",
       "      <td>0</td>\n",
       "      <td>0</td>\n",
       "      <td>...</td>\n",
       "      <td>1</td>\n",
       "      <td>0</td>\n",
       "      <td>0</td>\n",
       "      <td>0</td>\n",
       "      <td>0</td>\n",
       "      <td>0</td>\n",
       "      <td>0</td>\n",
       "      <td>1</td>\n",
       "      <td>0</td>\n",
       "      <td>0</td>\n",
       "    </tr>\n",
       "    <tr>\n",
       "      <th>2</th>\n",
       "      <td>0</td>\n",
       "      <td>0</td>\n",
       "      <td>0</td>\n",
       "      <td>0</td>\n",
       "      <td>1</td>\n",
       "      <td>0</td>\n",
       "      <td>0</td>\n",
       "      <td>0</td>\n",
       "      <td>0</td>\n",
       "      <td>0</td>\n",
       "      <td>...</td>\n",
       "      <td>0</td>\n",
       "      <td>0</td>\n",
       "      <td>0</td>\n",
       "      <td>0</td>\n",
       "      <td>0</td>\n",
       "      <td>0</td>\n",
       "      <td>0</td>\n",
       "      <td>1</td>\n",
       "      <td>0</td>\n",
       "      <td>0</td>\n",
       "    </tr>\n",
       "    <tr>\n",
       "      <th>3</th>\n",
       "      <td>0</td>\n",
       "      <td>0</td>\n",
       "      <td>0</td>\n",
       "      <td>0</td>\n",
       "      <td>1</td>\n",
       "      <td>0</td>\n",
       "      <td>0</td>\n",
       "      <td>0</td>\n",
       "      <td>0</td>\n",
       "      <td>0</td>\n",
       "      <td>...</td>\n",
       "      <td>0</td>\n",
       "      <td>1</td>\n",
       "      <td>0</td>\n",
       "      <td>0</td>\n",
       "      <td>1</td>\n",
       "      <td>0</td>\n",
       "      <td>0</td>\n",
       "      <td>0</td>\n",
       "      <td>0</td>\n",
       "      <td>0</td>\n",
       "    </tr>\n",
       "    <tr>\n",
       "      <th>4</th>\n",
       "      <td>0</td>\n",
       "      <td>1</td>\n",
       "      <td>0</td>\n",
       "      <td>0</td>\n",
       "      <td>0</td>\n",
       "      <td>0</td>\n",
       "      <td>0</td>\n",
       "      <td>0</td>\n",
       "      <td>1</td>\n",
       "      <td>0</td>\n",
       "      <td>...</td>\n",
       "      <td>1</td>\n",
       "      <td>0</td>\n",
       "      <td>0</td>\n",
       "      <td>0</td>\n",
       "      <td>1</td>\n",
       "      <td>0</td>\n",
       "      <td>0</td>\n",
       "      <td>0</td>\n",
       "      <td>0</td>\n",
       "      <td>0</td>\n",
       "    </tr>\n",
       "  </tbody>\n",
       "</table>\n",
       "<p>5 rows × 72 columns</p>\n",
       "</div>"
      ],
      "text/plain": [
       "   d_fuel_other  d_fuel_wood  d_fuel_coal  d_fuel_kerosene  d_fuel_gas  \\\n",
       "0             0            1            0                0           0   \n",
       "1             0            0            0                0           1   \n",
       "2             0            0            0                0           1   \n",
       "3             0            0            0                0           1   \n",
       "4             0            1            0                0           0   \n",
       "\n",
       "   d_fuel_electric  d_fuel_none  d_water_other  d_water_river  d_water_well  \\\n",
       "0                0            0              0              1             0   \n",
       "1                0            0              0              0             0   \n",
       "2                0            0              0              0             0   \n",
       "3                0            0              0              0             0   \n",
       "4                0            0              0              1             0   \n",
       "\n",
       "   ...  d_crowd_1to2  d_crowd_2to4  d_crowd_4to6  d_crowd_6plus  d_lux_0  \\\n",
       "0  ...             0             0             0              0        1   \n",
       "1  ...             1             0             0              0        0   \n",
       "2  ...             0             0             0              0        0   \n",
       "3  ...             0             1             0              0        1   \n",
       "4  ...             1             0             0              0        1   \n",
       "\n",
       "   d_lux_1  d_lux_2  d_lux_3  d_lux_4  d_lux_5  \n",
       "0        0        0        0        0        0  \n",
       "1        0        0        1        0        0  \n",
       "2        0        0        1        0        0  \n",
       "3        0        0        0        0        0  \n",
       "4        0        0        0        0        0  \n",
       "\n",
       "[5 rows x 72 columns]"
      ]
     },
     "execution_count": 23,
     "metadata": {},
     "output_type": "execute_result"
    }
   ],
   "source": [
    "x_test_72.head()"
   ]
  },
  {
   "cell_type": "code",
   "execution_count": 24,
   "metadata": {},
   "outputs": [],
   "source": [
    "# linear regression with constant\n",
    "linreg = LinearRegression()\n",
    "ols = linreg.fit(x_train_withcons,y_train)"
   ]
  },
  {
   "cell_type": "code",
   "execution_count": 25,
   "metadata": {},
   "outputs": [
    {
     "data": {
      "text/plain": [
       "array([-3.12256229e+10, -5.03391773e+15,  2.99299831e+15,  6.10481641e+15,\n",
       "       -4.16245416e+15,  8.83051527e+15, -2.56013196e+15,  5.64440096e+14,\n",
       "       -1.45623568e+15,  4.01206398e+14, -4.51309780e+14,  1.86113021e+15,\n",
       "        1.40745341e+15, -1.67251797e+15, -1.76925109e+15,  1.60586686e+15,\n",
       "       -3.00027099e+14, -4.13841222e+14,  1.46717124e+14,  2.04521644e+14,\n",
       "       -5.81132430e+14,  4.22871475e+14, -2.96690516e+14, -1.19893161e+15,\n",
       "        3.97251228e+14,  1.14321197e+15,  4.78978085e+13,  7.75875956e+14,\n",
       "        9.10229697e+14,  7.52377309e+14,  6.25624845e+14, -2.94743112e+14,\n",
       "        1.07649475e+14, -3.44936365e+14, -2.61241543e+14,  3.62813631e+14,\n",
       "       -1.69939942e+14, -2.99010871e+14,  3.74617224e+14, -1.48977457e+14,\n",
       "        7.59097342e+13,  2.98900125e+14,  6.18257541e+14,  7.22708745e+14,\n",
       "       -3.98493008e+14,  6.18409144e+14,  4.92349361e+14,  1.06247324e+14,\n",
       "        2.05091041e+14,  1.17193528e+14, -3.27338199e+13, -1.88755098e+14,\n",
       "       -6.41510459e+13, -7.14184091e+13, -3.20778787e+13,  3.41620675e+13,\n",
       "        1.31142642e+14, -1.13335800e+14, -7.85267880e+13,  1.63962952e+13,\n",
       "        1.08539007e+14, -2.32325870e+14,  5.32119129e+13,  5.57211445e+13,\n",
       "       -6.89050152e+12, -5.00000000e-01, -4.00000000e+00, -2.50000000e+00,\n",
       "       -2.50000000e-01,  0.00000000e+00,  2.00000000e+00, -7.50000000e-01,\n",
       "       -1.16383753e+15, -1.16383753e+15, -1.16383753e+15, -1.16383753e+15,\n",
       "       -1.16383753e+15, -1.16383753e+15, -1.16383753e+15, -1.48041694e+14,\n",
       "       -1.48041694e+14, -1.48041694e+14, -1.48041694e+14, -1.48041694e+14,\n",
       "       -1.48041694e+14, -1.48041694e+14, -1.30000000e+01, -1.39375000e+01,\n",
       "        4.00000000e+00, -5.62500000e-01, -6.00000000e+00,  7.25000000e+00,\n",
       "        3.88972454e+14,  3.88972454e+14,  3.88972454e+14,  3.88972454e+14,\n",
       "        3.88972454e+14,  3.88972454e+14,  3.88972454e+14,  3.88972454e+14,\n",
       "       -8.26631694e+14, -8.26631694e+14, -8.26631694e+14, -8.26631694e+14,\n",
       "       -8.26631694e+14, -8.26631694e+14, -8.26631694e+14, -2.58379012e+14,\n",
       "       -2.58379012e+14, -2.58379012e+14, -2.58379012e+14, -2.58379012e+14,\n",
       "       -2.58379012e+14, -2.58379012e+14, -2.50000000e-01,  3.55000000e+01,\n",
       "       -3.19522374e+14, -3.19522374e+14, -3.19522374e+14, -3.19522374e+14,\n",
       "       -3.19522374e+14, -3.19522374e+14, -3.19522374e+14, -1.46625000e+02,\n",
       "       -5.28750000e+01, -3.15000000e+01, -3.75000000e+01, -3.72500000e+01,\n",
       "       -1.46212999e+15, -1.46212999e+15, -1.46212999e+15, -1.46212999e+15,\n",
       "       -1.46212999e+15,  8.76020318e+14,  8.76020318e+14,  8.76020318e+14,\n",
       "        8.76020318e+14,  8.76020318e+14, -5.41301136e+14, -5.41301136e+14,\n",
       "       -5.41301136e+14, -5.41301136e+14, -5.41301136e+14, -5.41301136e+14])"
      ]
     },
     "execution_count": 25,
     "metadata": {},
     "output_type": "execute_result"
    }
   ],
   "source": [
    "ols.coef_"
   ]
  },
  {
   "cell_type": "code",
   "execution_count": 26,
   "metadata": {},
   "outputs": [
    {
     "data": {
      "text/plain": [
       "array([445., 805., 199., ..., 389., 329., 758.])"
      ]
     },
     "execution_count": 26,
     "metadata": {},
     "output_type": "execute_result"
    }
   ],
   "source": [
    "ols_estimate_y = ols.predict(x_train_withcons)\n",
    "ols_estimate_y"
   ]
  },
  {
   "cell_type": "code",
   "execution_count": 27,
   "metadata": {},
   "outputs": [],
   "source": [
    "ols_pred_y = ols.predict(x_test_withcons)"
   ]
  },
  {
   "cell_type": "code",
   "execution_count": 28,
   "metadata": {},
   "outputs": [
    {
     "data": {
      "text/html": [
       "<table class=\"simpletable\">\n",
       "<tr>\n",
       "             <td></td>                <th>coef</th>     <th>std err</th>      <th>t</th>      <th>P>|t|</th>  <th>[0.025</th>    <th>0.975]</th>  \n",
       "</tr>\n",
       "<tr>\n",
       "  <th>const</th>                   <td>  271.5376</td> <td>   14.141</td> <td>   19.203</td> <td> 0.000</td> <td>  243.821</td> <td>  299.254</td>\n",
       "</tr>\n",
       "<tr>\n",
       "  <th>d_fuel_other</th>            <td> -100.4283</td> <td>    8.378</td> <td>  -11.987</td> <td> 0.000</td> <td> -116.851</td> <td>  -84.006</td>\n",
       "</tr>\n",
       "<tr>\n",
       "  <th>d_fuel_wood</th>             <td>  -89.2030</td> <td>    7.219</td> <td>  -12.357</td> <td> 0.000</td> <td> -103.353</td> <td>  -75.053</td>\n",
       "</tr>\n",
       "<tr>\n",
       "  <th>d_fuel_coal</th>             <td>  -40.1382</td> <td>   11.701</td> <td>   -3.430</td> <td> 0.001</td> <td>  -63.073</td> <td>  -17.203</td>\n",
       "</tr>\n",
       "<tr>\n",
       "  <th>d_fuel_kerosene</th>         <td>  -57.9007</td> <td>   25.350</td> <td>   -2.284</td> <td> 0.022</td> <td> -107.588</td> <td>   -8.213</td>\n",
       "</tr>\n",
       "<tr>\n",
       "  <th>d_fuel_gas</th>              <td>  -15.6770</td> <td>    6.562</td> <td>   -2.389</td> <td> 0.017</td> <td>  -28.540</td> <td>   -2.814</td>\n",
       "</tr>\n",
       "<tr>\n",
       "  <th>d_fuel_electric</th>         <td>  436.4550</td> <td>   20.089</td> <td>   21.726</td> <td> 0.000</td> <td>  397.079</td> <td>  475.831</td>\n",
       "</tr>\n",
       "<tr>\n",
       "  <th>d_fuel_none</th>             <td>  138.4298</td> <td>   11.108</td> <td>   12.462</td> <td> 0.000</td> <td>  116.658</td> <td>  160.202</td>\n",
       "</tr>\n",
       "<tr>\n",
       "  <th>d_water_other</th>           <td>   34.2105</td> <td>    9.082</td> <td>    3.767</td> <td> 0.000</td> <td>   16.408</td> <td>   52.013</td>\n",
       "</tr>\n",
       "<tr>\n",
       "  <th>d_water_river</th>           <td>   15.3014</td> <td>    6.012</td> <td>    2.545</td> <td> 0.011</td> <td>    3.518</td> <td>   27.085</td>\n",
       "</tr>\n",
       "<tr>\n",
       "  <th>d_water_well</th>            <td>   24.5248</td> <td>    9.045</td> <td>    2.711</td> <td> 0.007</td> <td>    6.796</td> <td>   42.254</td>\n",
       "</tr>\n",
       "<tr>\n",
       "  <th>d_water_truck</th>           <td>   70.6472</td> <td>   13.216</td> <td>    5.345</td> <td> 0.000</td> <td>   44.742</td> <td>   96.552</td>\n",
       "</tr>\n",
       "<tr>\n",
       "  <th>d_water_pylon</th>           <td>   19.7854</td> <td>   12.141</td> <td>    1.630</td> <td> 0.103</td> <td>   -4.012</td> <td>   43.583</td>\n",
       "</tr>\n",
       "<tr>\n",
       "  <th>d_water_outside</th>         <td>   74.7026</td> <td>   13.431</td> <td>    5.562</td> <td> 0.000</td> <td>   48.378</td> <td>  101.027</td>\n",
       "</tr>\n",
       "<tr>\n",
       "  <th>d_water_inside</th>          <td>   32.3656</td> <td>    5.350</td> <td>    6.050</td> <td> 0.000</td> <td>   21.879</td> <td>   42.852</td>\n",
       "</tr>\n",
       "<tr>\n",
       "  <th>d_drain_none</th>            <td>   10.1402</td> <td>   26.801</td> <td>    0.378</td> <td> 0.705</td> <td>  -42.392</td> <td>   62.673</td>\n",
       "</tr>\n",
       "<tr>\n",
       "  <th>d_drain_river</th>           <td>   -2.9387</td> <td>   29.031</td> <td>   -0.101</td> <td> 0.919</td> <td>  -59.841</td> <td>   53.963</td>\n",
       "</tr>\n",
       "<tr>\n",
       "  <th>d_drain_cesspool</th>        <td>   16.7229</td> <td>   26.673</td> <td>    0.627</td> <td> 0.531</td> <td>  -35.558</td> <td>   69.004</td>\n",
       "</tr>\n",
       "<tr>\n",
       "  <th>d_drain_septic</th>          <td>   17.6113</td> <td>   26.738</td> <td>    0.659</td> <td> 0.510</td> <td>  -34.796</td> <td>   70.019</td>\n",
       "</tr>\n",
       "<tr>\n",
       "  <th>d_drain_outside</th>         <td>   11.5576</td> <td>   30.657</td> <td>    0.377</td> <td> 0.706</td> <td>  -48.532</td> <td>   71.647</td>\n",
       "</tr>\n",
       "<tr>\n",
       "  <th>d_drain_inside</th>          <td>   24.3945</td> <td>   26.643</td> <td>    0.916</td> <td> 0.360</td> <td>  -27.827</td> <td>   76.616</td>\n",
       "</tr>\n",
       "<tr>\n",
       "  <th>d_wall_other</th>            <td>   26.6279</td> <td>    9.031</td> <td>    2.949</td> <td> 0.003</td> <td>    8.927</td> <td>   44.329</td>\n",
       "</tr>\n",
       "<tr>\n",
       "  <th>d_wall_woodmat</th>          <td>   43.7418</td> <td>    7.464</td> <td>    5.860</td> <td> 0.000</td> <td>   29.112</td> <td>   58.372</td>\n",
       "</tr>\n",
       "<tr>\n",
       "  <th>d_wall_stonemud</th>         <td>   32.2476</td> <td>   14.775</td> <td>    2.183</td> <td> 0.029</td> <td>    3.287</td> <td>   61.208</td>\n",
       "</tr>\n",
       "<tr>\n",
       "  <th>d_wall_quincha</th>          <td>   42.6131</td> <td>   11.684</td> <td>    3.647</td> <td> 0.000</td> <td>   19.711</td> <td>   65.515</td>\n",
       "</tr>\n",
       "<tr>\n",
       "  <th>d_wall_tapia</th>            <td>   15.8140</td> <td>    7.782</td> <td>    2.032</td> <td> 0.042</td> <td>    0.561</td> <td>   31.067</td>\n",
       "</tr>\n",
       "<tr>\n",
       "  <th>d_wall_adobe</th>            <td>   16.8909</td> <td>    5.729</td> <td>    2.948</td> <td> 0.003</td> <td>    5.661</td> <td>   28.120</td>\n",
       "</tr>\n",
       "<tr>\n",
       "  <th>d_wall_stonecement</th>      <td>   58.8964</td> <td>   21.305</td> <td>    2.764</td> <td> 0.006</td> <td>   17.137</td> <td>  100.656</td>\n",
       "</tr>\n",
       "<tr>\n",
       "  <th>d_wall_brickcement</th>      <td>   34.7060</td> <td>    6.636</td> <td>    5.230</td> <td> 0.000</td> <td>   21.698</td> <td>   47.714</td>\n",
       "</tr>\n",
       "<tr>\n",
       "  <th>d_roof_other</th>            <td>   45.1965</td> <td>   15.364</td> <td>    2.942</td> <td> 0.003</td> <td>   15.081</td> <td>   75.312</td>\n",
       "</tr>\n",
       "<tr>\n",
       "  <th>d_roof_straw</th>            <td>   19.1294</td> <td>    8.678</td> <td>    2.204</td> <td> 0.028</td> <td>    2.119</td> <td>   36.140</td>\n",
       "</tr>\n",
       "<tr>\n",
       "  <th>d_roof_mat</th>              <td>   74.8478</td> <td>   15.498</td> <td>    4.830</td> <td> 0.000</td> <td>   44.471</td> <td>  105.225</td>\n",
       "</tr>\n",
       "<tr>\n",
       "  <th>d_roof_platecane</th>        <td>   40.0670</td> <td>    5.385</td> <td>    7.440</td> <td> 0.000</td> <td>   29.512</td> <td>   50.622</td>\n",
       "</tr>\n",
       "<tr>\n",
       "  <th>d_roof_tile</th>             <td>   32.6912</td> <td>    7.451</td> <td>    4.387</td> <td> 0.000</td> <td>   18.087</td> <td>   47.296</td>\n",
       "</tr>\n",
       "<tr>\n",
       "  <th>d_roof_wood</th>             <td>   21.2010</td> <td>   14.769</td> <td>    1.435</td> <td> 0.151</td> <td>   -7.748</td> <td>   50.150</td>\n",
       "</tr>\n",
       "<tr>\n",
       "  <th>d_roof_concrete</th>         <td>   38.4046</td> <td>    7.157</td> <td>    5.366</td> <td> 0.000</td> <td>   24.377</td> <td>   52.433</td>\n",
       "</tr>\n",
       "<tr>\n",
       "  <th>d_floor_other</th>           <td>  -56.1870</td> <td>   15.984</td> <td>   -3.515</td> <td> 0.000</td> <td>  -87.517</td> <td>  -24.857</td>\n",
       "</tr>\n",
       "<tr>\n",
       "  <th>d_floor_earth</th>           <td>  -75.8659</td> <td>    6.172</td> <td>  -12.292</td> <td> 0.000</td> <td>  -87.963</td> <td>  -63.769</td>\n",
       "</tr>\n",
       "<tr>\n",
       "  <th>d_floor_cement</th>          <td>  -41.3301</td> <td>    5.266</td> <td>   -7.848</td> <td> 0.000</td> <td>  -51.652</td> <td>  -31.008</td>\n",
       "</tr>\n",
       "<tr>\n",
       "  <th>d_floor_wood</th>            <td>  -45.2519</td> <td>    7.849</td> <td>   -5.766</td> <td> 0.000</td> <td>  -60.636</td> <td>  -29.868</td>\n",
       "</tr>\n",
       "<tr>\n",
       "  <th>d_floor_tile</th>            <td>   80.2520</td> <td>    8.714</td> <td>    9.209</td> <td> 0.000</td> <td>   63.171</td> <td>   97.333</td>\n",
       "</tr>\n",
       "<tr>\n",
       "  <th>d_floor_sheets</th>          <td>  115.9476</td> <td>   10.984</td> <td>   10.556</td> <td> 0.000</td> <td>   94.419</td> <td>  137.477</td>\n",
       "</tr>\n",
       "<tr>\n",
       "  <th>d_floor_parquet</th>         <td>  293.9728</td> <td>   12.812</td> <td>   22.945</td> <td> 0.000</td> <td>  268.860</td> <td>  319.086</td>\n",
       "</tr>\n",
       "<tr>\n",
       "  <th>d_electricity</th>           <td>    0.9152</td> <td>    6.460</td> <td>    0.142</td> <td> 0.887</td> <td>  -11.746</td> <td>   13.577</td>\n",
       "</tr>\n",
       "<tr>\n",
       "  <th>d_telephone</th>             <td>   29.8533</td> <td>    5.962</td> <td>    5.007</td> <td> 0.000</td> <td>   18.168</td> <td>   41.539</td>\n",
       "</tr>\n",
       "<tr>\n",
       "  <th>d_h_educ_none</th>           <td>  -79.1537</td> <td>   17.998</td> <td>   -4.398</td> <td> 0.000</td> <td> -114.431</td> <td>  -43.877</td>\n",
       "</tr>\n",
       "<tr>\n",
       "  <th>d_h_educ_pre</th>            <td>  -70.3610</td> <td>   97.894</td> <td>   -0.719</td> <td> 0.472</td> <td> -262.240</td> <td>  121.518</td>\n",
       "</tr>\n",
       "<tr>\n",
       "  <th>d_h_educ_prim</th>           <td>  -67.6066</td> <td>   16.643</td> <td>   -4.062</td> <td> 0.000</td> <td> -100.228</td> <td>  -34.985</td>\n",
       "</tr>\n",
       "<tr>\n",
       "  <th>d_h_educ_sec</th>            <td>  -31.7152</td> <td>   16.590</td> <td>   -1.912</td> <td> 0.056</td> <td>  -64.233</td> <td>    0.803</td>\n",
       "</tr>\n",
       "<tr>\n",
       "  <th>d_h_educ_higher_nouni</th>   <td>   38.3695</td> <td>   17.296</td> <td>    2.218</td> <td> 0.027</td> <td>    4.467</td> <td>   72.271</td>\n",
       "</tr>\n",
       "<tr>\n",
       "  <th>d_h_educ_higher_uni</th>     <td>  144.0872</td> <td>   17.522</td> <td>    8.223</td> <td> 0.000</td> <td>  109.743</td> <td>  178.431</td>\n",
       "</tr>\n",
       "<tr>\n",
       "  <th>d_h_educ_post</th>           <td>  337.9174</td> <td>   25.435</td> <td>   13.286</td> <td> 0.000</td> <td>  288.063</td> <td>  387.772</td>\n",
       "</tr>\n",
       "<tr>\n",
       "  <th>d_max_educ_none</th>         <td> -166.3906</td> <td>   23.973</td> <td>   -6.941</td> <td> 0.000</td> <td> -213.379</td> <td> -119.402</td>\n",
       "</tr>\n",
       "<tr>\n",
       "  <th>d_max_educ_prim</th>         <td>  -74.9919</td> <td>   20.457</td> <td>   -3.666</td> <td> 0.000</td> <td> -115.088</td> <td>  -34.895</td>\n",
       "</tr>\n",
       "<tr>\n",
       "  <th>d_max_educ_sec</th>          <td>  -48.4120</td> <td>   19.875</td> <td>   -2.436</td> <td> 0.015</td> <td>  -87.368</td> <td>   -9.456</td>\n",
       "</tr>\n",
       "<tr>\n",
       "  <th>d_max_educ_higher_nouni</th> <td>  -52.3589</td> <td>   19.943</td> <td>   -2.625</td> <td> 0.009</td> <td>  -91.450</td> <td>  -13.268</td>\n",
       "</tr>\n",
       "<tr>\n",
       "  <th>d_max_educ_higher_uni</th>   <td>  -40.5518</td> <td>   19.447</td> <td>   -2.085</td> <td> 0.037</td> <td>  -78.670</td> <td>   -2.434</td>\n",
       "</tr>\n",
       "<tr>\n",
       "  <th>d_insurance_0</th>           <td>   80.1279</td> <td>    5.007</td> <td>   16.003</td> <td> 0.000</td> <td>   70.314</td> <td>   89.942</td>\n",
       "</tr>\n",
       "<tr>\n",
       "  <th>d_insurance_1</th>           <td>  136.9553</td> <td>    5.077</td> <td>   26.978</td> <td> 0.000</td> <td>  127.005</td> <td>  146.906</td>\n",
       "</tr>\n",
       "<tr>\n",
       "  <th>d_insurance_2</th>           <td>   53.4480</td> <td>    5.013</td> <td>   10.661</td> <td> 0.000</td> <td>   43.622</td> <td>   63.274</td>\n",
       "</tr>\n",
       "<tr>\n",
       "  <th>d_insurance_3</th>           <td>   17.7502</td> <td>    5.098</td> <td>    3.482</td> <td> 0.000</td> <td>    7.758</td> <td>   27.743</td>\n",
       "</tr>\n",
       "<tr>\n",
       "  <th>d_insurance_4plus</th>       <td>  -16.7438</td> <td>    4.522</td> <td>   -3.703</td> <td> 0.000</td> <td>  -25.607</td> <td>   -7.881</td>\n",
       "</tr>\n",
       "<tr>\n",
       "  <th>d_crowd_lessthan1</th>       <td>  197.5411</td> <td>    5.640</td> <td>   35.027</td> <td> 0.000</td> <td>  186.487</td> <td>  208.595</td>\n",
       "</tr>\n",
       "<tr>\n",
       "  <th>d_crowd_1to2</th>            <td>   43.6687</td> <td>    4.930</td> <td>    8.858</td> <td> 0.000</td> <td>   34.005</td> <td>   53.332</td>\n",
       "</tr>\n",
       "<tr>\n",
       "  <th>d_crowd_2to4</th>            <td>   21.1285</td> <td>    5.399</td> <td>    3.913</td> <td> 0.000</td> <td>   10.546</td> <td>   31.711</td>\n",
       "</tr>\n",
       "<tr>\n",
       "  <th>d_crowd_4to6</th>            <td>    4.9893</td> <td>    8.045</td> <td>    0.620</td> <td> 0.535</td> <td>  -10.779</td> <td>   20.758</td>\n",
       "</tr>\n",
       "<tr>\n",
       "  <th>d_crowd_6plus</th>           <td>    4.2099</td> <td>   11.682</td> <td>    0.360</td> <td> 0.719</td> <td>  -18.687</td> <td>   27.107</td>\n",
       "</tr>\n",
       "<tr>\n",
       "  <th>d_lux_0</th>                 <td>   99.6931</td> <td>    7.469</td> <td>   13.347</td> <td> 0.000</td> <td>   85.053</td> <td>  114.333</td>\n",
       "</tr>\n",
       "<tr>\n",
       "  <th>d_lux_1</th>                 <td>   73.0835</td> <td>    6.302</td> <td>   11.597</td> <td> 0.000</td> <td>   60.731</td> <td>   85.436</td>\n",
       "</tr>\n",
       "<tr>\n",
       "  <th>d_lux_2</th>                 <td>   33.2204</td> <td>    6.732</td> <td>    4.935</td> <td> 0.000</td> <td>   20.025</td> <td>   46.416</td>\n",
       "</tr>\n",
       "<tr>\n",
       "  <th>d_lux_3</th>                 <td>   18.4531</td> <td>    7.127</td> <td>    2.589</td> <td> 0.010</td> <td>    4.484</td> <td>   32.422</td>\n",
       "</tr>\n",
       "<tr>\n",
       "  <th>d_lux_4</th>                 <td>   -6.9397</td> <td>    7.467</td> <td>   -0.929</td> <td> 0.353</td> <td>  -21.575</td> <td>    7.695</td>\n",
       "</tr>\n",
       "<tr>\n",
       "  <th>d_lux_5</th>                 <td>   54.0272</td> <td>    7.303</td> <td>    7.398</td> <td> 0.000</td> <td>   39.712</td> <td>   68.342</td>\n",
       "</tr>\n",
       "<tr>\n",
       "  <th>d_month_1</th>               <td>    2.9293</td> <td>    9.134</td> <td>    0.321</td> <td> 0.748</td> <td>  -14.974</td> <td>   20.833</td>\n",
       "</tr>\n",
       "<tr>\n",
       "  <th>d_month_2</th>               <td>    0.0900</td> <td>    9.080</td> <td>    0.010</td> <td> 0.992</td> <td>  -17.708</td> <td>   17.888</td>\n",
       "</tr>\n",
       "<tr>\n",
       "  <th>d_month_3</th>               <td>   -5.6786</td> <td>    9.095</td> <td>   -0.624</td> <td> 0.532</td> <td>  -23.505</td> <td>   12.147</td>\n",
       "</tr>\n",
       "<tr>\n",
       "  <th>d_month_4</th>               <td>   -6.1738</td> <td>    9.149</td> <td>   -0.675</td> <td> 0.500</td> <td>  -24.106</td> <td>   11.758</td>\n",
       "</tr>\n",
       "<tr>\n",
       "  <th>d_month_5</th>               <td>    3.3678</td> <td>    9.102</td> <td>    0.370</td> <td> 0.711</td> <td>  -14.472</td> <td>   21.208</td>\n",
       "</tr>\n",
       "<tr>\n",
       "  <th>d_month_6</th>               <td>    8.4630</td> <td>    9.117</td> <td>    0.928</td> <td> 0.353</td> <td>   -9.407</td> <td>   26.333</td>\n",
       "</tr>\n",
       "<tr>\n",
       "  <th>d_month_7</th>               <td>   -1.3210</td> <td>    9.137</td> <td>   -0.145</td> <td> 0.885</td> <td>  -19.231</td> <td>   16.589</td>\n",
       "</tr>\n",
       "<tr>\n",
       "  <th>d_month_8</th>               <td>   13.2106</td> <td>    9.145</td> <td>    1.445</td> <td> 0.149</td> <td>   -4.715</td> <td>   31.136</td>\n",
       "</tr>\n",
       "<tr>\n",
       "  <th>d_month_9</th>               <td>    9.2274</td> <td>    9.108</td> <td>    1.013</td> <td> 0.311</td> <td>   -8.624</td> <td>   27.079</td>\n",
       "</tr>\n",
       "<tr>\n",
       "  <th>d_month_10</th>              <td>    5.5341</td> <td>    9.163</td> <td>    0.604</td> <td> 0.546</td> <td>  -12.426</td> <td>   23.495</td>\n",
       "</tr>\n",
       "<tr>\n",
       "  <th>d_month_11</th>              <td>   -6.3138</td> <td>    9.162</td> <td>   -0.689</td> <td> 0.491</td> <td>  -24.272</td> <td>   11.645</td>\n",
       "</tr>\n",
       "<tr>\n",
       "  <th>d_year_2010</th>             <td>  -33.3164</td> <td>    3.756</td> <td>   -8.871</td> <td> 0.000</td> <td>  -40.678</td> <td>  -25.955</td>\n",
       "</tr>\n",
       "<tr>\n",
       "  <th>d_dominio_1</th>             <td>  -66.1410</td> <td>    8.407</td> <td>   -7.867</td> <td> 0.000</td> <td>  -82.620</td> <td>  -49.662</td>\n",
       "</tr>\n",
       "<tr>\n",
       "  <th>d_dominio_2</th>             <td>  -79.3683</td> <td>    9.258</td> <td>   -8.573</td> <td> 0.000</td> <td>  -97.515</td> <td>  -61.221</td>\n",
       "</tr>\n",
       "<tr>\n",
       "  <th>d_dominio_3</th>             <td>  -47.7277</td> <td>   10.003</td> <td>   -4.771</td> <td> 0.000</td> <td>  -67.334</td> <td>  -28.121</td>\n",
       "</tr>\n",
       "<tr>\n",
       "  <th>d_dominio_4</th>             <td>  -64.6322</td> <td>   11.051</td> <td>   -5.849</td> <td> 0.000</td> <td>  -86.293</td> <td>  -42.971</td>\n",
       "</tr>\n",
       "<tr>\n",
       "  <th>d_dominio_5</th>             <td>  -83.1268</td> <td>    9.065</td> <td>   -9.170</td> <td> 0.000</td> <td> -100.895</td> <td>  -65.359</td>\n",
       "</tr>\n",
       "<tr>\n",
       "  <th>d_dominio_6</th>             <td>  -73.8921</td> <td>    9.033</td> <td>   -8.180</td> <td> 0.000</td> <td>  -91.598</td> <td>  -56.186</td>\n",
       "</tr>\n",
       "<tr>\n",
       "  <th>d_dominio_7</th>             <td>  -17.3796</td> <td>    8.607</td> <td>   -2.019</td> <td> 0.043</td> <td>  -34.249</td> <td>   -0.510</td>\n",
       "</tr>\n",
       "<tr>\n",
       "  <th>internet</th>                <td>   74.7894</td> <td>    9.521</td> <td>    7.855</td> <td> 0.000</td> <td>   56.128</td> <td>   93.451</td>\n",
       "</tr>\n",
       "<tr>\n",
       "  <th>cable</th>                   <td>  101.1232</td> <td>    5.802</td> <td>   17.428</td> <td> 0.000</td> <td>   89.751</td> <td>  112.496</td>\n",
       "</tr>\n",
       "<tr>\n",
       "  <th>computer</th>                <td>   60.8615</td> <td>    7.206</td> <td>    8.446</td> <td> 0.000</td> <td>   46.738</td> <td>   74.985</td>\n",
       "</tr>\n",
       "<tr>\n",
       "  <th>refrigerator</th>            <td>   82.9155</td> <td>    6.856</td> <td>   12.094</td> <td> 0.000</td> <td>   69.478</td> <td>   96.353</td>\n",
       "</tr>\n",
       "<tr>\n",
       "  <th>washer</th>                  <td>  117.5713</td> <td>    7.163</td> <td>   16.415</td> <td> 0.000</td> <td>  103.532</td> <td>  131.610</td>\n",
       "</tr>\n",
       "</table>"
      ],
      "text/plain": [
       "<class 'statsmodels.iolib.table.SimpleTable'>"
      ]
     },
     "execution_count": 28,
     "metadata": {},
     "output_type": "execute_result"
    }
   ],
   "source": [
    "# Linear regression by using Stata Model\n",
    "x = sm.add_constant(x_train)\n",
    "model2=sm.OLS(y_train,x)\n",
    "results=model2.fit()\n",
    "results.summary().tables[1]"
   ]
  },
  {
   "cell_type": "markdown",
   "metadata": {},
   "source": [
    "## Calculate MSE-OLS"
   ]
  },
  {
   "cell_type": "code",
   "execution_count": 29,
   "metadata": {
    "scrolled": true
   },
   "outputs": [
    {
     "data": {
      "text/plain": [
       "0.1919835924821717"
      ]
     },
     "execution_count": 29,
     "metadata": {},
     "output_type": "execute_result"
    }
   ],
   "source": [
    "#calculate MSE for the training dataset (from the estimation of original paper)\n",
    "from sklearn import metrics\n",
    "\n",
    "metrics.mean_squared_error(train.lncaphat_OLS,train.lnpercapitaconsumption)"
   ]
  },
  {
   "cell_type": "code",
   "execution_count": 30,
   "metadata": {},
   "outputs": [
    {
     "data": {
      "text/plain": [
       "77167.47406692483"
      ]
     },
     "execution_count": 30,
     "metadata": {},
     "output_type": "execute_result"
    }
   ],
   "source": [
    "#calculate MSE for the training dataset (Original Paper)\n",
    "metrics.mean_squared_error(train.percapitahat_OLS,train.percapitaconsumption)"
   ]
  },
  {
   "cell_type": "code",
   "execution_count": 31,
   "metadata": {},
   "outputs": [
    {
     "name": "stdout",
     "output_type": "stream",
     "text": [
      "(22704, 2)\n",
      "89689.4794288619\n"
     ]
    }
   ],
   "source": [
    "#calculate MSE for y in the testing dataset (Original Paper)\n",
    "original_pred_y = pd.DataFrame(test.percapitahat_OLS)\n",
    "NaNy = original_pred_y.join(y_test)\n",
    "NaNy=NaNy.dropna(axis=0, how='any', inplace=False)\n",
    "NaNy.head()\n",
    "print(NaNy.shape)\n",
    "mse_ols_y = metrics.mean_squared_error(NaNy.percapitahat_OLS,NaNy.percapitaconsumption)\n",
    "print(mse_ols_y)"
   ]
  },
  {
   "cell_type": "code",
   "execution_count": 32,
   "metadata": {},
   "outputs": [
    {
     "name": "stdout",
     "output_type": "stream",
     "text": [
      "(22704, 2)\n",
      "0.1908680255424893\n"
     ]
    }
   ],
   "source": [
    "#calculate MSE for lny in the testing dataset (Original Paper)\n",
    "original_pred_lny = pd.DataFrame(test.lncaphat_OLS)\n",
    "NaNlny = original_pred_lny.join(lny_test)\n",
    "NaNlny=NaNlny.dropna(axis=0, how='any', inplace=False)\n",
    "NaNlny.head()\n",
    "print(NaNlny.shape)\n",
    "mse_ols_lny = metrics.mean_squared_error(NaNlny.lncaphat_OLS,NaNlny.lnpercapitaconsumption)\n",
    "print(mse_ols_lny)"
   ]
  },
  {
   "cell_type": "code",
   "execution_count": 33,
   "metadata": {},
   "outputs": [
    {
     "data": {
      "text/plain": [
       "77192.08104485337"
      ]
     },
     "execution_count": 33,
     "metadata": {},
     "output_type": "execute_result"
    }
   ],
   "source": [
    "#calculate MSE for the training dataset (my calculation)\n",
    "metrics.mean_squared_error(ols_estimate_y,y_train)"
   ]
  },
  {
   "cell_type": "code",
   "execution_count": 34,
   "metadata": {},
   "outputs": [
    {
     "data": {
      "text/plain": [
       "6.358591436402691e+26"
      ]
     },
     "execution_count": 34,
     "metadata": {},
     "output_type": "execute_result"
    }
   ],
   "source": [
    "#calclulate MSE for the testing dataset (my calculation)\n",
    "metrics.mean_squared_error(ols_pred_y, y_test)"
   ]
  },
  {
   "cell_type": "markdown",
   "metadata": {},
   "source": [
    "## Model - Lasso"
   ]
  },
  {
   "cell_type": "code",
   "execution_count": 35,
   "metadata": {},
   "outputs": [],
   "source": [
    "## 2.5  Create new variables\n",
    "#交互 x_train and x_test里所有的column,两两相乘\n",
    "\n",
    "for i in range(0,96):\n",
    "    a=i\n",
    "    for j in range(a+1,96):\n",
    "            x_train1['interaction'+str(i)+str('t')+str(j)]=x_train1.iloc[:,i]* x_train1.iloc[:,j]"
   ]
  },
  {
   "cell_type": "code",
   "execution_count": 36,
   "metadata": {},
   "outputs": [],
   "source": [
    "#x_test 交互\n",
    "for i in range(0,96):\n",
    "    a=i\n",
    "    for j in range(a+1,96):\n",
    "            x_test1['interaction'+str(i)+str('t')+str(j)]=x_test1.iloc[:,i]* x_test1.iloc[:,j]"
   ]
  },
  {
   "cell_type": "code",
   "execution_count": 37,
   "metadata": {},
   "outputs": [
    {
     "data": {
      "image/png": "[encoded data removed]",
      "text/plain": [
       "<Figure size 720x432 with 1 Axes>"
      ]
     },
     "metadata": {},
     "output_type": "display_data"
    },
    {
     "data": {
      "text/plain": [
       "AlphaSelection(ax=<matplotlib.axes._subplots.AxesSubplot object at 0x00000184E0D99C08>,\n",
       "               is_fitted='auto', model=None)"
      ]
     },
     "execution_count": 37,
     "metadata": {},
     "output_type": "execute_result"
    }
   ],
   "source": [
    "alphas(LassoCV(random_state=0), x_train1, y_train)"
   ]
  },
  {
   "cell_type": "code",
   "execution_count": 38,
   "metadata": {},
   "outputs": [
    {
     "data": {
      "text/plain": [
       "LassoCV(alphas=[0.185, 0.19, 0.193, 0.2, 0.21, 0.24], copy_X=True, cv=10,\n",
       "        eps=0.001, fit_intercept=True, max_iter=1000, n_alphas=100, n_jobs=None,\n",
       "        normalize=False, positive=False, precompute='auto', random_state=None,\n",
       "        selection='cyclic', tol=0.0001, verbose=False)"
      ]
     },
     "execution_count": 38,
     "metadata": {},
     "output_type": "execute_result"
    }
   ],
   "source": [
    "lassocv = LassoCV(alphas = [0.185,0.19,0.193,0.2,0.21,0.24],cv=10)\n",
    "lassocv.fit(x_train1, y_train)"
   ]
  },
  {
   "cell_type": "code",
   "execution_count": 39,
   "metadata": {},
   "outputs": [
    {
     "data": {
      "text/plain": [
       "0.21"
      ]
     },
     "execution_count": 39,
     "metadata": {},
     "output_type": "execute_result"
    }
   ],
   "source": [
    "lassocv.alpha_"
   ]
  },
  {
   "cell_type": "code",
   "execution_count": 40,
   "metadata": {},
   "outputs": [
    {
     "data": {
      "text/plain": [
       "61528.5635551761"
      ]
     },
     "execution_count": 40,
     "metadata": {},
     "output_type": "execute_result"
    }
   ],
   "source": [
    "lasso_estimate_y = lassocv.predict(x_train1)\n",
    "metrics.mean_squared_error(lasso_estimate_y,y_train)"
   ]
  },
  {
   "cell_type": "code",
   "execution_count": 41,
   "metadata": {},
   "outputs": [
    {
     "name": "stdout",
     "output_type": "stream",
     "text": [
      "80288.03171922367\n"
     ]
    }
   ],
   "source": [
    "lasso_pred_y = lassocv.predict(x_test1)\n",
    "mse_lasso_y = metrics.mean_squared_error(lasso_pred_y,y_test)\n",
    "print(mse_lasso_y)"
   ]
  },
  {
   "cell_type": "code",
   "execution_count": 42,
   "metadata": {},
   "outputs": [
    {
     "data": {
      "text/plain": [
       "LassoCV(alphas=[0.0001, 0.001, 0.1, 0.2, 0.5], copy_X=True, cv=10, eps=0.001,\n",
       "        fit_intercept=True, max_iter=1000, n_alphas=100, n_jobs=None,\n",
       "        normalize=False, positive=False, precompute='auto', random_state=None,\n",
       "        selection='cyclic', tol=0.0001, verbose=False)"
      ]
     },
     "execution_count": 42,
     "metadata": {},
     "output_type": "execute_result"
    }
   ],
   "source": [
    "# lny\n",
    "ln_lassocv = LassoCV(alphas = [0.0001,0.001,0.1,0.2,0.5],cv=10)\n",
    "ln_lassocv.fit(x_train1, lny_train)"
   ]
  },
  {
   "cell_type": "code",
   "execution_count": 43,
   "metadata": {},
   "outputs": [
    {
     "data": {
      "text/plain": [
       "0.001"
      ]
     },
     "execution_count": 43,
     "metadata": {},
     "output_type": "execute_result"
    }
   ],
   "source": [
    "ln_lassocv.alpha_"
   ]
  },
  {
   "cell_type": "code",
   "execution_count": 44,
   "metadata": {},
   "outputs": [],
   "source": [
    "lasso_pred_lny = ln_lassocv.predict(x_test1)"
   ]
  },
  {
   "cell_type": "code",
   "execution_count": 45,
   "metadata": {},
   "outputs": [
    {
     "name": "stdout",
     "output_type": "stream",
     "text": [
      "0.18047432116868548\n"
     ]
    }
   ],
   "source": [
    "mse_lasso_lny = metrics.mean_squared_error(lasso_pred_lny,lny_test)\n",
    "print(mse_lasso_lny)  ## alpha 0.001 mse: 0.18047432116868548"
   ]
  },
  {
   "cell_type": "markdown",
   "metadata": {},
   "source": [
    "## 3.2 Model-KNN Regression\n",
    "Not sure if it is a suitable algorithm for our dataset since all the features are dummies, and it is hard to define/calculate the \"distance\".\n",
    "But we will see..."
   ]
  },
  {
   "cell_type": "code",
   "execution_count": 55,
   "metadata": {
    "collapsed": true
   },
   "outputs": [
    {
     "name": "stderr",
     "output_type": "stream",
     "text": [
      "\n",
      "STOPPING EARLY DUE TO KEYBOARD INTERRUPT..."
     ]
    },
    {
     "ename": "KeyError",
     "evalue": "None",
     "output_type": "error",
     "traceback": [
      "\u001b[1;31m---------------------------------------------------------------------------\u001b[0m",
      "\u001b[1;31mKeyError\u001b[0m                                  Traceback (most recent call last)",
      "\u001b[1;32m<ipython-input-55-598bfc174a21>\u001b[0m in \u001b[0;36m<module>\u001b[1;34m\u001b[0m\n\u001b[0;32m      7\u001b[0m          \u001b[0mscoring\u001b[0m\u001b[1;33m=\u001b[0m\u001b[1;34m'neg_mean_squared_error'\u001b[0m\u001b[1;33m,\u001b[0m\u001b[1;33m\u001b[0m\u001b[1;33m\u001b[0m\u001b[0m\n\u001b[0;32m      8\u001b[0m          cv=5)\n\u001b[1;32m----> 9\u001b[1;33m \u001b[0msfs\u001b[0m\u001b[1;33m.\u001b[0m\u001b[0mfit\u001b[0m\u001b[1;33m(\u001b[0m\u001b[0mx_train\u001b[0m\u001b[1;33m,\u001b[0m \u001b[0my_train\u001b[0m\u001b[1;33m)\u001b[0m\u001b[1;33m\u001b[0m\u001b[1;33m\u001b[0m\u001b[0m\n\u001b[0m\u001b[0;32m     10\u001b[0m \u001b[0msfs\u001b[0m\u001b[1;33m.\u001b[0m\u001b[0mk_feature_names_\u001b[0m\u001b[1;33m\u001b[0m\u001b[1;33m\u001b[0m\u001b[0m\n",
      "\u001b[1;32m~\\anaconda3\\lib\\site-packages\\mlxtend\\feature_selection\\sequential_feature_selector.py\u001b[0m in \u001b[0;36mfit\u001b[1;34m(self, X, y, custom_feature_names, groups, **fit_params)\u001b[0m\n\u001b[0;32m    566\u001b[0m                     \u001b[0mbest_subset\u001b[0m \u001b[1;33m=\u001b[0m \u001b[0mk\u001b[0m\u001b[1;33m\u001b[0m\u001b[1;33m\u001b[0m\u001b[0m\n\u001b[0;32m    567\u001b[0m             \u001b[0mk_score\u001b[0m \u001b[1;33m=\u001b[0m \u001b[0mmax_score\u001b[0m\u001b[1;33m\u001b[0m\u001b[1;33m\u001b[0m\u001b[0m\n\u001b[1;32m--> 568\u001b[1;33m             \u001b[0mk_idx\u001b[0m \u001b[1;33m=\u001b[0m \u001b[0mself\u001b[0m\u001b[1;33m.\u001b[0m\u001b[0msubsets_\u001b[0m\u001b[1;33m[\u001b[0m\u001b[0mbest_subset\u001b[0m\u001b[1;33m]\u001b[0m\u001b[1;33m[\u001b[0m\u001b[1;34m'feature_idx'\u001b[0m\u001b[1;33m]\u001b[0m\u001b[1;33m\u001b[0m\u001b[1;33m\u001b[0m\u001b[0m\n\u001b[0m\u001b[0;32m    569\u001b[0m \u001b[1;33m\u001b[0m\u001b[0m\n\u001b[0;32m    570\u001b[0m             \u001b[1;32mif\u001b[0m \u001b[0mself\u001b[0m\u001b[1;33m.\u001b[0m\u001b[0mk_features\u001b[0m \u001b[1;33m==\u001b[0m \u001b[1;34m'parsimonious'\u001b[0m\u001b[1;33m:\u001b[0m\u001b[1;33m\u001b[0m\u001b[1;33m\u001b[0m\u001b[0m\n",
      "\u001b[1;31mKeyError\u001b[0m: None"
     ]
    }
   ],
   "source": [
    "knn = KNeighborsRegressor()\n",
    "random.seed(30)\n",
    "sfs = SFS(knn,\n",
    "         k_features= (30, 96),\n",
    "         forward=True,\n",
    "         floating=False,\n",
    "         scoring='neg_mean_squared_error',\n",
    "         cv=5)\n",
    "sfs.fit(x_train, y_train)\n",
    "sfs.k_feature_names_"
   ]
  },
  {
   "cell_type": "code",
   "execution_count": 47,
   "metadata": {},
   "outputs": [
    {
     "data": {
      "image/png": "[encoded data removed]",
      "text/plain": [
       "<Figure size 720x432 with 1 Axes>"
      ]
     },
     "metadata": {},
     "output_type": "display_data"
    }
   ],
   "source": [
    "fig1 = plot_sfs(sfs.get_metric_dict(), kind='std_dev')\n",
    "plt.title('Sequential Forward Selection (w. StdErr)')\n",
    "ticks = np.arange(1, 96, 5)\n",
    "plt.xticks(ticks)\n",
    "plt.show()"
   ]
  },
  {
   "cell_type": "code",
   "execution_count": 48,
   "metadata": {},
   "outputs": [],
   "source": [
    "x_train_sfs = sfs.transform(x_train)\n",
    "x_test_sfs = sfs.transform(x_test)"
   ]
  },
  {
   "cell_type": "code",
   "execution_count": 49,
   "metadata": {},
   "outputs": [],
   "source": [
    "x_train_knn = pd.DataFrame(x_train_sfs)\n",
    "x_test_knn = pd.DataFrame(x_test_sfs)"
   ]
  },
  {
   "cell_type": "code",
   "execution_count": 52,
   "metadata": {},
   "outputs": [
    {
     "data": {
      "text/plain": [
       "{'n_neighbors': 33}"
      ]
     },
     "execution_count": 52,
     "metadata": {},
     "output_type": "execute_result"
    }
   ],
   "source": [
    "# create a knn regression model\n",
    "knr = KNeighborsRegressor(weights = 'distance', metric = 'hamming')\n",
    "param_dict = {'n_neighbors':[ 33, 37]}\n",
    "knr_gscv = GridSearchCV(knr, param_grid = param_dict,scoring='neg_mean_squared_error', cv=5)\n",
    "knr_gscv.fit(x_train_knn, y_train)\n",
    "knr_gscv.best_params_"
   ]
  },
  {
   "cell_type": "code",
   "execution_count": 53,
   "metadata": {},
   "outputs": [
    {
     "ename": "NotFittedError",
     "evalue": "This KNeighborsRegressor instance is not fitted yet. Call 'fit' with appropriate arguments before using this estimator.",
     "output_type": "error",
     "traceback": [
      "\u001b[1;31m---------------------------------------------------------------------------\u001b[0m",
      "\u001b[1;31mNotFittedError\u001b[0m                            Traceback (most recent call last)",
      "\u001b[1;32m<ipython-input-53-b4a387974fb0>\u001b[0m in \u001b[0;36m<module>\u001b[1;34m\u001b[0m\n\u001b[1;32m----> 1\u001b[1;33m \u001b[0mtrain_knr_pred\u001b[0m \u001b[1;33m=\u001b[0m \u001b[0mknr\u001b[0m\u001b[1;33m.\u001b[0m\u001b[0mpredict\u001b[0m\u001b[1;33m(\u001b[0m\u001b[0mx_train_knn\u001b[0m\u001b[1;33m)\u001b[0m\u001b[1;33m\u001b[0m\u001b[1;33m\u001b[0m\u001b[0m\n\u001b[0m\u001b[0;32m      2\u001b[0m \u001b[0mmetrics\u001b[0m\u001b[1;33m.\u001b[0m\u001b[0mmean_squared_error\u001b[0m\u001b[1;33m(\u001b[0m\u001b[0mtrain_knr_pred\u001b[0m\u001b[1;33m,\u001b[0m \u001b[0my_train\u001b[0m\u001b[1;33m)\u001b[0m\u001b[1;33m\u001b[0m\u001b[1;33m\u001b[0m\u001b[0m\n",
      "\u001b[1;32m~\\anaconda3\\lib\\site-packages\\sklearn\\neighbors\\_regression.py\u001b[0m in \u001b[0;36mpredict\u001b[1;34m(self, X)\u001b[0m\n\u001b[0;32m    172\u001b[0m         \u001b[0mX\u001b[0m \u001b[1;33m=\u001b[0m \u001b[0mcheck_array\u001b[0m\u001b[1;33m(\u001b[0m\u001b[0mX\u001b[0m\u001b[1;33m,\u001b[0m \u001b[0maccept_sparse\u001b[0m\u001b[1;33m=\u001b[0m\u001b[1;34m'csr'\u001b[0m\u001b[1;33m)\u001b[0m\u001b[1;33m\u001b[0m\u001b[1;33m\u001b[0m\u001b[0m\n\u001b[0;32m    173\u001b[0m \u001b[1;33m\u001b[0m\u001b[0m\n\u001b[1;32m--> 174\u001b[1;33m         \u001b[0mneigh_dist\u001b[0m\u001b[1;33m,\u001b[0m \u001b[0mneigh_ind\u001b[0m \u001b[1;33m=\u001b[0m \u001b[0mself\u001b[0m\u001b[1;33m.\u001b[0m\u001b[0mkneighbors\u001b[0m\u001b[1;33m(\u001b[0m\u001b[0mX\u001b[0m\u001b[1;33m)\u001b[0m\u001b[1;33m\u001b[0m\u001b[1;33m\u001b[0m\u001b[0m\n\u001b[0m\u001b[0;32m    175\u001b[0m \u001b[1;33m\u001b[0m\u001b[0m\n\u001b[0;32m    176\u001b[0m         \u001b[0mweights\u001b[0m \u001b[1;33m=\u001b[0m \u001b[0m_get_weights\u001b[0m\u001b[1;33m(\u001b[0m\u001b[0mneigh_dist\u001b[0m\u001b[1;33m,\u001b[0m \u001b[0mself\u001b[0m\u001b[1;33m.\u001b[0m\u001b[0mweights\u001b[0m\u001b[1;33m)\u001b[0m\u001b[1;33m\u001b[0m\u001b[1;33m\u001b[0m\u001b[0m\n",
      "\u001b[1;32m~\\anaconda3\\lib\\site-packages\\sklearn\\neighbors\\_base.py\u001b[0m in \u001b[0;36mkneighbors\u001b[1;34m(self, X, n_neighbors, return_distance)\u001b[0m\n\u001b[0;32m    581\u001b[0m \u001b[1;33m\u001b[0m\u001b[0m\n\u001b[0;32m    582\u001b[0m         \"\"\"\n\u001b[1;32m--> 583\u001b[1;33m         \u001b[0mcheck_is_fitted\u001b[0m\u001b[1;33m(\u001b[0m\u001b[0mself\u001b[0m\u001b[1;33m)\u001b[0m\u001b[1;33m\u001b[0m\u001b[1;33m\u001b[0m\u001b[0m\n\u001b[0m\u001b[0;32m    584\u001b[0m \u001b[1;33m\u001b[0m\u001b[0m\n\u001b[0;32m    585\u001b[0m         \u001b[1;32mif\u001b[0m \u001b[0mn_neighbors\u001b[0m \u001b[1;32mis\u001b[0m \u001b[1;32mNone\u001b[0m\u001b[1;33m:\u001b[0m\u001b[1;33m\u001b[0m\u001b[1;33m\u001b[0m\u001b[0m\n",
      "\u001b[1;32m~\\anaconda3\\lib\\site-packages\\sklearn\\utils\\validation.py\u001b[0m in \u001b[0;36mcheck_is_fitted\u001b[1;34m(estimator, attributes, msg, all_or_any)\u001b[0m\n\u001b[0;32m    965\u001b[0m \u001b[1;33m\u001b[0m\u001b[0m\n\u001b[0;32m    966\u001b[0m     \u001b[1;32mif\u001b[0m \u001b[1;32mnot\u001b[0m \u001b[0mattrs\u001b[0m\u001b[1;33m:\u001b[0m\u001b[1;33m\u001b[0m\u001b[1;33m\u001b[0m\u001b[0m\n\u001b[1;32m--> 967\u001b[1;33m         \u001b[1;32mraise\u001b[0m \u001b[0mNotFittedError\u001b[0m\u001b[1;33m(\u001b[0m\u001b[0mmsg\u001b[0m \u001b[1;33m%\u001b[0m \u001b[1;33m{\u001b[0m\u001b[1;34m'name'\u001b[0m\u001b[1;33m:\u001b[0m \u001b[0mtype\u001b[0m\u001b[1;33m(\u001b[0m\u001b[0mestimator\u001b[0m\u001b[1;33m)\u001b[0m\u001b[1;33m.\u001b[0m\u001b[0m__name__\u001b[0m\u001b[1;33m}\u001b[0m\u001b[1;33m)\u001b[0m\u001b[1;33m\u001b[0m\u001b[1;33m\u001b[0m\u001b[0m\n\u001b[0m\u001b[0;32m    968\u001b[0m \u001b[1;33m\u001b[0m\u001b[0m\n\u001b[0;32m    969\u001b[0m \u001b[1;33m\u001b[0m\u001b[0m\n",
      "\u001b[1;31mNotFittedError\u001b[0m: This KNeighborsRegressor instance is not fitted yet. Call 'fit' with appropriate arguments before using this estimator."
     ]
    }
   ],
   "source": [
    "train_knr_pred = knr.predict(x_train_knn)\n",
    "metrics.mean_squared_error(train_knr_pred, y_train)"
   ]
  },
  {
   "cell_type": "code",
   "execution_count": null,
   "metadata": {},
   "outputs": [],
   "source": [
    "# mse for y\n",
    "knr_pred_y = knr.predict(x_test_knn)\n",
    "mse_knn_y = metrics.mean_squared_error(knr_pred_y, y_test)\n",
    "print(mse_knn_y)"
   ]
  },
  {
   "cell_type": "markdown",
   "metadata": {},
   "source": [
    "#lny in a knn regression model\n",
    "knr = KNeighborsRegressor(weights = 'distance', metric = 'hamming')\n",
    "param_dict = {'n_neighbors': [11, 21, 31, 41]}\n",
    "knr_gscv = GridSearchCV(knr, param_grid = param_dict, scoring='neg_mean_squared_error', cv=5)\n",
    "knr_gscv.fit(x_train_knn, lny_train)\n",
    "knr_gscv.best_params_"
   ]
  },
  {
   "cell_type": "code",
   "execution_count": null,
   "metadata": {},
   "outputs": [],
   "source": [
    "# mse for lny\n",
    "knr_pred_lny = knr.predict(x_test_knn)\n",
    "mse_knn_lny = metrics.mean_squared_error(knr_pred_lny, lny_test)\n",
    "print(mse_knn_lny)"
   ]
  },
  {
   "cell_type": "markdown",
   "metadata": {},
   "source": [
    "## 3.3 SVM Regression (SVR)"
   ]
  },
  {
   "cell_type": "code",
   "execution_count": null,
   "metadata": {},
   "outputs": [],
   "source": [
    "# Code for CV: params_dict={'C':[10,100,300],'gamma':[0.01,0.1,1],'kernel':['rbf']}\n",
    "\n",
    "# for save time, we directly run the selected best-fitted paramether below\n",
    "\n",
    "params_dict={'C':[300],'gamma':[0.1],'kernel':['rbf']}\n",
    "svr_gscv=GridSearchCV(estimator=SVR(),param_grid=params_dict,scoring='neg_mean_squared_error',cv=5)\n",
    "svr_gscv.fit(x_train,y_train)\n",
    "svr_gscv.best_params_"
   ]
  },
  {
   "cell_type": "code",
   "execution_count": null,
   "metadata": {},
   "outputs": [],
   "source": [
    "# MSE for the training set\n",
    "svr_estimate_y = svr_gscv.predict(x_train)\n",
    "metrics.mean_squared_error(svr_estimate_y,y_train)"
   ]
  },
  {
   "cell_type": "code",
   "execution_count": null,
   "metadata": {},
   "outputs": [],
   "source": [
    "# predict for x_test\n",
    "svr_pred_y = svr_gscv.predict(x_test)\n",
    "# calculate MSE from the prediction for x_test and y_test\n",
    "mse_svr_y = metrics.mean_squared_error(svr_pred_y, y_test)  ##300 and 0.1 mse:  ## 846**\n",
    "print(mse_svr_y)"
   ]
  },
  {
   "cell_type": "code",
   "execution_count": null,
   "metadata": {},
   "outputs": [],
   "source": [
    "# lny\n",
    "params_dict={'C':[1,10,300],'gamma':[0.01,0.1,1,10],'kernel':['rbf']}\n",
    "svr_gscv=GridSearchCV(estimator=SVR(),param_grid=params_dict,scoring='neg_mean_squared_error',cv=5)\n",
    "svr_gscv.fit(x_train,lny_train)\n",
    "print(svr_gscv.best_params_)\n",
    "\n",
    "# predict for lny \n",
    "svr_pred_lny = svr_gscv.predict(x_test)\n",
    "# calculate MSE from the prediction for x_test and y_test\n",
    "mse_svr_lny = metrics.mean_squared_error(svr_pred_y, lny_test)\n",
    "print(mse_svr_lny)"
   ]
  },
  {
   "cell_type": "markdown",
   "metadata": {},
   "source": [
    "## LightGBM"
   ]
  },
  {
   "cell_type": "code",
   "execution_count": null,
   "metadata": {},
   "outputs": [],
   "source": [
    "x_try = x_train.iloc[0:22673,]\n",
    "y_try = y_train.iloc[0:22673,]"
   ]
  },
  {
   "cell_type": "markdown",
   "metadata": {},
   "source": [
    "{'learning_rate': 0.1, 'n_estimators': 100, 'num_leaves': 31} mse = 80548.2058147445\n",
    "{'learning_rate': 0.1, 'n_estimators': 95, 'num_leaves': 31} mse = 80570.42558366357\n",
    "{'learning_rate': 0.1, 'n_estimators': 98, 'num_leaves': 31} mse = 80554.34797504671\n",
    "{'learning_rate': 0.1, 'n_estimators': 97, 'num_leaves': 31} mse = 80546.35227972006"
   ]
  },
  {
   "cell_type": "code",
   "execution_count": null,
   "metadata": {},
   "outputs": [],
   "source": [
    "# code for cv: params_dict={'num_leaves':[5,10,15,20,25,31],'n_estimators':[20, 40, 60, 80, 97, 100],'learning_rate':[0.01, 0.1, 0.3, 0.5, 0.7]}\n",
    "\n",
    "# for save time, we directly run the selected best-fitted paramether below\n",
    "params_dict={'num_leaves':[31],'n_estimators':[97],'learning_rate':[0.01, 0.1, 0.3]}\n",
    "lgbm_gscv=GridSearchCV(estimator=LGBMRegressor(),param_grid=params_dict,scoring='neg_mean_squared_error',cv=10)\n",
    "lgbm_gscv.fit(x_try, y_try)\n",
    "lgbm_gscv.best_params_"
   ]
  },
  {
   "cell_type": "code",
   "execution_count": null,
   "metadata": {},
   "outputs": [],
   "source": [
    "lgbm_pred_y = lgbm_gscv.predict(x_test)"
   ]
  },
  {
   "cell_type": "code",
   "execution_count": null,
   "metadata": {},
   "outputs": [],
   "source": [
    "mse_lgbm_y = metrics.mean_squared_error(lgbm_pred_y, y_test)\n",
    "print(mse_lgbm_y)"
   ]
  },
  {
   "cell_type": "code",
   "execution_count": null,
   "metadata": {},
   "outputs": [],
   "source": [
    "# prediction for lny\n",
    "lny_try = lny_train.iloc[0:22673,]\n",
    "params_dict={'num_leaves':[5,20,31],'n_estimators':[20,50,100,350,500],'learning_rate':[0.01,0.04,0.1,0.5,0.7]}\n",
    "lgbm_gscv=GridSearchCV(estimator=LGBMRegressor(),param_grid=params_dict,scoring='neg_mean_squared_error',cv=10)\n",
    "lgbm_gscv.fit(x_try, lny_try)\n",
    "print(lgbm_gscv.best_params_)\n",
    "lgbm_pred_lny = lgbm_gscv.predict(x_test)\n",
    "mse_lgbm_lny = metrics.mean_squared_error(lgbm_pred_lny, lny_test)"
   ]
  },
  {
   "cell_type": "code",
   "execution_count": null,
   "metadata": {},
   "outputs": [],
   "source": [
    "print(mse_lgbm_lny)"
   ]
  },
  {
   "cell_type": "markdown",
   "metadata": {},
   "source": [
    "## Neural Network"
   ]
  },
  {
   "cell_type": "markdown",
   "metadata": {},
   "source": [
    "#code for cv: \n",
    "params_dict={'hidden_layer_sizes':[(5),(10),(20),(10,8),(10,10),(20,10)]}\n",
    "clf_nn =GridSearchCV(estimator = neural_network.MLPRegressor(activation=\"relu\",\n",
    "                 solver='adam', alpha=0.0001,\n",
    "                 batch_size='auto', learning_rate=\"constant\",\n",
    "                 learning_rate_init=0.001, power_t=0.5, max_iter=500 ,tol=1e-4),param_grid=params_dict,cv=5)\n",
    "clf_nn.fit(x_train,y_train)"
   ]
  },
  {
   "cell_type": "code",
   "execution_count": null,
   "metadata": {},
   "outputs": [],
   "source": [
    "#for save time, we directly run the selected best-fitted paramether below\n",
    "random.seed(30)\n",
    "clf_nn = MLPRegressor(random_state=1, alpha=0.001,learning_rate_init=0.0008, max_iter=500).fit(x_train, y_train) \n",
    "nn_estimate_y=clf_nn.predict(x_train)\n",
    "metrics.mean_squared_error(nn_estimate_y, y_train)\n",
    "print (metrics.mean_squared_error)\n",
    "\n",
    "nn_pred_y=clf_nn.predict(x_test)\n",
    "mse_nn_y = metrics.mean_squared_error(nn_pred_y, y_test)\n",
    "print(mse_nn_y)"
   ]
  },
  {
   "cell_type": "code",
   "execution_count": null,
   "metadata": {},
   "outputs": [],
   "source": [
    "nn_pred_y=clf_nn.predict(x_test)\n",
    "mse_nn_y=metrics.mean_squared_error(nn_pred_y, y_test)\n",
    "print(mse_nn_y)"
   ]
  },
  {
   "cell_type": "markdown",
   "metadata": {},
   "source": [
    "#prediction for y\n",
    "mlpr = MLPRegressor(random_state=1, alpha=0.001,learning_rate_init=0.0008, max_iter=500).fit(x_train, y_train) \n",
    "\n",
    "nn_estimate_y=mlpr.predict(x_train)\n",
    "metrics.mean_squared_error(nn_estimate_y, y_train)\n",
    "print (metrics.mean_squared_error)\n",
    "\n",
    "nn_pred_y=mlpr.predict(x_test)\n",
    "mse_nn_y = metrics.mean_squared_error(nn_pred_y, y_test)\n",
    "print(mse_nn_y)"
   ]
  },
  {
   "cell_type": "markdown",
   "metadata": {},
   "source": [
    "#prediction for lny\n",
    "params_dict={'hidden_layer_sizes':[(5),(10),(20),(10,8),(10,10),(20,10)]}\n",
    "clf_nn =GridSearchCV(estimator = neural_network.MLPRegressor(activation=\"relu\",\n",
    "                 solver='adam', alpha=0.0001,\n",
    "                 batch_size='auto', learning_rate=\"constant\",\n",
    "                 learning_rate_init=0.001, power_t=0.5, max_iter=500 ,tol=1e-4),param_grid=params_dict,cv=5)\n",
    "clf_nn.fit(x_train,lny_train)\n",
    "print(clf_nn.best_params_)\n",
    "nn_pred_lny = clf_nn.predict(x_test)\n",
    "mse_nn_lny = metrics.mean_squared_error(nn_pred_lny, lny_test)\n",
    "print(mse_nn_lny)"
   ]
  },
  {
   "cell_type": "markdown",
   "metadata": {},
   "source": [
    "## Evaluation of different variables"
   ]
  },
  {
   "cell_type": "code",
   "execution_count": null,
   "metadata": {},
   "outputs": [],
   "source": [
    "model_names=['OLS','Lasso','KNN','SVR','LGBM','NN']\n",
    "mse_pred_y=(mse_ols_y,mse_lasso_y,mse_knn_y,mse_lgbm_y,mse_nn_y)\n",
    "d={'Modelling Algo':model_names,'MSE':mse_pred_y}\n",
    "d"
   ]
  },
  {
   "cell_type": "code",
   "execution_count": null,
   "metadata": {},
   "outputs": [],
   "source": [
    "acc_frame=pd.DataFrame(d)\n",
    "acc_frame"
   ]
  },
  {
   "cell_type": "code",
   "execution_count": null,
   "metadata": {},
   "outputs": [],
   "source": [
    "sns.factorplot(x='Modelling Algo',y='MSE',data=acc_frame,kind='point',size=4,aspect=3.5)"
   ]
  },
  {
   "cell_type": "code",
   "execution_count": null,
   "metadata": {},
   "outputs": [],
   "source": [
    "# for lny\n",
    "model_names=['OLS','Lasso','KNN','SVR','LGBM','NN']\n",
    "mse_pred_lny=(mse_ols_lny,mse_lasso_lny,mse_knn_lny,mse_lgbm_lny,mse_nn_lny)\n",
    "d2={'Modelling Algo':model_names,'MSE_lny':mse_pred_lny}\n",
    "d2"
   ]
  },
  {
   "cell_type": "code",
   "execution_count": null,
   "metadata": {},
   "outputs": [],
   "source": [
    "acc_frame2=pd.DataFrame(d2)\n",
    "acc_frame2"
   ]
  },
  {
   "cell_type": "code",
   "execution_count": null,
   "metadata": {},
   "outputs": [],
   "source": [
    "sns.factorplot(x='Modelling Algo',y='MSE_lny',data=acc_frame2, kind='point',size=4,aspect=3.5)"
   ]
  },
  {
   "cell_type": "markdown",
   "metadata": {},
   "source": [
    "## Export Prediction"
   ]
  },
  {
   "cell_type": "code",
   "execution_count": null,
   "metadata": {},
   "outputs": [],
   "source": [
    "#combine the original test dataset and the precise predicted y\n",
    "lasso_pred_y = pd.DataFrame(lasso_pred_y)\n",
    "lasso_out = lasso_pred_y.join(test)\n",
    "lasso_out.to_csv(r'Datasets\\lasso_out.csv',index=True ,header=True)\n",
    "\n",
    "knn_pred_y = pd.DataFrame(knn_pred_y)\n",
    "knn_out = lasso_pred_y.join(test)\n",
    "knn_out.to_csv(r'Datasets\\knn_out.csv',index=True ,header=True)\n",
    "\n",
    "svr_pred_y = pd.DataFrame(svr_pred_y)\n",
    "svr_out = lasso_pred_y.join(test)\n",
    "svr_out.to_csv(r'Datasets\\svr_out.csv',index=True ,header=True)\n",
    "\n",
    "lgbm_pred_y = pd.DataFrame(lgbm_pred_y)\n",
    "lgbm_out = lasso_pred_y.join(test)\n",
    "lgbm_out.to_csv(r'Datasets\\lgbm_out.csv',index=True ,header=True)\n",
    "\n",
    "nn_pred_y = pd.DataFrame(nn_pred_y)\n",
    "nn_out = lasso_pred_y.join(test)\n",
    "nn_out.to_csv(r'Datasets\\nn_out.csv',index=True ,header=True)"
   ]
  },
  {
   "cell_type": "code",
   "execution_count": null,
   "metadata": {},
   "outputs": [],
   "source": []
  }
 ],
 "metadata": {
  "kernelspec": {
   "display_name": "Python 3",
   "language": "python",
   "name": "python3"
  },
  "language_info": {
   "codemirror_mode": {
    "name": "ipython",
    "version": 3
   },
   "file_extension": ".py",
   "mimetype": "text/x-python",
   "name": "python",
   "nbconvert_exporter": "python",
   "pygments_lexer": "ipython3",
   "version": "3.8.5"
  }
 },
 "nbformat": 4,
 "nbformat_minor": 4
}
