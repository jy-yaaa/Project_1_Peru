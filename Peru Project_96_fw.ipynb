{
 "cells": [
  {
   "cell_type": "markdown",
   "metadata": {},
   "source": [
    "# ML for Econ Analysis Project 1 - Peru\n",
    "name here\n",
    "## 1 Problem Description\n",
    "blablablabla\n"
   ]
  },
  {
   "cell_type": "code",
   "execution_count": 1,
   "metadata": {},
   "outputs": [],
   "source": [
    "# install packages\n",
    "# !pip install scikit-neuralnetwork\n",
    "# !pip install lightgbm\n",
    "# ! pip install mlxtend"
   ]
  },
  {
   "cell_type": "code",
   "execution_count": 62,
   "metadata": {},
   "outputs": [],
   "source": [
    "# Ignore  the warnings\n",
    "import warnings\n",
    "warnings.filterwarnings('always')\n",
    "warnings.filterwarnings('ignore')\n",
    "#Import everything\n",
    "import pandas as pd\n",
    "import numpy as np\n",
    "from numpy.linalg import inv\n",
    "from numpy.random import normal as rnorm\n",
    "import itertools\n",
    "import time\n",
    "import statsmodels.api as sm\n",
    "import random\n",
    "\n",
    "# for plot\n",
    "import seaborn as sns\n",
    "#stata-like output\n",
    "import statsmodels.api as sm\n",
    "import statsmodels.formula.api as smf\n",
    "\n",
    "#for missing values\n",
    "import missingno as msno\n",
    "from sklearn.impute import SimpleImputer"
   ]
  },
  {
   "cell_type": "code",
   "execution_count": 63,
   "metadata": {},
   "outputs": [],
   "source": [
    " #regression\n",
    "from sklearn.linear_model import LinearRegression,Ridge,Lasso,RidgeCV\n",
    "from sklearn.ensemble import RandomForestRegressor,BaggingRegressor,GradientBoostingRegressor,AdaBoostRegressor\n",
    "from sklearn.svm import SVR\n",
    "from sklearn.neighbors import KNeighborsRegressor\n",
    "from sklearn.linear_model import LassoCV\n",
    "from sklearn.linear_model import RidgeCV\n",
    "from sklearn import neural_network\n",
    "from sklearn.neural_network import MLPRegressor\n",
    "from lightgbm import LGBMRegressor\n",
    "\n",
    "#model selection\n",
    "from sklearn.model_selection import train_test_split,cross_validate\n",
    "from sklearn.model_selection import KFold\n",
    "from sklearn.model_selection import GridSearchCV\n",
    "from sklearn.model_selection import cross_val_score\n",
    "from mlxtend.feature_selection import SequentialFeatureSelector as SFS\n",
    "\n",
    "#preprocessing\n",
    "from sklearn.preprocessing import MinMaxScaler,StandardScaler,LabelEncoder\n",
    "from sklearn.impute import SimpleImputer\n",
    "\n",
    "#evaluation metrics\n",
    "from sklearn.metrics import mean_squared_log_error,mean_squared_error, r2_score,mean_absolute_error # for regression\n",
    "from sklearn.metrics import accuracy_score,precision_score,recall_score,f1_score  # for classification\n",
    "import sklearn.metrics as metrics\n",
    "from sklearn.metrics import mean_squared_error"
   ]
  },
  {
   "cell_type": "code",
   "execution_count": 64,
   "metadata": {},
   "outputs": [],
   "source": [
    "# Import matplotlib for graphs\n",
    "import matplotlib.pyplot as plt\n",
    "from mlxtend.plotting import plot_sequential_feature_selection as plot_sfs\n",
    "\n",
    "# Set global parameters\n",
    "%matplotlib inline\n",
    "plt.style.use('seaborn-white')\n",
    "plt.rcParams['lines.linewidth'] = 3\n",
    "plt.rcParams['figure.figsize'] = (10,6)\n",
    "plt.rcParams['figure.titlesize'] = 20\n",
    "plt.rcParams['axes.titlesize'] = 18\n",
    "plt.rcParams['axes.labelsize'] = 14\n",
    "plt.rcParams['legend.fontsize'] = 14"
   ]
  },
  {
   "cell_type": "markdown",
   "metadata": {},
   "source": [
    "# 2 Data Preprocessing\n",
    "to check the missing value of data, visulize the data to get a \"feel\", and normalize the data"
   ]
  },
  {
   "cell_type": "markdown",
   "metadata": {},
   "source": [
    "## 2.1 Dataset acquisition\n",
    "we use pd.read_csv to read the csv file as dataframe data type."
   ]
  },
  {
   "cell_type": "code",
   "execution_count": 65,
   "metadata": {},
   "outputs": [
    {
     "name": "stdout",
     "output_type": "stream",
     "text": [
      "<class 'pandas.core.frame.DataFrame'>\n",
      "RangeIndex: 46305 entries, 0 to 46304\n",
      "Columns: 105 entries, lnpercapitaconsumption to percapitahat_OLS\n",
      "dtypes: float64(41), int64(64)\n",
      "memory usage: 37.1 MB\n"
     ]
    }
   ],
   "source": [
    "# Peru data\n",
    "peru = pd.read_csv('datasets/Project1_CompletaData_96.csv')\n",
    "peru.head()\n",
    "# Overview of all variables\n",
    "peru.info()"
   ]
  },
  {
   "cell_type": "markdown",
   "metadata": {},
   "source": [
    "## 2.2 Cleaning the Data\n",
    "We check our dataset by detecting whether it contains null, Nan values or missing values."
   ]
  },
  {
   "cell_type": "code",
   "execution_count": 66,
   "metadata": {},
   "outputs": [
    {
     "data": {
      "text/plain": [
       "lnpercapitaconsumption      0\n",
       "d_fuel_other                0\n",
       "d_fuel_wood                 0\n",
       "d_fuel_coal                 0\n",
       "d_fuel_kerosene             0\n",
       "                         ... \n",
       "h_hhsize                    0\n",
       "id_for_matlab               0\n",
       "hhid                        0\n",
       "lncaphat_OLS              927\n",
       "percapitahat_OLS          927\n",
       "Length: 105, dtype: int64"
      ]
     },
     "execution_count": 66,
     "metadata": {},
     "output_type": "execute_result"
    }
   ],
   "source": [
    "peru.isnull().sum()"
   ]
  },
  {
   "cell_type": "code",
   "execution_count": 67,
   "metadata": {},
   "outputs": [
    {
     "data": {
      "text/plain": [
       "'d_fuel_wood'"
      ]
     },
     "execution_count": 67,
     "metadata": {},
     "output_type": "execute_result"
    }
   ],
   "source": [
    "columnNames = peru.columns.values.tolist()\n",
    "columnNames[2]"
   ]
  },
  {
   "cell_type": "code",
   "execution_count": 68,
   "metadata": {},
   "outputs": [
    {
     "data": {
      "text/html": [
       "<div>\n",
       "<style scoped>\n",
       "    .dataframe tbody tr th:only-of-type {\n",
       "        vertical-align: middle;\n",
       "    }\n",
       "\n",
       "    .dataframe tbody tr th {\n",
       "        vertical-align: top;\n",
       "    }\n",
       "\n",
       "    .dataframe thead th {\n",
       "        text-align: right;\n",
       "    }\n",
       "</style>\n",
       "<table border=\"1\" class=\"dataframe\">\n",
       "  <thead>\n",
       "    <tr style=\"text-align: right;\">\n",
       "      <th></th>\n",
       "      <th>d_wall_woodmat</th>\n",
       "      <th>d_wall_stonemud</th>\n",
       "      <th>d_wall_quincha</th>\n",
       "      <th>d_wall_tapia</th>\n",
       "      <th>d_wall_adobe</th>\n",
       "      <th>d_wall_stonecement</th>\n",
       "      <th>d_wall_brickcement</th>\n",
       "      <th>d_roof_other</th>\n",
       "    </tr>\n",
       "  </thead>\n",
       "  <tbody>\n",
       "    <tr>\n",
       "      <th>25</th>\n",
       "      <td>NaN</td>\n",
       "      <td>NaN</td>\n",
       "      <td>NaN</td>\n",
       "      <td>NaN</td>\n",
       "      <td>NaN</td>\n",
       "      <td>NaN</td>\n",
       "      <td>NaN</td>\n",
       "      <td>NaN</td>\n",
       "    </tr>\n",
       "    <tr>\n",
       "      <th>26</th>\n",
       "      <td>0.0</td>\n",
       "      <td>0.0</td>\n",
       "      <td>0.0</td>\n",
       "      <td>1.0</td>\n",
       "      <td>0.0</td>\n",
       "      <td>0.0</td>\n",
       "      <td>0.0</td>\n",
       "      <td>0.0</td>\n",
       "    </tr>\n",
       "  </tbody>\n",
       "</table>\n",
       "</div>"
      ],
      "text/plain": [
       "    d_wall_woodmat  d_wall_stonemud  d_wall_quincha  d_wall_tapia  \\\n",
       "25             NaN              NaN             NaN           NaN   \n",
       "26             0.0              0.0             0.0           1.0   \n",
       "\n",
       "    d_wall_adobe  d_wall_stonecement  d_wall_brickcement  d_roof_other  \n",
       "25           NaN                 NaN                 NaN           NaN  \n",
       "26           0.0                 0.0                 0.0           0.0  "
      ]
     },
     "execution_count": 68,
     "metadata": {},
     "output_type": "execute_result"
    }
   ],
   "source": [
    "peru.loc[25:26,columnNames[22:30]]"
   ]
  },
  {
   "cell_type": "code",
   "execution_count": 6,
   "metadata": {},
   "outputs": [
    {
     "data": {
      "text/plain": [
       "<AxesSubplot:>"
      ]
     },
     "execution_count": 6,
     "metadata": {},
     "output_type": "execute_result"
    },
    {
     "data": {
      "image/png": "[encoded data removed]",
      "text/plain": [
       "<Figure size 1800x720 with 2 Axes>"
      ]
     },
     "metadata": {},
     "output_type": "display_data"
    }
   ],
   "source": [
    "# Visualize no missing values\n",
    "msno.matrix(peru)"
   ]
  },
  {
   "cell_type": "code",
   "execution_count": 69,
   "metadata": {},
   "outputs": [
    {
     "data": {
      "text/html": [
       "<div>\n",
       "<style scoped>\n",
       "    .dataframe tbody tr th:only-of-type {\n",
       "        vertical-align: middle;\n",
       "    }\n",
       "\n",
       "    .dataframe tbody tr th {\n",
       "        vertical-align: top;\n",
       "    }\n",
       "\n",
       "    .dataframe thead th {\n",
       "        text-align: right;\n",
       "    }\n",
       "</style>\n",
       "<table border=\"1\" class=\"dataframe\">\n",
       "  <thead>\n",
       "    <tr style=\"text-align: right;\">\n",
       "      <th></th>\n",
       "      <th>lnpercapitaconsumption</th>\n",
       "      <th>d_fuel_other</th>\n",
       "      <th>d_fuel_wood</th>\n",
       "      <th>d_fuel_coal</th>\n",
       "      <th>d_fuel_kerosene</th>\n",
       "      <th>d_fuel_gas</th>\n",
       "      <th>d_fuel_electric</th>\n",
       "      <th>d_fuel_none</th>\n",
       "      <th>d_water_other</th>\n",
       "      <th>d_water_river</th>\n",
       "      <th>...</th>\n",
       "      <th>refrigerator</th>\n",
       "      <th>washer</th>\n",
       "      <th>training</th>\n",
       "      <th>percapitaconsumption</th>\n",
       "      <th>poor</th>\n",
       "      <th>h_hhsize</th>\n",
       "      <th>id_for_matlab</th>\n",
       "      <th>hhid</th>\n",
       "      <th>lncaphat_OLS</th>\n",
       "      <th>percapitahat_OLS</th>\n",
       "    </tr>\n",
       "  </thead>\n",
       "  <tbody>\n",
       "    <tr>\n",
       "      <th>count</th>\n",
       "      <td>46305.000000</td>\n",
       "      <td>46305.000000</td>\n",
       "      <td>46305.000000</td>\n",
       "      <td>46305.000000</td>\n",
       "      <td>46305.000000</td>\n",
       "      <td>46305.000000</td>\n",
       "      <td>46305.000000</td>\n",
       "      <td>46305.000000</td>\n",
       "      <td>46305.000000</td>\n",
       "      <td>46305.000000</td>\n",
       "      <td>...</td>\n",
       "      <td>45306.000000</td>\n",
       "      <td>45306.000000</td>\n",
       "      <td>46305.000000</td>\n",
       "      <td>46305.000000</td>\n",
       "      <td>46305.000000</td>\n",
       "      <td>46305.000000</td>\n",
       "      <td>46305.000000</td>\n",
       "      <td>4.630500e+04</td>\n",
       "      <td>45378.000000</td>\n",
       "      <td>45378.000000</td>\n",
       "    </tr>\n",
       "    <tr>\n",
       "      <th>mean</th>\n",
       "      <td>5.856564</td>\n",
       "      <td>0.104244</td>\n",
       "      <td>0.307202</td>\n",
       "      <td>0.025656</td>\n",
       "      <td>0.004557</td>\n",
       "      <td>0.518734</td>\n",
       "      <td>0.007796</td>\n",
       "      <td>0.031811</td>\n",
       "      <td>0.041421</td>\n",
       "      <td>0.207947</td>\n",
       "      <td>...</td>\n",
       "      <td>0.360504</td>\n",
       "      <td>0.132565</td>\n",
       "      <td>0.500011</td>\n",
       "      <td>461.243627</td>\n",
       "      <td>0.280207</td>\n",
       "      <td>4.012094</td>\n",
       "      <td>23153.000000</td>\n",
       "      <td>1.869936e+08</td>\n",
       "      <td>5.850041</td>\n",
       "      <td>459.121087</td>\n",
       "    </tr>\n",
       "    <tr>\n",
       "      <th>std</th>\n",
       "      <td>0.744232</td>\n",
       "      <td>0.305580</td>\n",
       "      <td>0.461339</td>\n",
       "      <td>0.158108</td>\n",
       "      <td>0.067350</td>\n",
       "      <td>0.499654</td>\n",
       "      <td>0.087952</td>\n",
       "      <td>0.175498</td>\n",
       "      <td>0.199264</td>\n",
       "      <td>0.405843</td>\n",
       "      <td>...</td>\n",
       "      <td>0.480152</td>\n",
       "      <td>0.339108</td>\n",
       "      <td>0.500005</td>\n",
       "      <td>411.392663</td>\n",
       "      <td>0.449105</td>\n",
       "      <td>2.093215</td>\n",
       "      <td>13367.246444</td>\n",
       "      <td>1.111905e+08</td>\n",
       "      <td>0.605646</td>\n",
       "      <td>293.660060</td>\n",
       "    </tr>\n",
       "    <tr>\n",
       "      <th>min</th>\n",
       "      <td>2.110213</td>\n",
       "      <td>0.000000</td>\n",
       "      <td>0.000000</td>\n",
       "      <td>0.000000</td>\n",
       "      <td>0.000000</td>\n",
       "      <td>0.000000</td>\n",
       "      <td>0.000000</td>\n",
       "      <td>0.000000</td>\n",
       "      <td>0.000000</td>\n",
       "      <td>0.000000</td>\n",
       "      <td>...</td>\n",
       "      <td>0.000000</td>\n",
       "      <td>0.000000</td>\n",
       "      <td>0.000000</td>\n",
       "      <td>8.250000</td>\n",
       "      <td>0.000000</td>\n",
       "      <td>1.000000</td>\n",
       "      <td>1.000000</td>\n",
       "      <td>1.010110e+05</td>\n",
       "      <td>4.434425</td>\n",
       "      <td>-57.498259</td>\n",
       "    </tr>\n",
       "    <tr>\n",
       "      <th>25%</th>\n",
       "      <td>5.344724</td>\n",
       "      <td>0.000000</td>\n",
       "      <td>0.000000</td>\n",
       "      <td>0.000000</td>\n",
       "      <td>0.000000</td>\n",
       "      <td>0.000000</td>\n",
       "      <td>0.000000</td>\n",
       "      <td>0.000000</td>\n",
       "      <td>0.000000</td>\n",
       "      <td>0.000000</td>\n",
       "      <td>...</td>\n",
       "      <td>0.000000</td>\n",
       "      <td>0.000000</td>\n",
       "      <td>0.000000</td>\n",
       "      <td>209.500000</td>\n",
       "      <td>0.000000</td>\n",
       "      <td>2.000000</td>\n",
       "      <td>11577.000000</td>\n",
       "      <td>9.080021e+07</td>\n",
       "      <td>5.332906</td>\n",
       "      <td>235.941390</td>\n",
       "    </tr>\n",
       "    <tr>\n",
       "      <th>50%</th>\n",
       "      <td>5.876649</td>\n",
       "      <td>0.000000</td>\n",
       "      <td>0.000000</td>\n",
       "      <td>0.000000</td>\n",
       "      <td>0.000000</td>\n",
       "      <td>1.000000</td>\n",
       "      <td>0.000000</td>\n",
       "      <td>0.000000</td>\n",
       "      <td>0.000000</td>\n",
       "      <td>0.000000</td>\n",
       "      <td>...</td>\n",
       "      <td>0.000000</td>\n",
       "      <td>0.000000</td>\n",
       "      <td>1.000000</td>\n",
       "      <td>356.612100</td>\n",
       "      <td>0.000000</td>\n",
       "      <td>4.000000</td>\n",
       "      <td>23153.000000</td>\n",
       "      <td>1.828055e+08</td>\n",
       "      <td>5.871003</td>\n",
       "      <td>404.708715</td>\n",
       "    </tr>\n",
       "    <tr>\n",
       "      <th>75%</th>\n",
       "      <td>6.360625</td>\n",
       "      <td>0.000000</td>\n",
       "      <td>1.000000</td>\n",
       "      <td>0.000000</td>\n",
       "      <td>0.000000</td>\n",
       "      <td>1.000000</td>\n",
       "      <td>0.000000</td>\n",
       "      <td>0.000000</td>\n",
       "      <td>0.000000</td>\n",
       "      <td>0.000000</td>\n",
       "      <td>...</td>\n",
       "      <td>1.000000</td>\n",
       "      <td>0.000000</td>\n",
       "      <td>1.000000</td>\n",
       "      <td>578.607700</td>\n",
       "      <td>1.000000</td>\n",
       "      <td>5.000000</td>\n",
       "      <td>34729.000000</td>\n",
       "      <td>2.814050e+08</td>\n",
       "      <td>6.306364</td>\n",
       "      <td>611.242935</td>\n",
       "    </tr>\n",
       "    <tr>\n",
       "      <th>max</th>\n",
       "      <td>9.663810</td>\n",
       "      <td>1.000000</td>\n",
       "      <td>1.000000</td>\n",
       "      <td>1.000000</td>\n",
       "      <td>1.000000</td>\n",
       "      <td>1.000000</td>\n",
       "      <td>1.000000</td>\n",
       "      <td>1.000000</td>\n",
       "      <td>1.000000</td>\n",
       "      <td>1.000000</td>\n",
       "      <td>...</td>\n",
       "      <td>1.000000</td>\n",
       "      <td>1.000000</td>\n",
       "      <td>1.000000</td>\n",
       "      <td>15737.630000</td>\n",
       "      <td>1.000000</td>\n",
       "      <td>20.000000</td>\n",
       "      <td>46305.000000</td>\n",
       "      <td>4.035098e+08</td>\n",
       "      <td>7.738163</td>\n",
       "      <td>2132.653600</td>\n",
       "    </tr>\n",
       "  </tbody>\n",
       "</table>\n",
       "<p>8 rows × 105 columns</p>\n",
       "</div>"
      ],
      "text/plain": [
       "       lnpercapitaconsumption  d_fuel_other   d_fuel_wood   d_fuel_coal  \\\n",
       "count            46305.000000  46305.000000  46305.000000  46305.000000   \n",
       "mean                 5.856564      0.104244      0.307202      0.025656   \n",
       "std                  0.744232      0.305580      0.461339      0.158108   \n",
       "min                  2.110213      0.000000      0.000000      0.000000   \n",
       "25%                  5.344724      0.000000      0.000000      0.000000   \n",
       "50%                  5.876649      0.000000      0.000000      0.000000   \n",
       "75%                  6.360625      0.000000      1.000000      0.000000   \n",
       "max                  9.663810      1.000000      1.000000      1.000000   \n",
       "\n",
       "       d_fuel_kerosene    d_fuel_gas  d_fuel_electric   d_fuel_none  \\\n",
       "count     46305.000000  46305.000000     46305.000000  46305.000000   \n",
       "mean          0.004557      0.518734         0.007796      0.031811   \n",
       "std           0.067350      0.499654         0.087952      0.175498   \n",
       "min           0.000000      0.000000         0.000000      0.000000   \n",
       "25%           0.000000      0.000000         0.000000      0.000000   \n",
       "50%           0.000000      1.000000         0.000000      0.000000   \n",
       "75%           0.000000      1.000000         0.000000      0.000000   \n",
       "max           1.000000      1.000000         1.000000      1.000000   \n",
       "\n",
       "       d_water_other  d_water_river  ...  refrigerator        washer  \\\n",
       "count   46305.000000   46305.000000  ...  45306.000000  45306.000000   \n",
       "mean        0.041421       0.207947  ...      0.360504      0.132565   \n",
       "std         0.199264       0.405843  ...      0.480152      0.339108   \n",
       "min         0.000000       0.000000  ...      0.000000      0.000000   \n",
       "25%         0.000000       0.000000  ...      0.000000      0.000000   \n",
       "50%         0.000000       0.000000  ...      0.000000      0.000000   \n",
       "75%         0.000000       0.000000  ...      1.000000      0.000000   \n",
       "max         1.000000       1.000000  ...      1.000000      1.000000   \n",
       "\n",
       "           training  percapitaconsumption          poor      h_hhsize  \\\n",
       "count  46305.000000          46305.000000  46305.000000  46305.000000   \n",
       "mean       0.500011            461.243627      0.280207      4.012094   \n",
       "std        0.500005            411.392663      0.449105      2.093215   \n",
       "min        0.000000              8.250000      0.000000      1.000000   \n",
       "25%        0.000000            209.500000      0.000000      2.000000   \n",
       "50%        1.000000            356.612100      0.000000      4.000000   \n",
       "75%        1.000000            578.607700      1.000000      5.000000   \n",
       "max        1.000000          15737.630000      1.000000     20.000000   \n",
       "\n",
       "       id_for_matlab          hhid  lncaphat_OLS  percapitahat_OLS  \n",
       "count   46305.000000  4.630500e+04  45378.000000      45378.000000  \n",
       "mean    23153.000000  1.869936e+08      5.850041        459.121087  \n",
       "std     13367.246444  1.111905e+08      0.605646        293.660060  \n",
       "min         1.000000  1.010110e+05      4.434425        -57.498259  \n",
       "25%     11577.000000  9.080021e+07      5.332906        235.941390  \n",
       "50%     23153.000000  1.828055e+08      5.871003        404.708715  \n",
       "75%     34729.000000  2.814050e+08      6.306364        611.242935  \n",
       "max     46305.000000  4.035098e+08      7.738163       2132.653600  \n",
       "\n",
       "[8 rows x 105 columns]"
      ]
     },
     "execution_count": 69,
     "metadata": {},
     "output_type": "execute_result"
    }
   ],
   "source": [
    "# Visualize the distribution of each feature to get an overview of the dataset.\n",
    "peru.describe(include='all')"
   ]
  },
  {
   "cell_type": "markdown",
   "metadata": {},
   "source": [
    "## 2.3 Split Train-test dataset"
   ]
  },
  {
   "cell_type": "code",
   "execution_count": 70,
   "metadata": {},
   "outputs": [],
   "source": [
    "trainNaN = peru[peru['training']==1]\n",
    "# train = trainNaN.dropna()\n",
    "train=trainNaN.dropna(axis=0, how='any', inplace=False)\n",
    "# train.isnull().sum().sum()\n",
    "\n",
    "# train.to_csv(r'Path where you want to store the exported CSV file\\File Name.csv', index = False)\n",
    "\n",
    "#train.to_csv(r'E:\\ML for EconAna\\Peru\\train_py.csv',index=True ,header=True)\n"
   ]
  },
  {
   "cell_type": "code",
   "execution_count": 71,
   "metadata": {},
   "outputs": [
    {
     "data": {
      "text/html": [
       "<div>\n",
       "<style scoped>\n",
       "    .dataframe tbody tr th:only-of-type {\n",
       "        vertical-align: middle;\n",
       "    }\n",
       "\n",
       "    .dataframe tbody tr th {\n",
       "        vertical-align: top;\n",
       "    }\n",
       "\n",
       "    .dataframe thead th {\n",
       "        text-align: right;\n",
       "    }\n",
       "</style>\n",
       "<table border=\"1\" class=\"dataframe\">\n",
       "  <thead>\n",
       "    <tr style=\"text-align: right;\">\n",
       "      <th></th>\n",
       "      <th>lnpercapitaconsumption</th>\n",
       "      <th>d_fuel_other</th>\n",
       "      <th>d_fuel_wood</th>\n",
       "      <th>d_fuel_coal</th>\n",
       "      <th>d_fuel_kerosene</th>\n",
       "      <th>d_fuel_gas</th>\n",
       "      <th>d_fuel_electric</th>\n",
       "      <th>d_fuel_none</th>\n",
       "      <th>d_water_other</th>\n",
       "      <th>d_water_river</th>\n",
       "      <th>...</th>\n",
       "      <th>refrigerator</th>\n",
       "      <th>washer</th>\n",
       "      <th>training</th>\n",
       "      <th>percapitaconsumption</th>\n",
       "      <th>poor</th>\n",
       "      <th>h_hhsize</th>\n",
       "      <th>id_for_matlab</th>\n",
       "      <th>hhid</th>\n",
       "      <th>lncaphat_OLS</th>\n",
       "      <th>percapitahat_OLS</th>\n",
       "    </tr>\n",
       "  </thead>\n",
       "  <tbody>\n",
       "    <tr>\n",
       "      <th>0</th>\n",
       "      <td>5.351858</td>\n",
       "      <td>0</td>\n",
       "      <td>1</td>\n",
       "      <td>0</td>\n",
       "      <td>0</td>\n",
       "      <td>0</td>\n",
       "      <td>0</td>\n",
       "      <td>0</td>\n",
       "      <td>0</td>\n",
       "      <td>1</td>\n",
       "      <td>...</td>\n",
       "      <td>0.0</td>\n",
       "      <td>0.0</td>\n",
       "      <td>0</td>\n",
       "      <td>211.0000</td>\n",
       "      <td>0</td>\n",
       "      <td>1</td>\n",
       "      <td>1</td>\n",
       "      <td>233710511</td>\n",
       "      <td>5.246471</td>\n",
       "      <td>284.42427</td>\n",
       "    </tr>\n",
       "    <tr>\n",
       "      <th>1</th>\n",
       "      <td>5.768755</td>\n",
       "      <td>0</td>\n",
       "      <td>0</td>\n",
       "      <td>0</td>\n",
       "      <td>0</td>\n",
       "      <td>1</td>\n",
       "      <td>0</td>\n",
       "      <td>0</td>\n",
       "      <td>0</td>\n",
       "      <td>0</td>\n",
       "      <td>...</td>\n",
       "      <td>1.0</td>\n",
       "      <td>0.0</td>\n",
       "      <td>0</td>\n",
       "      <td>320.1389</td>\n",
       "      <td>0</td>\n",
       "      <td>3</td>\n",
       "      <td>2</td>\n",
       "      <td>295508011</td>\n",
       "      <td>6.129468</td>\n",
       "      <td>522.88406</td>\n",
       "    </tr>\n",
       "    <tr>\n",
       "      <th>2</th>\n",
       "      <td>5.968277</td>\n",
       "      <td>0</td>\n",
       "      <td>0</td>\n",
       "      <td>0</td>\n",
       "      <td>0</td>\n",
       "      <td>1</td>\n",
       "      <td>0</td>\n",
       "      <td>0</td>\n",
       "      <td>0</td>\n",
       "      <td>0</td>\n",
       "      <td>...</td>\n",
       "      <td>0.0</td>\n",
       "      <td>0.0</td>\n",
       "      <td>0</td>\n",
       "      <td>390.8318</td>\n",
       "      <td>0</td>\n",
       "      <td>4</td>\n",
       "      <td>3</td>\n",
       "      <td>257600211</td>\n",
       "      <td>6.665577</td>\n",
       "      <td>878.49612</td>\n",
       "    </tr>\n",
       "    <tr>\n",
       "      <th>3</th>\n",
       "      <td>5.654599</td>\n",
       "      <td>0</td>\n",
       "      <td>0</td>\n",
       "      <td>0</td>\n",
       "      <td>0</td>\n",
       "      <td>1</td>\n",
       "      <td>0</td>\n",
       "      <td>0</td>\n",
       "      <td>0</td>\n",
       "      <td>0</td>\n",
       "      <td>...</td>\n",
       "      <td>NaN</td>\n",
       "      <td>NaN</td>\n",
       "      <td>0</td>\n",
       "      <td>285.6018</td>\n",
       "      <td>1</td>\n",
       "      <td>9</td>\n",
       "      <td>4</td>\n",
       "      <td>198104311</td>\n",
       "      <td>6.088294</td>\n",
       "      <td>567.47054</td>\n",
       "    </tr>\n",
       "    <tr>\n",
       "      <th>4</th>\n",
       "      <td>4.771289</td>\n",
       "      <td>0</td>\n",
       "      <td>1</td>\n",
       "      <td>0</td>\n",
       "      <td>0</td>\n",
       "      <td>0</td>\n",
       "      <td>0</td>\n",
       "      <td>0</td>\n",
       "      <td>0</td>\n",
       "      <td>1</td>\n",
       "      <td>...</td>\n",
       "      <td>0.0</td>\n",
       "      <td>0.0</td>\n",
       "      <td>0</td>\n",
       "      <td>118.0713</td>\n",
       "      <td>1</td>\n",
       "      <td>8</td>\n",
       "      <td>5</td>\n",
       "      <td>24805311</td>\n",
       "      <td>5.008170</td>\n",
       "      <td>115.49293</td>\n",
       "    </tr>\n",
       "  </tbody>\n",
       "</table>\n",
       "<p>5 rows × 105 columns</p>\n",
       "</div>"
      ],
      "text/plain": [
       "   lnpercapitaconsumption  d_fuel_other  d_fuel_wood  d_fuel_coal  \\\n",
       "0                5.351858             0            1            0   \n",
       "1                5.768755             0            0            0   \n",
       "2                5.968277             0            0            0   \n",
       "3                5.654599             0            0            0   \n",
       "4                4.771289             0            1            0   \n",
       "\n",
       "   d_fuel_kerosene  d_fuel_gas  d_fuel_electric  d_fuel_none  d_water_other  \\\n",
       "0                0           0                0            0              0   \n",
       "1                0           1                0            0              0   \n",
       "2                0           1                0            0              0   \n",
       "3                0           1                0            0              0   \n",
       "4                0           0                0            0              0   \n",
       "\n",
       "   d_water_river  ...  refrigerator  washer  training  percapitaconsumption  \\\n",
       "0              1  ...           0.0     0.0         0              211.0000   \n",
       "1              0  ...           1.0     0.0         0              320.1389   \n",
       "2              0  ...           0.0     0.0         0              390.8318   \n",
       "3              0  ...           NaN     NaN         0              285.6018   \n",
       "4              1  ...           0.0     0.0         0              118.0713   \n",
       "\n",
       "   poor  h_hhsize  id_for_matlab       hhid  lncaphat_OLS  percapitahat_OLS  \n",
       "0     0         1              1  233710511      5.246471         284.42427  \n",
       "1     0         3              2  295508011      6.129468         522.88406  \n",
       "2     0         4              3  257600211      6.665577         878.49612  \n",
       "3     1         9              4  198104311      6.088294         567.47054  \n",
       "4     1         8              5   24805311      5.008170         115.49293  \n",
       "\n",
       "[5 rows x 105 columns]"
      ]
     },
     "execution_count": 71,
     "metadata": {},
     "output_type": "execute_result"
    }
   ],
   "source": [
    "test = peru[peru['training']==0]\n",
    "test.head()"
   ]
  },
  {
   "cell_type": "code",
   "execution_count": 72,
   "metadata": {},
   "outputs": [
    {
     "data": {
      "text/html": [
       "<div>\n",
       "<style scoped>\n",
       "    .dataframe tbody tr th:only-of-type {\n",
       "        vertical-align: middle;\n",
       "    }\n",
       "\n",
       "    .dataframe tbody tr th {\n",
       "        vertical-align: top;\n",
       "    }\n",
       "\n",
       "    .dataframe thead th {\n",
       "        text-align: right;\n",
       "    }\n",
       "</style>\n",
       "<table border=\"1\" class=\"dataframe\">\n",
       "  <thead>\n",
       "    <tr style=\"text-align: right;\">\n",
       "      <th></th>\n",
       "      <th>d_fuel_other</th>\n",
       "      <th>d_fuel_wood</th>\n",
       "      <th>d_fuel_coal</th>\n",
       "      <th>d_fuel_kerosene</th>\n",
       "      <th>d_fuel_gas</th>\n",
       "      <th>d_fuel_electric</th>\n",
       "      <th>d_fuel_none</th>\n",
       "      <th>d_water_other</th>\n",
       "      <th>d_water_river</th>\n",
       "      <th>d_water_well</th>\n",
       "      <th>...</th>\n",
       "      <th>d_dominio_3</th>\n",
       "      <th>d_dominio_4</th>\n",
       "      <th>d_dominio_5</th>\n",
       "      <th>d_dominio_6</th>\n",
       "      <th>d_dominio_7</th>\n",
       "      <th>internet</th>\n",
       "      <th>cable</th>\n",
       "      <th>computer</th>\n",
       "      <th>refrigerator</th>\n",
       "      <th>washer</th>\n",
       "    </tr>\n",
       "  </thead>\n",
       "  <tbody>\n",
       "    <tr>\n",
       "      <th>23152</th>\n",
       "      <td>0</td>\n",
       "      <td>1</td>\n",
       "      <td>0</td>\n",
       "      <td>0</td>\n",
       "      <td>0</td>\n",
       "      <td>0</td>\n",
       "      <td>0</td>\n",
       "      <td>0</td>\n",
       "      <td>0</td>\n",
       "      <td>0</td>\n",
       "      <td>...</td>\n",
       "      <td>0</td>\n",
       "      <td>0</td>\n",
       "      <td>0</td>\n",
       "      <td>0</td>\n",
       "      <td>0</td>\n",
       "      <td>0</td>\n",
       "      <td>0</td>\n",
       "      <td>0.0</td>\n",
       "      <td>0.0</td>\n",
       "      <td>0.0</td>\n",
       "    </tr>\n",
       "    <tr>\n",
       "      <th>23153</th>\n",
       "      <td>0</td>\n",
       "      <td>0</td>\n",
       "      <td>0</td>\n",
       "      <td>0</td>\n",
       "      <td>1</td>\n",
       "      <td>0</td>\n",
       "      <td>0</td>\n",
       "      <td>0</td>\n",
       "      <td>0</td>\n",
       "      <td>0</td>\n",
       "      <td>...</td>\n",
       "      <td>0</td>\n",
       "      <td>0</td>\n",
       "      <td>0</td>\n",
       "      <td>1</td>\n",
       "      <td>0</td>\n",
       "      <td>1</td>\n",
       "      <td>0</td>\n",
       "      <td>1.0</td>\n",
       "      <td>1.0</td>\n",
       "      <td>1.0</td>\n",
       "    </tr>\n",
       "    <tr>\n",
       "      <th>23154</th>\n",
       "      <td>0</td>\n",
       "      <td>1</td>\n",
       "      <td>0</td>\n",
       "      <td>0</td>\n",
       "      <td>0</td>\n",
       "      <td>0</td>\n",
       "      <td>0</td>\n",
       "      <td>0</td>\n",
       "      <td>0</td>\n",
       "      <td>0</td>\n",
       "      <td>...</td>\n",
       "      <td>0</td>\n",
       "      <td>0</td>\n",
       "      <td>1</td>\n",
       "      <td>0</td>\n",
       "      <td>0</td>\n",
       "      <td>0</td>\n",
       "      <td>0</td>\n",
       "      <td>0.0</td>\n",
       "      <td>0.0</td>\n",
       "      <td>0.0</td>\n",
       "    </tr>\n",
       "    <tr>\n",
       "      <th>23155</th>\n",
       "      <td>0</td>\n",
       "      <td>1</td>\n",
       "      <td>0</td>\n",
       "      <td>0</td>\n",
       "      <td>0</td>\n",
       "      <td>0</td>\n",
       "      <td>0</td>\n",
       "      <td>0</td>\n",
       "      <td>1</td>\n",
       "      <td>0</td>\n",
       "      <td>...</td>\n",
       "      <td>0</td>\n",
       "      <td>0</td>\n",
       "      <td>0</td>\n",
       "      <td>0</td>\n",
       "      <td>0</td>\n",
       "      <td>0</td>\n",
       "      <td>0</td>\n",
       "      <td>0.0</td>\n",
       "      <td>0.0</td>\n",
       "      <td>0.0</td>\n",
       "    </tr>\n",
       "    <tr>\n",
       "      <th>23156</th>\n",
       "      <td>1</td>\n",
       "      <td>0</td>\n",
       "      <td>0</td>\n",
       "      <td>0</td>\n",
       "      <td>0</td>\n",
       "      <td>0</td>\n",
       "      <td>0</td>\n",
       "      <td>0</td>\n",
       "      <td>0</td>\n",
       "      <td>0</td>\n",
       "      <td>...</td>\n",
       "      <td>0</td>\n",
       "      <td>0</td>\n",
       "      <td>0</td>\n",
       "      <td>1</td>\n",
       "      <td>0</td>\n",
       "      <td>0</td>\n",
       "      <td>0</td>\n",
       "      <td>0.0</td>\n",
       "      <td>0.0</td>\n",
       "      <td>0.0</td>\n",
       "    </tr>\n",
       "  </tbody>\n",
       "</table>\n",
       "<p>5 rows × 96 columns</p>\n",
       "</div>"
      ],
      "text/plain": [
       "       d_fuel_other  d_fuel_wood  d_fuel_coal  d_fuel_kerosene  d_fuel_gas  \\\n",
       "23152             0            1            0                0           0   \n",
       "23153             0            0            0                0           1   \n",
       "23154             0            1            0                0           0   \n",
       "23155             0            1            0                0           0   \n",
       "23156             1            0            0                0           0   \n",
       "\n",
       "       d_fuel_electric  d_fuel_none  d_water_other  d_water_river  \\\n",
       "23152                0            0              0              0   \n",
       "23153                0            0              0              0   \n",
       "23154                0            0              0              0   \n",
       "23155                0            0              0              1   \n",
       "23156                0            0              0              0   \n",
       "\n",
       "       d_water_well  ...  d_dominio_3  d_dominio_4  d_dominio_5  d_dominio_6  \\\n",
       "23152             0  ...            0            0            0            0   \n",
       "23153             0  ...            0            0            0            1   \n",
       "23154             0  ...            0            0            1            0   \n",
       "23155             0  ...            0            0            0            0   \n",
       "23156             0  ...            0            0            0            1   \n",
       "\n",
       "       d_dominio_7  internet  cable  computer  refrigerator  washer  \n",
       "23152            0         0      0       0.0           0.0     0.0  \n",
       "23153            0         1      0       1.0           1.0     1.0  \n",
       "23154            0         0      0       0.0           0.0     0.0  \n",
       "23155            0         0      0       0.0           0.0     0.0  \n",
       "23156            0         0      0       0.0           0.0     0.0  \n",
       "\n",
       "[5 rows x 96 columns]"
      ]
     },
     "execution_count": 72,
     "metadata": {},
     "output_type": "execute_result"
    }
   ],
   "source": [
    "x_train = train.iloc[:,1: 97]\n",
    "x_test = test.iloc[:,1: 97]\n",
    "x_train.head()"
   ]
  },
  {
   "cell_type": "code",
   "execution_count": 73,
   "metadata": {},
   "outputs": [],
   "source": [
    "y_train = train.loc[:,'percapitaconsumption']\n",
    "lny_train = train.loc[:,'lnpercapitaconsumption']\n",
    "y_test = test.loc[:,'percapitaconsumption']\n",
    "lny_test = test.loc[:,'lnpercapitaconsumption']"
   ]
  },
  {
   "cell_type": "markdown",
   "metadata": {},
   "source": [
    "##impute the missing values and export it to the current directory\n",
    "imr = SimpleImputer(missing_values=np.nan, strategy='median')\n",
    "imr = imr.fit(x_test)\n",
    "x_test = pd.DataFrame(imr.transform(x_test))\n",
    "x_test.to_csv(r'Datasets\\x_test_96.csv',index=True ,header=True)"
   ]
  },
  {
   "cell_type": "code",
   "execution_count": 74,
   "metadata": {},
   "outputs": [
    {
     "data": {
      "text/html": [
       "<div>\n",
       "<style scoped>\n",
       "    .dataframe tbody tr th:only-of-type {\n",
       "        vertical-align: middle;\n",
       "    }\n",
       "\n",
       "    .dataframe tbody tr th {\n",
       "        vertical-align: top;\n",
       "    }\n",
       "\n",
       "    .dataframe thead th {\n",
       "        text-align: right;\n",
       "    }\n",
       "</style>\n",
       "<table border=\"1\" class=\"dataframe\">\n",
       "  <thead>\n",
       "    <tr style=\"text-align: right;\">\n",
       "      <th></th>\n",
       "      <th>d_fuel_other</th>\n",
       "      <th>d_fuel_wood</th>\n",
       "      <th>d_fuel_coal</th>\n",
       "      <th>d_fuel_kerosene</th>\n",
       "      <th>d_fuel_gas</th>\n",
       "      <th>d_fuel_electric</th>\n",
       "      <th>d_fuel_none</th>\n",
       "      <th>d_water_other</th>\n",
       "      <th>d_water_river</th>\n",
       "      <th>d_water_well</th>\n",
       "      <th>...</th>\n",
       "      <th>d_dominio_3</th>\n",
       "      <th>d_dominio_4</th>\n",
       "      <th>d_dominio_5</th>\n",
       "      <th>d_dominio_6</th>\n",
       "      <th>d_dominio_7</th>\n",
       "      <th>internet</th>\n",
       "      <th>cable</th>\n",
       "      <th>computer</th>\n",
       "      <th>refrigerator</th>\n",
       "      <th>washer</th>\n",
       "    </tr>\n",
       "  </thead>\n",
       "  <tbody>\n",
       "    <tr>\n",
       "      <th>0</th>\n",
       "      <td>0</td>\n",
       "      <td>1</td>\n",
       "      <td>0</td>\n",
       "      <td>0</td>\n",
       "      <td>0</td>\n",
       "      <td>0</td>\n",
       "      <td>0</td>\n",
       "      <td>0</td>\n",
       "      <td>1</td>\n",
       "      <td>0</td>\n",
       "      <td>...</td>\n",
       "      <td>0</td>\n",
       "      <td>0</td>\n",
       "      <td>0</td>\n",
       "      <td>0</td>\n",
       "      <td>1</td>\n",
       "      <td>0</td>\n",
       "      <td>0</td>\n",
       "      <td>0</td>\n",
       "      <td>0</td>\n",
       "      <td>0</td>\n",
       "    </tr>\n",
       "    <tr>\n",
       "      <th>1</th>\n",
       "      <td>0</td>\n",
       "      <td>0</td>\n",
       "      <td>0</td>\n",
       "      <td>0</td>\n",
       "      <td>1</td>\n",
       "      <td>0</td>\n",
       "      <td>0</td>\n",
       "      <td>0</td>\n",
       "      <td>0</td>\n",
       "      <td>0</td>\n",
       "      <td>...</td>\n",
       "      <td>0</td>\n",
       "      <td>0</td>\n",
       "      <td>0</td>\n",
       "      <td>0</td>\n",
       "      <td>1</td>\n",
       "      <td>0</td>\n",
       "      <td>1</td>\n",
       "      <td>1</td>\n",
       "      <td>1</td>\n",
       "      <td>0</td>\n",
       "    </tr>\n",
       "    <tr>\n",
       "      <th>2</th>\n",
       "      <td>0</td>\n",
       "      <td>0</td>\n",
       "      <td>0</td>\n",
       "      <td>0</td>\n",
       "      <td>1</td>\n",
       "      <td>0</td>\n",
       "      <td>0</td>\n",
       "      <td>0</td>\n",
       "      <td>0</td>\n",
       "      <td>0</td>\n",
       "      <td>...</td>\n",
       "      <td>0</td>\n",
       "      <td>0</td>\n",
       "      <td>1</td>\n",
       "      <td>0</td>\n",
       "      <td>0</td>\n",
       "      <td>1</td>\n",
       "      <td>1</td>\n",
       "      <td>1</td>\n",
       "      <td>0</td>\n",
       "      <td>0</td>\n",
       "    </tr>\n",
       "    <tr>\n",
       "      <th>3</th>\n",
       "      <td>0</td>\n",
       "      <td>0</td>\n",
       "      <td>0</td>\n",
       "      <td>0</td>\n",
       "      <td>1</td>\n",
       "      <td>0</td>\n",
       "      <td>0</td>\n",
       "      <td>0</td>\n",
       "      <td>0</td>\n",
       "      <td>0</td>\n",
       "      <td>...</td>\n",
       "      <td>0</td>\n",
       "      <td>0</td>\n",
       "      <td>0</td>\n",
       "      <td>0</td>\n",
       "      <td>0</td>\n",
       "      <td>0</td>\n",
       "      <td>0</td>\n",
       "      <td>0</td>\n",
       "      <td>0</td>\n",
       "      <td>0</td>\n",
       "    </tr>\n",
       "    <tr>\n",
       "      <th>4</th>\n",
       "      <td>0</td>\n",
       "      <td>1</td>\n",
       "      <td>0</td>\n",
       "      <td>0</td>\n",
       "      <td>0</td>\n",
       "      <td>0</td>\n",
       "      <td>0</td>\n",
       "      <td>0</td>\n",
       "      <td>1</td>\n",
       "      <td>0</td>\n",
       "      <td>...</td>\n",
       "      <td>0</td>\n",
       "      <td>0</td>\n",
       "      <td>1</td>\n",
       "      <td>0</td>\n",
       "      <td>0</td>\n",
       "      <td>0</td>\n",
       "      <td>0</td>\n",
       "      <td>0</td>\n",
       "      <td>0</td>\n",
       "      <td>0</td>\n",
       "    </tr>\n",
       "  </tbody>\n",
       "</table>\n",
       "<p>5 rows × 96 columns</p>\n",
       "</div>"
      ],
      "text/plain": [
       "   d_fuel_other  d_fuel_wood  d_fuel_coal  d_fuel_kerosene  d_fuel_gas  \\\n",
       "0             0            1            0                0           0   \n",
       "1             0            0            0                0           1   \n",
       "2             0            0            0                0           1   \n",
       "3             0            0            0                0           1   \n",
       "4             0            1            0                0           0   \n",
       "\n",
       "   d_fuel_electric  d_fuel_none  d_water_other  d_water_river  d_water_well  \\\n",
       "0                0            0              0              1             0   \n",
       "1                0            0              0              0             0   \n",
       "2                0            0              0              0             0   \n",
       "3                0            0              0              0             0   \n",
       "4                0            0              0              1             0   \n",
       "\n",
       "   ...  d_dominio_3  d_dominio_4  d_dominio_5  d_dominio_6  d_dominio_7  \\\n",
       "0  ...            0            0            0            0            1   \n",
       "1  ...            0            0            0            0            1   \n",
       "2  ...            0            0            1            0            0   \n",
       "3  ...            0            0            0            0            0   \n",
       "4  ...            0            0            1            0            0   \n",
       "\n",
       "   internet  cable  computer  refrigerator  washer  \n",
       "0         0      0         0             0       0  \n",
       "1         0      1         1             1       0  \n",
       "2         1      1         1             0       0  \n",
       "3         0      0         0             0       0  \n",
       "4         0      0         0             0       0  \n",
       "\n",
       "[5 rows x 96 columns]"
      ]
     },
     "execution_count": 74,
     "metadata": {},
     "output_type": "execute_result"
    }
   ],
   "source": [
    "# import x_test data\n",
    "x_test = pd.read_csv('datasets/x_test_96.csv')\n",
    "x_test.head()"
   ]
  },
  {
   "cell_type": "code",
   "execution_count": 75,
   "metadata": {},
   "outputs": [
    {
     "name": "stdout",
     "output_type": "stream",
     "text": [
      "False\n",
      "True\n",
      "False\n"
     ]
    }
   ],
   "source": [
    "print(np.any(np.isnan(x_test)))\n",
    "print(np.all(np.isfinite(x_test)))\n",
    "print(np.any(np.isinf(x_test)))"
   ]
  },
  {
   "cell_type": "code",
   "execution_count": 76,
   "metadata": {},
   "outputs": [
    {
     "data": {
      "text/plain": [
       "d_fuel_other       0\n",
       "d_fuel_wood        0\n",
       "d_fuel_coal        0\n",
       "d_fuel_kerosene    0\n",
       "d_fuel_gas         0\n",
       "                  ..\n",
       "internet           0\n",
       "cable              0\n",
       "computer           0\n",
       "refrigerator       0\n",
       "washer             0\n",
       "Length: 96, dtype: int64"
      ]
     },
     "execution_count": 76,
     "metadata": {},
     "output_type": "execute_result"
    }
   ],
   "source": [
    "x_test.isnull().sum()"
   ]
  },
  {
   "cell_type": "code",
   "execution_count": 82,
   "metadata": {},
   "outputs": [
    {
     "data": {
      "text/plain": [
       "(23152, 96)"
      ]
     },
     "execution_count": 82,
     "metadata": {},
     "output_type": "execute_result"
    }
   ],
   "source": [
    "x_test.shape"
   ]
  },
  {
   "cell_type": "code",
   "execution_count": 83,
   "metadata": {},
   "outputs": [
    {
     "data": {
      "text/plain": [
       "(22191, 96)"
      ]
     },
     "execution_count": 83,
     "metadata": {},
     "output_type": "execute_result"
    }
   ],
   "source": [
    "x_train.shape"
   ]
  },
  {
   "cell_type": "markdown",
   "metadata": {},
   "source": [
    "## 2.5  Create new variables"
   ]
  },
  {
   "cell_type": "markdown",
   "metadata": {},
   "source": [
    "#交互 x_train and x_test里所有的column,两两相乘\n",
    " for i in range(0,77):\n",
    "    a=i\n",
    "    for j in range(a+1,77):\n",
    "            x_train['interaction'+str(i)+str('t')+str(j)]=x_train.iloc[:,i]* x_train.iloc[:,j]\n"
   ]
  },
  {
   "cell_type": "markdown",
   "metadata": {},
   "source": [
    "#x_test 交互\n",
    "for i in range(0,77):\n",
    "    a=i\n",
    "    for j in range(a+1,77):\n",
    "            x_test['interaction'+str(i)+str('t')+str(j)]=x_test.iloc[:,i]* x_test.iloc[:,j]"
   ]
  },
  {
   "cell_type": "code",
   "execution_count": 17,
   "metadata": {},
   "outputs": [
    {
     "data": {
      "text/html": [
       "<div>\n",
       "<style scoped>\n",
       "    .dataframe tbody tr th:only-of-type {\n",
       "        vertical-align: middle;\n",
       "    }\n",
       "\n",
       "    .dataframe tbody tr th {\n",
       "        vertical-align: top;\n",
       "    }\n",
       "\n",
       "    .dataframe thead th {\n",
       "        text-align: right;\n",
       "    }\n",
       "</style>\n",
       "<table border=\"1\" class=\"dataframe\">\n",
       "  <thead>\n",
       "    <tr style=\"text-align: right;\">\n",
       "      <th></th>\n",
       "      <th>d_fuel_other</th>\n",
       "      <th>d_fuel_wood</th>\n",
       "      <th>d_fuel_coal</th>\n",
       "      <th>d_fuel_kerosene</th>\n",
       "      <th>d_fuel_gas</th>\n",
       "      <th>d_fuel_electric</th>\n",
       "      <th>d_fuel_none</th>\n",
       "      <th>d_water_other</th>\n",
       "      <th>d_water_river</th>\n",
       "      <th>d_water_well</th>\n",
       "      <th>...</th>\n",
       "      <th>d_dominio_3</th>\n",
       "      <th>d_dominio_4</th>\n",
       "      <th>d_dominio_5</th>\n",
       "      <th>d_dominio_6</th>\n",
       "      <th>d_dominio_7</th>\n",
       "      <th>internet</th>\n",
       "      <th>cable</th>\n",
       "      <th>computer</th>\n",
       "      <th>refrigerator</th>\n",
       "      <th>washer</th>\n",
       "    </tr>\n",
       "  </thead>\n",
       "  <tbody>\n",
       "    <tr>\n",
       "      <th>23152</th>\n",
       "      <td>0</td>\n",
       "      <td>1</td>\n",
       "      <td>0</td>\n",
       "      <td>0</td>\n",
       "      <td>0</td>\n",
       "      <td>0</td>\n",
       "      <td>0</td>\n",
       "      <td>0</td>\n",
       "      <td>0</td>\n",
       "      <td>0</td>\n",
       "      <td>...</td>\n",
       "      <td>0</td>\n",
       "      <td>0</td>\n",
       "      <td>0</td>\n",
       "      <td>0</td>\n",
       "      <td>0</td>\n",
       "      <td>0</td>\n",
       "      <td>0</td>\n",
       "      <td>0.0</td>\n",
       "      <td>0.0</td>\n",
       "      <td>0.0</td>\n",
       "    </tr>\n",
       "    <tr>\n",
       "      <th>23153</th>\n",
       "      <td>0</td>\n",
       "      <td>0</td>\n",
       "      <td>0</td>\n",
       "      <td>0</td>\n",
       "      <td>1</td>\n",
       "      <td>0</td>\n",
       "      <td>0</td>\n",
       "      <td>0</td>\n",
       "      <td>0</td>\n",
       "      <td>0</td>\n",
       "      <td>...</td>\n",
       "      <td>0</td>\n",
       "      <td>0</td>\n",
       "      <td>0</td>\n",
       "      <td>1</td>\n",
       "      <td>0</td>\n",
       "      <td>1</td>\n",
       "      <td>0</td>\n",
       "      <td>1.0</td>\n",
       "      <td>1.0</td>\n",
       "      <td>1.0</td>\n",
       "    </tr>\n",
       "    <tr>\n",
       "      <th>23154</th>\n",
       "      <td>0</td>\n",
       "      <td>1</td>\n",
       "      <td>0</td>\n",
       "      <td>0</td>\n",
       "      <td>0</td>\n",
       "      <td>0</td>\n",
       "      <td>0</td>\n",
       "      <td>0</td>\n",
       "      <td>0</td>\n",
       "      <td>0</td>\n",
       "      <td>...</td>\n",
       "      <td>0</td>\n",
       "      <td>0</td>\n",
       "      <td>1</td>\n",
       "      <td>0</td>\n",
       "      <td>0</td>\n",
       "      <td>0</td>\n",
       "      <td>0</td>\n",
       "      <td>0.0</td>\n",
       "      <td>0.0</td>\n",
       "      <td>0.0</td>\n",
       "    </tr>\n",
       "    <tr>\n",
       "      <th>23155</th>\n",
       "      <td>0</td>\n",
       "      <td>1</td>\n",
       "      <td>0</td>\n",
       "      <td>0</td>\n",
       "      <td>0</td>\n",
       "      <td>0</td>\n",
       "      <td>0</td>\n",
       "      <td>0</td>\n",
       "      <td>1</td>\n",
       "      <td>0</td>\n",
       "      <td>...</td>\n",
       "      <td>0</td>\n",
       "      <td>0</td>\n",
       "      <td>0</td>\n",
       "      <td>0</td>\n",
       "      <td>0</td>\n",
       "      <td>0</td>\n",
       "      <td>0</td>\n",
       "      <td>0.0</td>\n",
       "      <td>0.0</td>\n",
       "      <td>0.0</td>\n",
       "    </tr>\n",
       "    <tr>\n",
       "      <th>23156</th>\n",
       "      <td>1</td>\n",
       "      <td>0</td>\n",
       "      <td>0</td>\n",
       "      <td>0</td>\n",
       "      <td>0</td>\n",
       "      <td>0</td>\n",
       "      <td>0</td>\n",
       "      <td>0</td>\n",
       "      <td>0</td>\n",
       "      <td>0</td>\n",
       "      <td>...</td>\n",
       "      <td>0</td>\n",
       "      <td>0</td>\n",
       "      <td>0</td>\n",
       "      <td>1</td>\n",
       "      <td>0</td>\n",
       "      <td>0</td>\n",
       "      <td>0</td>\n",
       "      <td>0.0</td>\n",
       "      <td>0.0</td>\n",
       "      <td>0.0</td>\n",
       "    </tr>\n",
       "  </tbody>\n",
       "</table>\n",
       "<p>5 rows × 96 columns</p>\n",
       "</div>"
      ],
      "text/plain": [
       "       d_fuel_other  d_fuel_wood  d_fuel_coal  d_fuel_kerosene  d_fuel_gas  \\\n",
       "23152             0            1            0                0           0   \n",
       "23153             0            0            0                0           1   \n",
       "23154             0            1            0                0           0   \n",
       "23155             0            1            0                0           0   \n",
       "23156             1            0            0                0           0   \n",
       "\n",
       "       d_fuel_electric  d_fuel_none  d_water_other  d_water_river  \\\n",
       "23152                0            0              0              0   \n",
       "23153                0            0              0              0   \n",
       "23154                0            0              0              0   \n",
       "23155                0            0              0              1   \n",
       "23156                0            0              0              0   \n",
       "\n",
       "       d_water_well  ...  d_dominio_3  d_dominio_4  d_dominio_5  d_dominio_6  \\\n",
       "23152             0  ...            0            0            0            0   \n",
       "23153             0  ...            0            0            0            1   \n",
       "23154             0  ...            0            0            1            0   \n",
       "23155             0  ...            0            0            0            0   \n",
       "23156             0  ...            0            0            0            1   \n",
       "\n",
       "       d_dominio_7  internet  cable  computer  refrigerator  washer  \n",
       "23152            0         0      0       0.0           0.0     0.0  \n",
       "23153            0         1      0       1.0           1.0     1.0  \n",
       "23154            0         0      0       0.0           0.0     0.0  \n",
       "23155            0         0      0       0.0           0.0     0.0  \n",
       "23156            0         0      0       0.0           0.0     0.0  \n",
       "\n",
       "[5 rows x 96 columns]"
      ]
     },
     "execution_count": 17,
     "metadata": {},
     "output_type": "execute_result"
    }
   ],
   "source": [
    "x_train.head()"
   ]
  },
  {
   "cell_type": "markdown",
   "metadata": {},
   "source": [
    " ## 2.5 Feature Selection\n",
    " Use forward selection. "
   ]
  },
  {
   "cell_type": "code",
   "execution_count": 39,
   "metadata": {},
   "outputs": [],
   "source": [
    "random.seed(30)"
   ]
  },
  {
   "cell_type": "code",
   "execution_count": 40,
   "metadata": {},
   "outputs": [
    {
     "data": {
      "text/plain": [
       "('d_fuel_other',\n",
       " 'd_fuel_wood',\n",
       " 'd_fuel_coal',\n",
       " 'd_fuel_gas',\n",
       " 'd_fuel_electric',\n",
       " 'd_fuel_none',\n",
       " 'd_water_river',\n",
       " 'd_water_truck',\n",
       " 'd_water_outside',\n",
       " 'd_drain_none',\n",
       " 'd_drain_river',\n",
       " 'd_drain_inside',\n",
       " 'd_wall_other',\n",
       " 'd_wall_tapia',\n",
       " 'd_wall_adobe',\n",
       " 'd_roof_straw',\n",
       " 'd_roof_mat',\n",
       " 'd_roof_tile',\n",
       " 'd_floor_earth',\n",
       " 'd_floor_tile',\n",
       " 'd_floor_sheets',\n",
       " 'd_floor_parquet',\n",
       " 'd_telephone',\n",
       " 'd_h_educ_none',\n",
       " 'd_h_educ_sec',\n",
       " 'd_h_educ_higher_nouni',\n",
       " 'd_h_educ_higher_uni',\n",
       " 'd_h_educ_post',\n",
       " 'd_max_educ_none',\n",
       " 'd_max_educ_prim',\n",
       " 'd_max_educ_higher_nouni',\n",
       " 'd_insurance_1',\n",
       " 'd_insurance_2',\n",
       " 'd_insurance_3',\n",
       " 'd_insurance_4plus',\n",
       " 'd_crowd_lessthan1',\n",
       " 'd_crowd_1to2',\n",
       " 'd_crowd_2to4',\n",
       " 'd_lux_0',\n",
       " 'd_lux_1',\n",
       " 'd_lux_2',\n",
       " 'd_lux_3',\n",
       " 'd_lux_4',\n",
       " 'd_lux_5',\n",
       " 'd_month_8',\n",
       " 'd_month_10',\n",
       " 'd_month_11',\n",
       " 'd_year_2010',\n",
       " 'd_dominio_1',\n",
       " 'd_dominio_2',\n",
       " 'd_dominio_3',\n",
       " 'd_dominio_4',\n",
       " 'd_dominio_5',\n",
       " 'd_dominio_6',\n",
       " 'd_dominio_7',\n",
       " 'cable',\n",
       " 'washer')"
      ]
     },
     "execution_count": 40,
     "metadata": {},
     "output_type": "execute_result"
    }
   ],
   "source": [
    "sfs = SFS(LinearRegression(),\n",
    "         k_features= (30, 96),\n",
    "         forward=True,\n",
    "         floating=False,\n",
    "         scoring='neg_mean_squared_error',\n",
    "         cv=10)\n",
    "sfs.fit(x_train, y_train)\n",
    "sfs.k_feature_names_"
   ]
  },
  {
   "cell_type": "code",
   "execution_count": 41,
   "metadata": {},
   "outputs": [
    {
     "data": {
      "image/png": "[encoded data removed]",
      "text/plain": [
       "<Figure size 720x432 with 1 Axes>"
      ]
     },
     "metadata": {},
     "output_type": "display_data"
    }
   ],
   "source": [
    "fig1 = plot_sfs(sfs.get_metric_dict(), kind='std_dev')\n",
    "plt.title('Sequential Forward Selection (w. StdErr)')\n",
    "ticks = np.arange(1, 96, 5)\n",
    "plt.xticks(ticks)\n",
    "plt.show()"
   ]
  },
  {
   "cell_type": "code",
   "execution_count": 42,
   "metadata": {},
   "outputs": [],
   "source": [
    "x_train_sfs = sfs.transform(x_train)\n",
    "x_test_sfs = sfs.transform(x_test)"
   ]
  },
  {
   "cell_type": "code",
   "execution_count": 43,
   "metadata": {},
   "outputs": [],
   "source": [
    "x_train = pd.DataFrame(x_train_sfs)\n",
    "x_test = pd.DataFrame(x_test_sfs)"
   ]
  },
  {
   "cell_type": "code",
   "execution_count": 44,
   "metadata": {},
   "outputs": [
    {
     "name": "stdout",
     "output_type": "stream",
     "text": [
      "(22191, 57)\n",
      "(23152, 57)\n"
     ]
    }
   ],
   "source": [
    "print(x_train.shape)\n",
    "print(x_test.shape)"
   ]
  },
  {
   "cell_type": "markdown",
   "metadata": {},
   "source": [
    "# 3 Model implementation\n",
    "## 3.1 Replicate the original paper(Peru): OLS"
   ]
  },
  {
   "cell_type": "code",
   "execution_count": 79,
   "metadata": {},
   "outputs": [],
   "source": [
    "# add constant for train_x\n",
    "one = np.ones(np.shape(x_train))\n",
    "x_train_withcons = np.concatenate([one,x_train],axis=1)"
   ]
  },
  {
   "cell_type": "code",
   "execution_count": 80,
   "metadata": {},
   "outputs": [],
   "source": [
    "# add constant for test_x\n",
    "one = np.ones(np.shape(x_test))\n",
    "x_test_withcons = np.concatenate([one,x_test],axis=1)"
   ]
  },
  {
   "cell_type": "code",
   "execution_count": 81,
   "metadata": {},
   "outputs": [],
   "source": [
    "# linear regression with constant\n",
    "linreg = LinearRegression()\n",
    "model1 = linreg.fit(x_train_withcons,y_train)"
   ]
  },
  {
   "cell_type": "code",
   "execution_count": 124,
   "metadata": {},
   "outputs": [
    {
     "data": {
      "text/plain": [
       "array([ 1.37487315e+10,  7.82425574e+14, -2.49888903e+14, -1.77289173e+14,\n",
       "       -4.52847971e+14, -3.99575890e+14,  4.05815965e+13,  7.01067696e+13,\n",
       "        4.81399938e+12, -4.39472369e+13, -4.23351336e+13, -3.03311541e+12,\n",
       "       -8.35071510e+12, -2.08976882e+13, -7.12646841e+13,  2.18870600e+13,\n",
       "       -1.75103907e+12,  4.54829372e+13,  2.09164554e+12,  4.08606210e+13,\n",
       "       -1.29178301e+13,  1.46565238e+13, -1.21110620e+13,  1.10429965e+13,\n",
       "       -1.63770291e+13, -1.31694314e+13,  1.48435709e+13,  1.37617113e+13,\n",
       "       -3.18142618e+12,  1.44923248e+13,  2.26292189e+13, -9.57139299e+12,\n",
       "        1.26666398e+13,  1.39262871e+12, -1.56652861e+13,  4.37355568e+12,\n",
       "        8.92425843e+12, -1.19550562e+13, -1.92572891e+13,  3.94928842e+12,\n",
       "        5.57733798e+12,  5.76222187e+12, -3.29466819e+13,  4.19981368e+12,\n",
       "        7.54574333e+12,  5.60065070e+12, -8.28077942e+12,  9.24598381e+12,\n",
       "       -2.70549294e+13,  2.00993437e+12,  4.03233699e+12,  1.13565701e+13,\n",
       "        2.68108797e+12,  1.85397338e+12,  1.17330513e+13,  1.00439171e+13,\n",
       "        6.08848120e+12,  2.27143699e+13,  4.88402368e+12, -5.93921067e+12,\n",
       "        2.20147747e+13,  6.29839876e+11,  5.81335644e+12, -1.94731964e+13,\n",
       "        1.57397290e+13,  1.67406069e+13, -3.31462445e+12,  2.02801474e+12,\n",
       "       -1.54276180e+12,  9.98072488e+12, -2.08134244e+12, -2.97536526e+12,\n",
       "        9.16659763e+12, -4.64613932e+12,  2.58509303e+12,  1.61714130e+12,\n",
       "        5.60812047e+11, -1.49720266e+12,  1.33307140e+13, -8.28824437e+12,\n",
       "       -4.44443053e+12, -2.62072614e+12, -7.80284248e+12,  2.57011181e+12,\n",
       "        3.87275905e+13, -3.62785482e+12,  1.11141794e+13,  5.88167373e+12,\n",
       "       -1.56219366e+12, -6.39616980e+10, -6.10401771e+11,  1.69495522e+12,\n",
       "        1.68889500e+11,  2.60284981e+10, -1.66183854e+10,  6.96050596e+09,\n",
       "       -3.01947064e+14, -3.01947064e+14, -3.01947064e+14, -3.01947064e+14,\n",
       "       -3.01947064e+14, -3.01947064e+14, -3.01947064e+14,  3.02915825e+14,\n",
       "        3.02915825e+14,  3.02915825e+14,  3.02915825e+14,  3.02915825e+14,\n",
       "        3.02915825e+14,  3.02915825e+14,  1.05312500e+01, -2.31054688e+00,\n",
       "        1.73046875e+01,  1.81875000e+01,  1.23671875e+01,  2.51953125e+01,\n",
       "        3.88544796e+14,  3.88544796e+14,  3.88544796e+14,  3.88544796e+14,\n",
       "        3.88544796e+14,  3.88544796e+14,  3.88544796e+14,  3.88544796e+14,\n",
       "       -1.31565839e+12, -1.31565839e+12, -1.31565839e+12, -1.31565839e+12,\n",
       "       -1.31565839e+12, -1.31565839e+12, -1.31565839e+12,  1.75856440e+14,\n",
       "        1.75856440e+14,  1.75856440e+14,  1.75856440e+14,  1.75856440e+14,\n",
       "        1.75856440e+14,  1.75856440e+14,  9.06250000e-01,  2.99687500e+01,\n",
       "        5.21732410e+13,  5.21732410e+13,  5.21732410e+13,  5.21732410e+13,\n",
       "        5.21732410e+13,  5.21732410e+13,  5.21732410e+13, -1.66480469e+02,\n",
       "       -7.48437500e+01, -4.85625000e+01, -5.24296875e+01, -4.06250000e+01,\n",
       "        3.03448600e+14,  3.03448600e+14,  3.03448600e+14,  3.03448600e+14,\n",
       "        3.03448600e+14, -9.55352648e+13, -9.55352648e+13, -9.55352648e+13,\n",
       "       -9.55352648e+13, -9.55352648e+13,  1.03012420e+14,  8.95159252e+13,\n",
       "        7.60194306e+13,  6.25229359e+13,  4.90264412e+13,  3.55299466e+13,\n",
       "        3.03515625e+00,  1.38671875e-01, -5.81250000e+00, -6.11328125e+00,\n",
       "        3.44531250e+00,  8.53125000e+00, -1.19531250e+00,  1.32695312e+01,\n",
       "        9.28125000e+00,  5.61718750e+00, -6.25195312e+00, -3.32500000e+01,\n",
       "       -6.61250000e+01, -7.92270508e+01, -4.78173828e+01, -6.46718750e+01,\n",
       "       -8.32187500e+01, -7.39375000e+01, -1.74062500e+01,  1.34964947e+13,\n",
       "        1.34964947e+13,  1.34964947e+13,  1.34964947e+13,  1.34964947e+13])"
      ]
     },
     "execution_count": 124,
     "metadata": {},
     "output_type": "execute_result"
    }
   ],
   "source": [
    "model1.coef_"
   ]
  },
  {
   "cell_type": "code",
   "execution_count": 125,
   "metadata": {},
   "outputs": [
    {
     "data": {
      "text/plain": [
       "array([400.625, 798.75 , 220.75 , ..., 404.25 , 336.   , 725.   ])"
      ]
     },
     "execution_count": 125,
     "metadata": {},
     "output_type": "execute_result"
    }
   ],
   "source": [
    "ols_estimate_y = model1.predict(x_train_withcons)\n",
    "ols_estimate_y"
   ]
  },
  {
   "cell_type": "code",
   "execution_count": 126,
   "metadata": {},
   "outputs": [],
   "source": [
    "ols_pred_y = model1.predict(x_test_withcons)"
   ]
  },
  {
   "cell_type": "code",
   "execution_count": 127,
   "metadata": {},
   "outputs": [
    {
     "data": {
      "text/html": [
       "<table class=\"simpletable\">\n",
       "<tr>\n",
       "             <td></td>                <th>coef</th>     <th>std err</th>      <th>t</th>      <th>P>|t|</th>  <th>[0.025</th>    <th>0.975]</th>  \n",
       "</tr>\n",
       "<tr>\n",
       "  <th>const</th>                   <td>  271.5376</td> <td>   14.141</td> <td>   19.203</td> <td> 0.000</td> <td>  243.821</td> <td>  299.254</td>\n",
       "</tr>\n",
       "<tr>\n",
       "  <th>d_fuel_other</th>            <td> -100.4283</td> <td>    8.378</td> <td>  -11.987</td> <td> 0.000</td> <td> -116.851</td> <td>  -84.006</td>\n",
       "</tr>\n",
       "<tr>\n",
       "  <th>d_fuel_wood</th>             <td>  -89.2030</td> <td>    7.219</td> <td>  -12.357</td> <td> 0.000</td> <td> -103.353</td> <td>  -75.053</td>\n",
       "</tr>\n",
       "<tr>\n",
       "  <th>d_fuel_coal</th>             <td>  -40.1382</td> <td>   11.701</td> <td>   -3.430</td> <td> 0.001</td> <td>  -63.073</td> <td>  -17.203</td>\n",
       "</tr>\n",
       "<tr>\n",
       "  <th>d_fuel_kerosene</th>         <td>  -57.9007</td> <td>   25.350</td> <td>   -2.284</td> <td> 0.022</td> <td> -107.588</td> <td>   -8.213</td>\n",
       "</tr>\n",
       "<tr>\n",
       "  <th>d_fuel_gas</th>              <td>  -15.6770</td> <td>    6.562</td> <td>   -2.389</td> <td> 0.017</td> <td>  -28.540</td> <td>   -2.814</td>\n",
       "</tr>\n",
       "<tr>\n",
       "  <th>d_fuel_electric</th>         <td>  436.4550</td> <td>   20.089</td> <td>   21.726</td> <td> 0.000</td> <td>  397.079</td> <td>  475.831</td>\n",
       "</tr>\n",
       "<tr>\n",
       "  <th>d_fuel_none</th>             <td>  138.4298</td> <td>   11.108</td> <td>   12.462</td> <td> 0.000</td> <td>  116.658</td> <td>  160.202</td>\n",
       "</tr>\n",
       "<tr>\n",
       "  <th>d_water_other</th>           <td>   34.2105</td> <td>    9.082</td> <td>    3.767</td> <td> 0.000</td> <td>   16.408</td> <td>   52.013</td>\n",
       "</tr>\n",
       "<tr>\n",
       "  <th>d_water_river</th>           <td>   15.3014</td> <td>    6.012</td> <td>    2.545</td> <td> 0.011</td> <td>    3.518</td> <td>   27.085</td>\n",
       "</tr>\n",
       "<tr>\n",
       "  <th>d_water_well</th>            <td>   24.5248</td> <td>    9.045</td> <td>    2.711</td> <td> 0.007</td> <td>    6.796</td> <td>   42.254</td>\n",
       "</tr>\n",
       "<tr>\n",
       "  <th>d_water_truck</th>           <td>   70.6472</td> <td>   13.216</td> <td>    5.345</td> <td> 0.000</td> <td>   44.742</td> <td>   96.552</td>\n",
       "</tr>\n",
       "<tr>\n",
       "  <th>d_water_pylon</th>           <td>   19.7854</td> <td>   12.141</td> <td>    1.630</td> <td> 0.103</td> <td>   -4.012</td> <td>   43.583</td>\n",
       "</tr>\n",
       "<tr>\n",
       "  <th>d_water_outside</th>         <td>   74.7026</td> <td>   13.431</td> <td>    5.562</td> <td> 0.000</td> <td>   48.378</td> <td>  101.027</td>\n",
       "</tr>\n",
       "<tr>\n",
       "  <th>d_water_inside</th>          <td>   32.3656</td> <td>    5.350</td> <td>    6.050</td> <td> 0.000</td> <td>   21.879</td> <td>   42.852</td>\n",
       "</tr>\n",
       "<tr>\n",
       "  <th>d_drain_none</th>            <td>   10.1402</td> <td>   26.801</td> <td>    0.378</td> <td> 0.705</td> <td>  -42.392</td> <td>   62.673</td>\n",
       "</tr>\n",
       "<tr>\n",
       "  <th>d_drain_river</th>           <td>   -2.9387</td> <td>   29.031</td> <td>   -0.101</td> <td> 0.919</td> <td>  -59.841</td> <td>   53.963</td>\n",
       "</tr>\n",
       "<tr>\n",
       "  <th>d_drain_cesspool</th>        <td>   16.7229</td> <td>   26.673</td> <td>    0.627</td> <td> 0.531</td> <td>  -35.558</td> <td>   69.004</td>\n",
       "</tr>\n",
       "<tr>\n",
       "  <th>d_drain_septic</th>          <td>   17.6113</td> <td>   26.738</td> <td>    0.659</td> <td> 0.510</td> <td>  -34.796</td> <td>   70.019</td>\n",
       "</tr>\n",
       "<tr>\n",
       "  <th>d_drain_outside</th>         <td>   11.5576</td> <td>   30.657</td> <td>    0.377</td> <td> 0.706</td> <td>  -48.532</td> <td>   71.647</td>\n",
       "</tr>\n",
       "<tr>\n",
       "  <th>d_drain_inside</th>          <td>   24.3945</td> <td>   26.643</td> <td>    0.916</td> <td> 0.360</td> <td>  -27.827</td> <td>   76.616</td>\n",
       "</tr>\n",
       "<tr>\n",
       "  <th>d_wall_other</th>            <td>   26.6279</td> <td>    9.031</td> <td>    2.949</td> <td> 0.003</td> <td>    8.927</td> <td>   44.329</td>\n",
       "</tr>\n",
       "<tr>\n",
       "  <th>d_wall_woodmat</th>          <td>   43.7418</td> <td>    7.464</td> <td>    5.860</td> <td> 0.000</td> <td>   29.112</td> <td>   58.372</td>\n",
       "</tr>\n",
       "<tr>\n",
       "  <th>d_wall_stonemud</th>         <td>   32.2476</td> <td>   14.775</td> <td>    2.183</td> <td> 0.029</td> <td>    3.287</td> <td>   61.208</td>\n",
       "</tr>\n",
       "<tr>\n",
       "  <th>d_wall_quincha</th>          <td>   42.6131</td> <td>   11.684</td> <td>    3.647</td> <td> 0.000</td> <td>   19.711</td> <td>   65.515</td>\n",
       "</tr>\n",
       "<tr>\n",
       "  <th>d_wall_tapia</th>            <td>   15.8140</td> <td>    7.782</td> <td>    2.032</td> <td> 0.042</td> <td>    0.561</td> <td>   31.067</td>\n",
       "</tr>\n",
       "<tr>\n",
       "  <th>d_wall_adobe</th>            <td>   16.8909</td> <td>    5.729</td> <td>    2.948</td> <td> 0.003</td> <td>    5.661</td> <td>   28.120</td>\n",
       "</tr>\n",
       "<tr>\n",
       "  <th>d_wall_stonecement</th>      <td>   58.8964</td> <td>   21.305</td> <td>    2.764</td> <td> 0.006</td> <td>   17.137</td> <td>  100.656</td>\n",
       "</tr>\n",
       "<tr>\n",
       "  <th>d_wall_brickcement</th>      <td>   34.7060</td> <td>    6.636</td> <td>    5.230</td> <td> 0.000</td> <td>   21.698</td> <td>   47.714</td>\n",
       "</tr>\n",
       "<tr>\n",
       "  <th>d_roof_other</th>            <td>   45.1965</td> <td>   15.364</td> <td>    2.942</td> <td> 0.003</td> <td>   15.081</td> <td>   75.312</td>\n",
       "</tr>\n",
       "<tr>\n",
       "  <th>d_roof_straw</th>            <td>   19.1294</td> <td>    8.678</td> <td>    2.204</td> <td> 0.028</td> <td>    2.119</td> <td>   36.140</td>\n",
       "</tr>\n",
       "<tr>\n",
       "  <th>d_roof_mat</th>              <td>   74.8478</td> <td>   15.498</td> <td>    4.830</td> <td> 0.000</td> <td>   44.471</td> <td>  105.225</td>\n",
       "</tr>\n",
       "<tr>\n",
       "  <th>d_roof_platecane</th>        <td>   40.0670</td> <td>    5.385</td> <td>    7.440</td> <td> 0.000</td> <td>   29.512</td> <td>   50.622</td>\n",
       "</tr>\n",
       "<tr>\n",
       "  <th>d_roof_tile</th>             <td>   32.6912</td> <td>    7.451</td> <td>    4.387</td> <td> 0.000</td> <td>   18.087</td> <td>   47.296</td>\n",
       "</tr>\n",
       "<tr>\n",
       "  <th>d_roof_wood</th>             <td>   21.2010</td> <td>   14.769</td> <td>    1.435</td> <td> 0.151</td> <td>   -7.748</td> <td>   50.150</td>\n",
       "</tr>\n",
       "<tr>\n",
       "  <th>d_roof_concrete</th>         <td>   38.4046</td> <td>    7.157</td> <td>    5.366</td> <td> 0.000</td> <td>   24.377</td> <td>   52.433</td>\n",
       "</tr>\n",
       "<tr>\n",
       "  <th>d_floor_other</th>           <td>  -56.1870</td> <td>   15.984</td> <td>   -3.515</td> <td> 0.000</td> <td>  -87.517</td> <td>  -24.857</td>\n",
       "</tr>\n",
       "<tr>\n",
       "  <th>d_floor_earth</th>           <td>  -75.8659</td> <td>    6.172</td> <td>  -12.292</td> <td> 0.000</td> <td>  -87.963</td> <td>  -63.769</td>\n",
       "</tr>\n",
       "<tr>\n",
       "  <th>d_floor_cement</th>          <td>  -41.3301</td> <td>    5.266</td> <td>   -7.848</td> <td> 0.000</td> <td>  -51.652</td> <td>  -31.008</td>\n",
       "</tr>\n",
       "<tr>\n",
       "  <th>d_floor_wood</th>            <td>  -45.2519</td> <td>    7.849</td> <td>   -5.766</td> <td> 0.000</td> <td>  -60.636</td> <td>  -29.868</td>\n",
       "</tr>\n",
       "<tr>\n",
       "  <th>d_floor_tile</th>            <td>   80.2520</td> <td>    8.714</td> <td>    9.209</td> <td> 0.000</td> <td>   63.171</td> <td>   97.333</td>\n",
       "</tr>\n",
       "<tr>\n",
       "  <th>d_floor_sheets</th>          <td>  115.9476</td> <td>   10.984</td> <td>   10.556</td> <td> 0.000</td> <td>   94.419</td> <td>  137.477</td>\n",
       "</tr>\n",
       "<tr>\n",
       "  <th>d_floor_parquet</th>         <td>  293.9728</td> <td>   12.812</td> <td>   22.945</td> <td> 0.000</td> <td>  268.860</td> <td>  319.086</td>\n",
       "</tr>\n",
       "<tr>\n",
       "  <th>d_electricity</th>           <td>    0.9152</td> <td>    6.460</td> <td>    0.142</td> <td> 0.887</td> <td>  -11.746</td> <td>   13.577</td>\n",
       "</tr>\n",
       "<tr>\n",
       "  <th>d_telephone</th>             <td>   29.8533</td> <td>    5.962</td> <td>    5.007</td> <td> 0.000</td> <td>   18.168</td> <td>   41.539</td>\n",
       "</tr>\n",
       "<tr>\n",
       "  <th>d_h_educ_none</th>           <td>  -79.1537</td> <td>   17.998</td> <td>   -4.398</td> <td> 0.000</td> <td> -114.431</td> <td>  -43.877</td>\n",
       "</tr>\n",
       "<tr>\n",
       "  <th>d_h_educ_pre</th>            <td>  -70.3610</td> <td>   97.894</td> <td>   -0.719</td> <td> 0.472</td> <td> -262.240</td> <td>  121.518</td>\n",
       "</tr>\n",
       "<tr>\n",
       "  <th>d_h_educ_prim</th>           <td>  -67.6066</td> <td>   16.643</td> <td>   -4.062</td> <td> 0.000</td> <td> -100.228</td> <td>  -34.985</td>\n",
       "</tr>\n",
       "<tr>\n",
       "  <th>d_h_educ_sec</th>            <td>  -31.7152</td> <td>   16.590</td> <td>   -1.912</td> <td> 0.056</td> <td>  -64.233</td> <td>    0.803</td>\n",
       "</tr>\n",
       "<tr>\n",
       "  <th>d_h_educ_higher_nouni</th>   <td>   38.3695</td> <td>   17.296</td> <td>    2.218</td> <td> 0.027</td> <td>    4.467</td> <td>   72.271</td>\n",
       "</tr>\n",
       "<tr>\n",
       "  <th>d_h_educ_higher_uni</th>     <td>  144.0872</td> <td>   17.522</td> <td>    8.223</td> <td> 0.000</td> <td>  109.743</td> <td>  178.431</td>\n",
       "</tr>\n",
       "<tr>\n",
       "  <th>d_h_educ_post</th>           <td>  337.9174</td> <td>   25.435</td> <td>   13.286</td> <td> 0.000</td> <td>  288.063</td> <td>  387.772</td>\n",
       "</tr>\n",
       "<tr>\n",
       "  <th>d_max_educ_none</th>         <td> -166.3906</td> <td>   23.973</td> <td>   -6.941</td> <td> 0.000</td> <td> -213.379</td> <td> -119.402</td>\n",
       "</tr>\n",
       "<tr>\n",
       "  <th>d_max_educ_prim</th>         <td>  -74.9919</td> <td>   20.457</td> <td>   -3.666</td> <td> 0.000</td> <td> -115.088</td> <td>  -34.895</td>\n",
       "</tr>\n",
       "<tr>\n",
       "  <th>d_max_educ_sec</th>          <td>  -48.4120</td> <td>   19.875</td> <td>   -2.436</td> <td> 0.015</td> <td>  -87.368</td> <td>   -9.456</td>\n",
       "</tr>\n",
       "<tr>\n",
       "  <th>d_max_educ_higher_nouni</th> <td>  -52.3589</td> <td>   19.943</td> <td>   -2.625</td> <td> 0.009</td> <td>  -91.450</td> <td>  -13.268</td>\n",
       "</tr>\n",
       "<tr>\n",
       "  <th>d_max_educ_higher_uni</th>   <td>  -40.5518</td> <td>   19.447</td> <td>   -2.085</td> <td> 0.037</td> <td>  -78.670</td> <td>   -2.434</td>\n",
       "</tr>\n",
       "<tr>\n",
       "  <th>d_insurance_0</th>           <td>   80.1279</td> <td>    5.007</td> <td>   16.003</td> <td> 0.000</td> <td>   70.314</td> <td>   89.942</td>\n",
       "</tr>\n",
       "<tr>\n",
       "  <th>d_insurance_1</th>           <td>  136.9553</td> <td>    5.077</td> <td>   26.978</td> <td> 0.000</td> <td>  127.005</td> <td>  146.906</td>\n",
       "</tr>\n",
       "<tr>\n",
       "  <th>d_insurance_2</th>           <td>   53.4480</td> <td>    5.013</td> <td>   10.661</td> <td> 0.000</td> <td>   43.622</td> <td>   63.274</td>\n",
       "</tr>\n",
       "<tr>\n",
       "  <th>d_insurance_3</th>           <td>   17.7502</td> <td>    5.098</td> <td>    3.482</td> <td> 0.000</td> <td>    7.758</td> <td>   27.743</td>\n",
       "</tr>\n",
       "<tr>\n",
       "  <th>d_insurance_4plus</th>       <td>  -16.7438</td> <td>    4.522</td> <td>   -3.703</td> <td> 0.000</td> <td>  -25.607</td> <td>   -7.881</td>\n",
       "</tr>\n",
       "<tr>\n",
       "  <th>d_crowd_lessthan1</th>       <td>  197.5411</td> <td>    5.640</td> <td>   35.027</td> <td> 0.000</td> <td>  186.487</td> <td>  208.595</td>\n",
       "</tr>\n",
       "<tr>\n",
       "  <th>d_crowd_1to2</th>            <td>   43.6687</td> <td>    4.930</td> <td>    8.858</td> <td> 0.000</td> <td>   34.005</td> <td>   53.332</td>\n",
       "</tr>\n",
       "<tr>\n",
       "  <th>d_crowd_2to4</th>            <td>   21.1285</td> <td>    5.399</td> <td>    3.913</td> <td> 0.000</td> <td>   10.546</td> <td>   31.711</td>\n",
       "</tr>\n",
       "<tr>\n",
       "  <th>d_crowd_4to6</th>            <td>    4.9893</td> <td>    8.045</td> <td>    0.620</td> <td> 0.535</td> <td>  -10.779</td> <td>   20.758</td>\n",
       "</tr>\n",
       "<tr>\n",
       "  <th>d_crowd_6plus</th>           <td>    4.2099</td> <td>   11.682</td> <td>    0.360</td> <td> 0.719</td> <td>  -18.687</td> <td>   27.107</td>\n",
       "</tr>\n",
       "<tr>\n",
       "  <th>d_lux_0</th>                 <td>   99.6931</td> <td>    7.469</td> <td>   13.347</td> <td> 0.000</td> <td>   85.053</td> <td>  114.333</td>\n",
       "</tr>\n",
       "<tr>\n",
       "  <th>d_lux_1</th>                 <td>   73.0835</td> <td>    6.302</td> <td>   11.597</td> <td> 0.000</td> <td>   60.731</td> <td>   85.436</td>\n",
       "</tr>\n",
       "<tr>\n",
       "  <th>d_lux_2</th>                 <td>   33.2204</td> <td>    6.732</td> <td>    4.935</td> <td> 0.000</td> <td>   20.025</td> <td>   46.416</td>\n",
       "</tr>\n",
       "<tr>\n",
       "  <th>d_lux_3</th>                 <td>   18.4531</td> <td>    7.127</td> <td>    2.589</td> <td> 0.010</td> <td>    4.484</td> <td>   32.422</td>\n",
       "</tr>\n",
       "<tr>\n",
       "  <th>d_lux_4</th>                 <td>   -6.9397</td> <td>    7.467</td> <td>   -0.929</td> <td> 0.353</td> <td>  -21.575</td> <td>    7.695</td>\n",
       "</tr>\n",
       "<tr>\n",
       "  <th>d_lux_5</th>                 <td>   54.0272</td> <td>    7.303</td> <td>    7.398</td> <td> 0.000</td> <td>   39.712</td> <td>   68.342</td>\n",
       "</tr>\n",
       "<tr>\n",
       "  <th>d_month_1</th>               <td>    2.9293</td> <td>    9.134</td> <td>    0.321</td> <td> 0.748</td> <td>  -14.974</td> <td>   20.833</td>\n",
       "</tr>\n",
       "<tr>\n",
       "  <th>d_month_2</th>               <td>    0.0900</td> <td>    9.080</td> <td>    0.010</td> <td> 0.992</td> <td>  -17.708</td> <td>   17.888</td>\n",
       "</tr>\n",
       "<tr>\n",
       "  <th>d_month_3</th>               <td>   -5.6786</td> <td>    9.095</td> <td>   -0.624</td> <td> 0.532</td> <td>  -23.505</td> <td>   12.147</td>\n",
       "</tr>\n",
       "<tr>\n",
       "  <th>d_month_4</th>               <td>   -6.1738</td> <td>    9.149</td> <td>   -0.675</td> <td> 0.500</td> <td>  -24.106</td> <td>   11.758</td>\n",
       "</tr>\n",
       "<tr>\n",
       "  <th>d_month_5</th>               <td>    3.3678</td> <td>    9.102</td> <td>    0.370</td> <td> 0.711</td> <td>  -14.472</td> <td>   21.208</td>\n",
       "</tr>\n",
       "<tr>\n",
       "  <th>d_month_6</th>               <td>    8.4630</td> <td>    9.117</td> <td>    0.928</td> <td> 0.353</td> <td>   -9.407</td> <td>   26.333</td>\n",
       "</tr>\n",
       "<tr>\n",
       "  <th>d_month_7</th>               <td>   -1.3210</td> <td>    9.137</td> <td>   -0.145</td> <td> 0.885</td> <td>  -19.231</td> <td>   16.589</td>\n",
       "</tr>\n",
       "<tr>\n",
       "  <th>d_month_8</th>               <td>   13.2106</td> <td>    9.145</td> <td>    1.445</td> <td> 0.149</td> <td>   -4.715</td> <td>   31.136</td>\n",
       "</tr>\n",
       "<tr>\n",
       "  <th>d_month_9</th>               <td>    9.2274</td> <td>    9.108</td> <td>    1.013</td> <td> 0.311</td> <td>   -8.624</td> <td>   27.079</td>\n",
       "</tr>\n",
       "<tr>\n",
       "  <th>d_month_10</th>              <td>    5.5341</td> <td>    9.163</td> <td>    0.604</td> <td> 0.546</td> <td>  -12.426</td> <td>   23.495</td>\n",
       "</tr>\n",
       "<tr>\n",
       "  <th>d_month_11</th>              <td>   -6.3138</td> <td>    9.162</td> <td>   -0.689</td> <td> 0.491</td> <td>  -24.272</td> <td>   11.645</td>\n",
       "</tr>\n",
       "<tr>\n",
       "  <th>d_year_2010</th>             <td>  -33.3164</td> <td>    3.756</td> <td>   -8.871</td> <td> 0.000</td> <td>  -40.678</td> <td>  -25.955</td>\n",
       "</tr>\n",
       "<tr>\n",
       "  <th>d_dominio_1</th>             <td>  -66.1410</td> <td>    8.407</td> <td>   -7.867</td> <td> 0.000</td> <td>  -82.620</td> <td>  -49.662</td>\n",
       "</tr>\n",
       "<tr>\n",
       "  <th>d_dominio_2</th>             <td>  -79.3683</td> <td>    9.258</td> <td>   -8.573</td> <td> 0.000</td> <td>  -97.515</td> <td>  -61.221</td>\n",
       "</tr>\n",
       "<tr>\n",
       "  <th>d_dominio_3</th>             <td>  -47.7277</td> <td>   10.003</td> <td>   -4.771</td> <td> 0.000</td> <td>  -67.334</td> <td>  -28.121</td>\n",
       "</tr>\n",
       "<tr>\n",
       "  <th>d_dominio_4</th>             <td>  -64.6322</td> <td>   11.051</td> <td>   -5.849</td> <td> 0.000</td> <td>  -86.293</td> <td>  -42.971</td>\n",
       "</tr>\n",
       "<tr>\n",
       "  <th>d_dominio_5</th>             <td>  -83.1268</td> <td>    9.065</td> <td>   -9.170</td> <td> 0.000</td> <td> -100.895</td> <td>  -65.359</td>\n",
       "</tr>\n",
       "<tr>\n",
       "  <th>d_dominio_6</th>             <td>  -73.8921</td> <td>    9.033</td> <td>   -8.180</td> <td> 0.000</td> <td>  -91.598</td> <td>  -56.186</td>\n",
       "</tr>\n",
       "<tr>\n",
       "  <th>d_dominio_7</th>             <td>  -17.3796</td> <td>    8.607</td> <td>   -2.019</td> <td> 0.043</td> <td>  -34.249</td> <td>   -0.510</td>\n",
       "</tr>\n",
       "<tr>\n",
       "  <th>internet</th>                <td>   74.7894</td> <td>    9.521</td> <td>    7.855</td> <td> 0.000</td> <td>   56.128</td> <td>   93.451</td>\n",
       "</tr>\n",
       "<tr>\n",
       "  <th>cable</th>                   <td>  101.1232</td> <td>    5.802</td> <td>   17.428</td> <td> 0.000</td> <td>   89.751</td> <td>  112.496</td>\n",
       "</tr>\n",
       "<tr>\n",
       "  <th>computer</th>                <td>   60.8615</td> <td>    7.206</td> <td>    8.446</td> <td> 0.000</td> <td>   46.738</td> <td>   74.985</td>\n",
       "</tr>\n",
       "<tr>\n",
       "  <th>refrigerator</th>            <td>   82.9155</td> <td>    6.856</td> <td>   12.094</td> <td> 0.000</td> <td>   69.478</td> <td>   96.353</td>\n",
       "</tr>\n",
       "<tr>\n",
       "  <th>washer</th>                  <td>  117.5713</td> <td>    7.163</td> <td>   16.415</td> <td> 0.000</td> <td>  103.532</td> <td>  131.610</td>\n",
       "</tr>\n",
       "</table>"
      ],
      "text/plain": [
       "<class 'statsmodels.iolib.table.SimpleTable'>"
      ]
     },
     "execution_count": 127,
     "metadata": {},
     "output_type": "execute_result"
    }
   ],
   "source": [
    "# Linear regression by using Stata Model\n",
    "x = sm.add_constant(x_train)\n",
    "model2=sm.OLS(y_train,x)\n",
    "results=model2.fit()\n",
    "results.summary().tables[1]"
   ]
  },
  {
   "cell_type": "markdown",
   "metadata": {},
   "source": [
    "## Calculate MSE-OLS"
   ]
  },
  {
   "cell_type": "code",
   "execution_count": 128,
   "metadata": {
    "scrolled": true
   },
   "outputs": [
    {
     "data": {
      "text/plain": [
       "0.1919835924821717"
      ]
     },
     "execution_count": 128,
     "metadata": {},
     "output_type": "execute_result"
    }
   ],
   "source": [
    "#calculate MSE for the training dataset (from the estimation of original paper)\n",
    "from sklearn import metrics\n",
    "\n",
    "metrics.mean_squared_error(train.lncaphat_OLS,train.lnpercapitaconsumption)"
   ]
  },
  {
   "cell_type": "code",
   "execution_count": 129,
   "metadata": {},
   "outputs": [
    {
     "data": {
      "text/plain": [
       "77167.47406692483"
      ]
     },
     "execution_count": 129,
     "metadata": {},
     "output_type": "execute_result"
    }
   ],
   "source": [
    "#calculate MSE for the training dataset (Original Paper)\n",
    "metrics.mean_squared_error(train.percapitahat_OLS,train.percapitaconsumption)"
   ]
  },
  {
   "cell_type": "code",
   "execution_count": 130,
   "metadata": {},
   "outputs": [
    {
     "name": "stdout",
     "output_type": "stream",
     "text": [
      "(22704, 2)\n"
     ]
    },
    {
     "data": {
      "text/plain": [
       "89689.4794288619"
      ]
     },
     "execution_count": 130,
     "metadata": {},
     "output_type": "execute_result"
    }
   ],
   "source": [
    "#calculate MSE for the testing dataset (Original Paper)\n",
    "original_pred_y = pd.DataFrame(test.percapitahat_OLS)\n",
    "NaN = original_pred_y.join(y_test)\n",
    "NaN=NaN.dropna(axis=0, how='any', inplace=False)\n",
    "NaN.head()\n",
    "print(NaN.shape)\n",
    "metrics.mean_squared_error(NaN.percapitahat_OLS,NaN.percapitaconsumption)"
   ]
  },
  {
   "cell_type": "code",
   "execution_count": 131,
   "metadata": {},
   "outputs": [
    {
     "data": {
      "text/plain": [
       "76083.72463153559"
      ]
     },
     "execution_count": 131,
     "metadata": {},
     "output_type": "execute_result"
    }
   ],
   "source": [
    "#calculate MSE for the training dataset (my calculation)\n",
    "metrics.mean_squared_error(ols_estimate_y,y_train)"
   ]
  },
  {
   "cell_type": "code",
   "execution_count": 132,
   "metadata": {},
   "outputs": [
    {
     "data": {
      "text/plain": [
       "4.202083297005615e+27"
      ]
     },
     "execution_count": 132,
     "metadata": {},
     "output_type": "execute_result"
    }
   ],
   "source": [
    "#calclulate MSE for the testing dataset (my calculation)\n",
    "metrics.mean_squared_error(ols_pred_y, y_test)"
   ]
  },
  {
   "cell_type": "markdown",
   "metadata": {},
   "source": [
    "## Model - Ridge"
   ]
  },
  {
   "cell_type": "code",
   "execution_count": 108,
   "metadata": {},
   "outputs": [],
   "source": [
    "ridge = RidgeCV(alphas=[0.1,0.3,0.5,0.7,0.9,1])\n",
    "ridge.fit(x_train,y_train)\n",
    "ridge_estimate_y = ridge.predict(x_train)"
   ]
  },
  {
   "cell_type": "code",
   "execution_count": 113,
   "metadata": {},
   "outputs": [
    {
     "data": {
      "text/plain": [
       "1.0"
      ]
     },
     "execution_count": 113,
     "metadata": {},
     "output_type": "execute_result"
    }
   ],
   "source": [
    "ridge.alpha_"
   ]
  },
  {
   "cell_type": "code",
   "execution_count": 114,
   "metadata": {},
   "outputs": [
    {
     "data": {
      "text/plain": [
       "76081.6881101366"
      ]
     },
     "execution_count": 114,
     "metadata": {},
     "output_type": "execute_result"
    }
   ],
   "source": [
    "metrics.mean_squared_error(ridge_estimate_y,y_train)"
   ]
  },
  {
   "cell_type": "code",
   "execution_count": 115,
   "metadata": {},
   "outputs": [],
   "source": [
    "ridge_pred_y = ridge.predict(x_test)"
   ]
  },
  {
   "cell_type": "code",
   "execution_count": 116,
   "metadata": {},
   "outputs": [
    {
     "data": {
      "text/plain": [
       "88413.4045993285"
      ]
     },
     "execution_count": 116,
     "metadata": {},
     "output_type": "execute_result"
    }
   ],
   "source": [
    "metrics.mean_squared_error(ridge_pred_y,y_test)"
   ]
  },
  {
   "cell_type": "markdown",
   "metadata": {},
   "source": [
    "## Model - Lasso"
   ]
  },
  {
   "cell_type": "code",
   "execution_count": 45,
   "metadata": {},
   "outputs": [
    {
     "data": {
      "text/plain": [
       "LassoCV(alphas=[0.1, 0.13, 0.15, 0.185, 0.19, 0.193, 0.2, 0.21, 0.3, 0.5, 0.7,\n",
       "                0.9, 1],\n",
       "        cv=10)"
      ]
     },
     "execution_count": 45,
     "metadata": {},
     "output_type": "execute_result"
    }
   ],
   "source": [
    "lassocv = LassoCV(alphas = [0.1,0.13,0.15,0.185,0.19,0.193,0.2,0.21,0.3,0.5,0.7,0.9,1],cv=10)\n",
    "lassocv.fit(x_train, y_train)"
   ]
  },
  {
   "cell_type": "code",
   "execution_count": 46,
   "metadata": {},
   "outputs": [
    {
     "data": {
      "text/plain": [
       "0.1"
      ]
     },
     "execution_count": 46,
     "metadata": {},
     "output_type": "execute_result"
    }
   ],
   "source": [
    "lassocv.alpha_"
   ]
  },
  {
   "cell_type": "code",
   "execution_count": 47,
   "metadata": {},
   "outputs": [],
   "source": [
    "lasso_estimate_y = lassocv.predict(x_train)"
   ]
  },
  {
   "cell_type": "code",
   "execution_count": 48,
   "metadata": {},
   "outputs": [
    {
     "data": {
      "text/plain": [
       "76176.04660288522"
      ]
     },
     "execution_count": 48,
     "metadata": {},
     "output_type": "execute_result"
    }
   ],
   "source": [
    "metrics.mean_squared_error(lasso_estimate_y,y_train)"
   ]
  },
  {
   "cell_type": "code",
   "execution_count": 49,
   "metadata": {},
   "outputs": [],
   "source": [
    "lasso_pred_y = lassocv.predict(x_test)"
   ]
  },
  {
   "cell_type": "code",
   "execution_count": 50,
   "metadata": {},
   "outputs": [
    {
     "data": {
      "text/plain": [
       "88139.84009690874"
      ]
     },
     "execution_count": 50,
     "metadata": {},
     "output_type": "execute_result"
    }
   ],
   "source": [
    "metrics.mean_squared_error(lasso_pred_y,y_test)"
   ]
  },
  {
   "cell_type": "code",
   "execution_count": 104,
   "metadata": {},
   "outputs": [
    {
     "data": {
      "text/plain": [
       "LassoCV(alphas=[0.0001, 0.0005, 0.001, 0.002, 0.005, 0.01, 0.1, 0.2, 0.21, 0.3,\n",
       "                0.5, 0.7, 0.9, 1],\n",
       "        copy_X=True, cv=10, eps=0.001, fit_intercept=True, max_iter=1000,\n",
       "        n_alphas=100, n_jobs=None, normalize=False, positive=False,\n",
       "        precompute='auto', random_state=None, selection='cyclic', tol=0.0001,\n",
       "        verbose=False)"
      ]
     },
     "execution_count": 104,
     "metadata": {},
     "output_type": "execute_result"
    }
   ],
   "source": [
    "ln_lassocv = LassoCV(alphas = [0.0001,0.0005,0.001,0.005,0.01,0.1,0.3,0.5,1],cv=10)\n",
    "ln_lassocv.fit(x_train, lny_train)"
   ]
  },
  {
   "cell_type": "code",
   "execution_count": 105,
   "metadata": {},
   "outputs": [
    {
     "data": {
      "text/plain": [
       "0.0001"
      ]
     },
     "execution_count": 105,
     "metadata": {},
     "output_type": "execute_result"
    }
   ],
   "source": [
    "ln_lassocv.alpha_"
   ]
  },
  {
   "cell_type": "code",
   "execution_count": 106,
   "metadata": {},
   "outputs": [],
   "source": [
    "lasso_pred_lny = ln_lassocv.predict(x_test)"
   ]
  },
  {
   "cell_type": "code",
   "execution_count": 107,
   "metadata": {},
   "outputs": [
    {
     "data": {
      "text/plain": [
       "0.1866626557954445"
      ]
     },
     "execution_count": 107,
     "metadata": {},
     "output_type": "execute_result"
    }
   ],
   "source": [
    "metrics.mean_squared_error(lasso_pred_lny,lny_test)"
   ]
  },
  {
   "cell_type": "markdown",
   "metadata": {},
   "source": [
    "## 导出预测文件"
   ]
  },
  {
   "cell_type": "code",
   "execution_count": null,
   "metadata": {},
   "outputs": [],
   "source": [
    "# combine the original test dataset and the precise predicted y\n",
    "pred_y = pd.DataFrame(lasso_pred_y)\n",
    "total_out = pred_y.join(test)\n",
    "total_out.to_csv(r'Datasets\\total_out.csv',index=True ,header=True)"
   ]
  },
  {
   "cell_type": "markdown",
   "metadata": {},
   "source": [
    "## 3.2 Model-KNN Regression\n",
    "Not sure if it is a suitable algorithm for our dataset since all the features are dummies, and it is hard to define/calculate the \"distance\".\n",
    "But we will see..."
   ]
  },
  {
   "cell_type": "code",
   "execution_count": 84,
   "metadata": {},
   "outputs": [],
   "source": [
    "knn = KNeighborsRegressor(n_neighbors=33)"
   ]
  },
  {
   "cell_type": "code",
   "execution_count": 85,
   "metadata": {},
   "outputs": [],
   "source": [
    "random.seed(30)"
   ]
  },
  {
   "cell_type": "code",
   "execution_count": 86,
   "metadata": {},
   "outputs": [
    {
     "data": {
      "text/plain": [
       "('d_fuel_other',\n",
       " 'd_fuel_wood',\n",
       " 'd_fuel_coal',\n",
       " 'd_fuel_gas',\n",
       " 'd_fuel_electric',\n",
       " 'd_fuel_none',\n",
       " 'd_water_river',\n",
       " 'd_water_truck',\n",
       " 'd_water_outside',\n",
       " 'd_drain_none',\n",
       " 'd_drain_river',\n",
       " 'd_drain_inside',\n",
       " 'd_wall_other',\n",
       " 'd_wall_tapia',\n",
       " 'd_wall_adobe',\n",
       " 'd_roof_straw',\n",
       " 'd_roof_mat',\n",
       " 'd_roof_tile',\n",
       " 'd_floor_earth',\n",
       " 'd_floor_tile',\n",
       " 'd_floor_sheets',\n",
       " 'd_floor_parquet',\n",
       " 'd_telephone',\n",
       " 'd_h_educ_none',\n",
       " 'd_h_educ_sec',\n",
       " 'd_h_educ_higher_nouni',\n",
       " 'd_h_educ_higher_uni',\n",
       " 'd_h_educ_post',\n",
       " 'd_max_educ_none',\n",
       " 'd_max_educ_prim',\n",
       " 'd_max_educ_higher_nouni',\n",
       " 'd_insurance_1',\n",
       " 'd_insurance_2',\n",
       " 'd_insurance_3',\n",
       " 'd_insurance_4plus',\n",
       " 'd_crowd_lessthan1',\n",
       " 'd_crowd_1to2',\n",
       " 'd_crowd_2to4',\n",
       " 'd_lux_0',\n",
       " 'd_lux_1',\n",
       " 'd_lux_2',\n",
       " 'd_lux_3',\n",
       " 'd_lux_4',\n",
       " 'd_lux_5',\n",
       " 'd_month_8',\n",
       " 'd_month_10',\n",
       " 'd_month_11',\n",
       " 'd_year_2010',\n",
       " 'd_dominio_1',\n",
       " 'd_dominio_2',\n",
       " 'd_dominio_3',\n",
       " 'd_dominio_4',\n",
       " 'd_dominio_5',\n",
       " 'd_dominio_6',\n",
       " 'd_dominio_7',\n",
       " 'cable',\n",
       " 'washer')"
      ]
     },
     "execution_count": 86,
     "metadata": {},
     "output_type": "execute_result"
    }
   ],
   "source": [
    "sfs = SFS(LinearRegression(),\n",
    "         k_features= (30, 96),\n",
    "         forward=True,\n",
    "         floating=False,\n",
    "         scoring='neg_mean_squared_error',\n",
    "         cv=10)\n",
    "sfs.fit(x_train, y_train)\n",
    "sfs.k_feature_names_"
   ]
  },
  {
   "cell_type": "code",
   "execution_count": 87,
   "metadata": {},
   "outputs": [
    {
     "data": {
      "image/png": "[encoded data removed]",
      "text/plain": [
       "<Figure size 720x432 with 1 Axes>"
      ]
     },
     "metadata": {},
     "output_type": "display_data"
    }
   ],
   "source": [
    "fig1 = plot_sfs(sfs.get_metric_dict(), kind='std_dev')\n",
    "plt.title('Sequential Forward Selection (w. StdErr)')\n",
    "ticks = np.arange(1, 96, 5)\n",
    "plt.xticks(ticks)\n",
    "plt.show()"
   ]
  },
  {
   "cell_type": "code",
   "execution_count": 88,
   "metadata": {},
   "outputs": [],
   "source": [
    "x_train_sfs = sfs.transform(x_train)\n",
    "x_test_sfs = sfs.transform(x_test)"
   ]
  },
  {
   "cell_type": "code",
   "execution_count": 93,
   "metadata": {},
   "outputs": [],
   "source": [
    "x_train = pd.DataFrame(x_train_sfs)\n",
    "x_test = pd.DataFrame(x_test_sfs)"
   ]
  },
  {
   "cell_type": "code",
   "execution_count": null,
   "metadata": {},
   "outputs": [],
   "source": [
    "# 调参时再用这块代码 跑很久\n",
    "# create a knn regression model\n",
    "knr = KNeighborsRegressor(weights = 'distance')\n",
    "# create a dictionary of all values we want to test for n_neighbors\n",
    "param_grid = {'n_neighbors':np.arange(31, 33)}\n",
    "# use gridsearch to test all values for n_neighbors\n",
    "knr_gscv = GridSearchCV(knr, param_grid,scoring='neg_mean_squared_error', cv=5)\n",
    "# fit model to data\n",
    "knr_gscv.fit(x_train, y_train)\n",
    "#check top performing n_neighbors value: 33\n",
    "knr_gscv.best_params_\n",
    "# Prediction for x_train\n",
    "knr_estimate_y= knr_gscv.predict(x_train)\n",
    "# Calculate MSE from the prediction for x_train and original paper\n",
    "metrics.mean_squared_error(knr_estimate_y, train.percapitaconsumption)"
   ]
  },
  {
   "cell_type": "code",
   "execution_count": 94,
   "metadata": {},
   "outputs": [
    {
     "data": {
      "text/plain": [
       "(22191, 57)"
      ]
     },
     "execution_count": 94,
     "metadata": {},
     "output_type": "execute_result"
    }
   ],
   "source": [
    "x_train.shape"
   ]
  },
  {
   "cell_type": "markdown",
   "metadata": {},
   "source": [
    "hamming distance\n",
    "n_neighbors = 33, weights = 'distance', metric = 'hamming', train mse = 4835.575530355144; test mse = 92865.84069921833\n",
    "n_neighbors = 43, weights = 'distance', metric = 'hamming', train mse = 4835.575530355144; test mse = 92782.34994191969\n",
    "n_neighbors = 83, weights = 'distance', metric = 'hamming', train mse = 4835.575530355144; test mse = 93658.14366348418\n",
    "n_neighbors = 53, weights = 'distance', metric = 'hamming', train mse = 4835.575530355144; test mse = 92887.6791899418\n",
    "n_neighbors = 73, weights = 'distance', metric = 'hamming', train mse = 4835.575530355144; test mse = 93363.95014209233\n",
    "n_neighbors = 13, weights = 'distance', metric = 'hamming', train mse = 4835.575530355144; test mse = 94638.38714857536\n",
    "n_neighbors = 25, weights = 'distance', metric = 'hamming', train mse = 4835.575530355144; test mse = 92932.93751991974\n",
    "n_neighbors = 37, weights = 'distance', metric = 'hamming', train mse = 4835.575530355144; test mse =92757.73492501541"
   ]
  },
  {
   "cell_type": "code",
   "execution_count": 117,
   "metadata": {},
   "outputs": [],
   "source": [
    "knr = KNeighborsRegressor(n_neighbors = 37, weights = 'distance', metric = 'hamming')\n",
    "knr.fit(x_train, y_train)\n",
    "train_knr_pred = knr.predict(x_train)"
   ]
  },
  {
   "cell_type": "code",
   "execution_count": 118,
   "metadata": {},
   "outputs": [
    {
     "data": {
      "text/plain": [
       "4835.575530355144"
      ]
     },
     "execution_count": 118,
     "metadata": {},
     "output_type": "execute_result"
    }
   ],
   "source": [
    "metrics.mean_squared_error(train_knr_pred, y_train)"
   ]
  },
  {
   "cell_type": "code",
   "execution_count": 119,
   "metadata": {},
   "outputs": [],
   "source": [
    "knr_pred_y = knr.predict(x_test)"
   ]
  },
  {
   "cell_type": "code",
   "execution_count": 120,
   "metadata": {},
   "outputs": [
    {
     "data": {
      "text/plain": [
       "92757.73492501541"
      ]
     },
     "execution_count": 120,
     "metadata": {},
     "output_type": "execute_result"
    }
   ],
   "source": [
    "metrics.mean_squared_error(knr_pred_y, y_test)"
   ]
  },
  {
   "cell_type": "markdown",
   "metadata": {},
   "source": [
    "## 3.3 SVM Regression (SVR)"
   ]
  },
  {
   "cell_type": "markdown",
   "metadata": {},
   "source": [
    "params_dict={'C':[0.001,0.01,0.1,1,10,100],'gamma':[0.001,0.01,0.1,1,10,100],'kernel':['linear','poly','rbf','sigmoid']}\n",
    "svr_gscv=GridSearchCV(estimator=SVR(),param_grid=params_dict,scoring='neg_mean_squared_error',cv=10)\n",
    "svr_gscv.fit(x_train,y1_train)"
   ]
  },
  {
   "cell_type": "code",
   "execution_count": null,
   "metadata": {},
   "outputs": [],
   "source": [
    "params_dict={'C':[0.001,0.1,1,100],'gamma':[0.001,0.1,1,100],'kernel':['rbf']}\n",
    "svr_gscv=GridSearchCV(estimator=SVR(),param_grid=params_dict,scoring='neg_mean_squared_error',cv=5)\n",
    "svr_gscv.fit(x_train,y_train)\n",
    "svr_gscv.best_params_"
   ]
  },
  {
   "cell_type": "code",
   "execution_count": null,
   "metadata": {},
   "outputs": [],
   "source": [
    "params_dict={'C':[100],'gamma':[0.1],'kernel':['rbf']}\n",
    "svr_gscv=GridSearchCV(estimator=SVR(),param_grid=params_dict,scoring='neg_mean_squared_error',cv=5)\n",
    "svr_gscv.fit(x_train,y_train)\n",
    "svr_gscv.best_params_"
   ]
  },
  {
   "cell_type": "code",
   "execution_count": null,
   "metadata": {},
   "outputs": [],
   "source": [
    "svr_estimate_y = svr_gscv.predict(x_train)"
   ]
  },
  {
   "cell_type": "code",
   "execution_count": null,
   "metadata": {},
   "outputs": [],
   "source": [
    "metrics.mean_squared_error(svr_estimate_y,y_train)"
   ]
  },
  {
   "cell_type": "code",
   "execution_count": null,
   "metadata": {},
   "outputs": [],
   "source": [
    "# predict for x_test\n",
    "svr_pred_y = svr_gscv.predict(x_test)"
   ]
  },
  {
   "cell_type": "code",
   "execution_count": null,
   "metadata": {},
   "outputs": [],
   "source": [
    "# calculate MSE from the prediction for x_test and y_test\n",
    "metrics.mean_squared_error(svr_pred_y, y_test)"
   ]
  },
  {
   "cell_type": "code",
   "execution_count": null,
   "metadata": {},
   "outputs": [],
   "source": [
    "# tune the svr model\n",
    "params_dict={'C':[300,400, 500],'gamma':[0.11, 0.12, 0.13],'kernel':['rbf']}\n",
    "svr_gscv=GridSearchCV(estimator=SVR(),param_grid=params_dict,scoring='neg_mean_squared_error',cv=5)\n",
    "svr_gscv.fit(x_train,y_train)\n",
    "svr_gscv.best_params_\n"
   ]
  },
  {
   "cell_type": "code",
   "execution_count": null,
   "metadata": {},
   "outputs": [],
   "source": [
    "params_dict={'C':[400],'gamma':[0.11],'kernel':['rbf']}\n",
    "svr_gscv=GridSearchCV(estimator=SVR(),param_grid=params_dict,scoring='neg_mean_squared_error',cv=5)\n",
    "svr_gscv.fit(x_train,y_train)\n",
    "svr_gscv.best_params_"
   ]
  },
  {
   "cell_type": "code",
   "execution_count": null,
   "metadata": {},
   "outputs": [],
   "source": [
    "svr_pred_y = svr_gscv.predict(x_test)\n",
    "metrics.mean_squared_error(svr_pred_y, y_test)"
   ]
  },
  {
   "cell_type": "markdown",
   "metadata": {},
   "source": [
    "## LightGBM"
   ]
  },
  {
   "cell_type": "code",
   "execution_count": 51,
   "metadata": {},
   "outputs": [],
   "source": [
    "x_try = x_train.iloc[0:22673,]\n",
    "y_try = y_train.iloc[0:22673,]"
   ]
  },
  {
   "cell_type": "markdown",
   "metadata": {},
   "source": [
    "{'learning_rate': 0.1, 'n_estimators': 100, 'num_leaves': 24} mse = 81355.95959205378\n"
   ]
  },
  {
   "cell_type": "code",
   "execution_count": 61,
   "metadata": {},
   "outputs": [
    {
     "data": {
      "text/plain": [
       "{'learning_rate': 0.1, 'n_estimators': 100, 'num_leaves': 24}"
      ]
     },
     "execution_count": 61,
     "metadata": {},
     "output_type": "execute_result"
    }
   ],
   "source": [
    "params_dict={'num_leaves':[23, 24, 25],'n_estimators':[100, 125, 150],'learning_rate':[0.09, 0.1, 0.11]}\n",
    "lgbm_gscv=GridSearchCV(estimator=LGBMRegressor(),param_grid=params_dict,scoring='neg_mean_squared_error',cv=10)\n",
    "lgbm_gscv.fit(x_try, y_try)\n",
    "lgbm_gscv.best_params_"
   ]
  },
  {
   "cell_type": "code",
   "execution_count": 59,
   "metadata": {},
   "outputs": [],
   "source": [
    "lgbm_pred_y = lgbm_gscv.predict(x_test)"
   ]
  },
  {
   "cell_type": "code",
   "execution_count": 60,
   "metadata": {},
   "outputs": [
    {
     "data": {
      "text/plain": [
       "81355.95959205378"
      ]
     },
     "execution_count": 60,
     "metadata": {},
     "output_type": "execute_result"
    }
   ],
   "source": [
    "metrics.mean_squared_error(lgbm_pred_y, y_test)"
   ]
  },
  {
   "cell_type": "code",
   "execution_count": null,
   "metadata": {},
   "outputs": [],
   "source": [
    "# 调参结果\n",
    "lgbm_try = LGBMRegressor(num_leaves = 31, n_estimators = 30, learning_rate = 0.2)\n",
    "# num_leaves = 31, n_estimators = 30, learning_rate = 0.2 MSE 82267.22790939707\n",
    "# num_leaves = 31, n_estimators = 50, learning_rate = 0.2 MSE 82041.03707086027"
   ]
  },
  {
   "cell_type": "markdown",
   "metadata": {},
   "source": [
    "## Neural Network"
   ]
  },
  {
   "cell_type": "code",
   "execution_count": null,
   "metadata": {},
   "outputs": [],
   "source": [
    "# learning_rate_init: 默认为0.001，learning_rate=constant means learning rate 一直保持初始的这个值(learning rate init),\n",
    "params_dict={'hidden_layer_sizes':[(5),(10),(15),(20),(10,2),(10,5),(10,10),(20,10)]}\n",
    "clf_nn =GridSearchCV(estimator = neural_network.MLPRegressor(activation=\"relu\",\n",
    "                 solver='adam', alpha=0.0001,\n",
    "                 batch_size='auto', learning_rate=\"constant\",\n",
    "                 learning_rate_init=0.001, power_t=0.5, max_iter=500 ,tol=1e-4),param_grid=params_dict,cv=5)\n",
    "clf_nn.fit(x_train,y_train)"
   ]
  },
  {
   "cell_type": "code",
   "execution_count": null,
   "metadata": {},
   "outputs": [],
   "source": [
    "clf_nn.best_params_"
   ]
  },
  {
   "cell_type": "code",
   "execution_count": null,
   "metadata": {},
   "outputs": [],
   "source": [
    "nn_estimate_y=clf_nn.predict(x_train)\n",
    "metrics.mean_squared_error(nn_estimate_y, y_train)"
   ]
  },
  {
   "cell_type": "code",
   "execution_count": null,
   "metadata": {},
   "outputs": [],
   "source": [
    "nn_pred_y=clf_nn.predict(x_test)\n",
    "metrics.mean_squared_error(nn_pred_y, y_test)"
   ]
  },
  {
   "cell_type": "code",
   "execution_count": 59,
   "metadata": {},
   "outputs": [],
   "source": [
    "mlpr = MLPRegressor(random_state=1, max_iter=500).fit(x_train, y_train)"
   ]
  },
  {
   "cell_type": "code",
   "execution_count": 60,
   "metadata": {},
   "outputs": [
    {
     "data": {
      "text/plain": [
       "60146.973467169766"
      ]
     },
     "execution_count": 60,
     "metadata": {},
     "output_type": "execute_result"
    }
   ],
   "source": [
    "nn_estimate_y=mlpr.predict(x_train)\n",
    "metrics.mean_squared_error(nn_estimate_y, y_train)"
   ]
  },
  {
   "cell_type": "code",
   "execution_count": 61,
   "metadata": {},
   "outputs": [
    {
     "data": {
      "text/plain": [
       "81377.09921569008"
      ]
     },
     "execution_count": 61,
     "metadata": {},
     "output_type": "execute_result"
    }
   ],
   "source": [
    "nn_pred_y=mlpr.predict(x_test)\n",
    "metrics.mean_squared_error(nn_pred_y, y_test)"
   ]
  },
  {
   "cell_type": "markdown",
   "metadata": {},
   "source": [
    "## 3.2 replicate the original figure 5 : OLS estimate"
   ]
  }
 ],
 "metadata": {
  "kernelspec": {
   "display_name": "Python 3",
   "language": "python",
   "name": "python3"
  },
  "language_info": {
   "codemirror_mode": {
    "name": "ipython",
    "version": 3
   },
   "file_extension": ".py",
   "mimetype": "text/x-python",
   "name": "python",
   "nbconvert_exporter": "python",
   "pygments_lexer": "ipython3",
   "version": "3.8.5"
  }
 },
 "nbformat": 4,
 "nbformat_minor": 4
}
